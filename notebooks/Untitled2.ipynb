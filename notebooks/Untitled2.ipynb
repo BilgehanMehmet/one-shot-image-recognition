{
 "cells": [
  {
   "cell_type": "code",
   "execution_count": 1,
   "metadata": {},
   "outputs": [],
   "source": [
    "import sys\n",
    "sys.path.append('..')\n",
    "from networks.siamese.omniglot import Omniglot\n",
    "import numpy as np\n",
    "import tensorflow as tf\n",
    "import matplotlib.pyplot as plt\n",
    "# from datasets import Loader"
   ]
  },
  {
   "cell_type": "code",
   "execution_count": 10,
   "metadata": {},
   "outputs": [
    {
     "name": "stdout",
     "output_type": "stream",
     "text": [
      "Twin_1_dist_layer:Tensor(\"Sigmoid:0\", shape=(4096, ?), dtype=float32)\n",
      "Twin_2_dist_layer:Tensor(\"Sigmoid_1:0\", shape=(4096, ?), dtype=float32)\n",
      "logits:Tensor(\"Add_10:0\", shape=(1, ?), dtype=float32)\n",
      "cost:Tensor(\"Mean:0\", shape=(), dtype=float32)\n",
      "optimizer:[<tf.Operation 'Momentum' type=NoOp>, <tf.Operation 'Momentum_1' type=NoOp>, <tf.Operation 'Momentum_2' type=NoOp>, <tf.Operation 'Momentum_3' type=NoOp>, <tf.Operation 'Momentum_4' type=NoOp>, <tf.Operation 'Momentum_5' type=NoOp>]\n",
      "accuracy:Tensor(\"Mean_1:0\", shape=(), dtype=float32)\n"
     ]
    }
   ],
   "source": [
    "tf.reset_default_graph()\n",
    "nn = Omniglot(shape=(105,105))\n",
    "nn.forward_prop()\n",
    "nn.compute_cost(mode='l2_on')\n",
    "nn.optimize('Momentum')\n",
    "nn.accuracy()\n",
    "print(nn)"
   ]
  },
  {
   "cell_type": "code",
   "execution_count": 2,
   "metadata": {},
   "outputs": [],
   "source": [
    "orl = Loader(n_examples=10,mode=\"orl_split\",path='/Users/mehmetbezcioglu/Documents/SEMESTER1/ThirdYearProject',normalise=True)"
   ]
  },
  {
   "cell_type": "markdown",
   "metadata": {},
   "source": [
    "# Re-arrange the ORL dataset\n",
    "Re-arrange from: \n",
    "<b>(40,10,105,105,1)</b> to:\n",
    "\n",
    "-  (30,2,105,105,1) = `train_set`\n",
    "-  (30,8,105,105,1) = `validation_set`\n",
    "-  (10,10,105,105,1) = `one_shot_set`"
   ]
  },
  {
   "cell_type": "code",
   "execution_count": 5,
   "metadata": {},
   "outputs": [
    {
     "name": "stdout",
     "output_type": "stream",
     "text": [
      "(30, 8, 105, 105, 1)\n",
      "(30, 2, 105, 105, 1)\n",
      "(10, 10, 105, 105, 1)\n"
     ]
    }
   ],
   "source": [
    "# orl.X = orl.X.reshape(-1,105*105)\n",
    "print(orl.X.shape)\n",
    "print(orl.X_validation.shape)\n",
    "print(orl.one_shot_set.shape)"
   ]
  },
  {
   "cell_type": "code",
   "execution_count": 9,
   "metadata": {},
   "outputs": [
    {
     "data": {
      "image/png": "[encoded data removed]",
      "text/plain": [
       "<Figure size 432x288 with 1 Axes>"
      ]
     },
     "metadata": {
      "needs_background": "light"
     },
     "output_type": "display_data"
    }
   ],
   "source": [
    "plt.imshow(orl.one_shot_set[1,0].reshape(105,105),cmap='gray')\n",
    "plt.show()"
   ]
  },
  {
   "cell_type": "code",
   "execution_count": 13,
   "metadata": {},
   "outputs": [],
   "source": [
    "def generateOneShotTrials(X,size):\n",
    "    '''\n",
    "    Generates one shot trial for the data given where one one-shot trial is comparing one image against n-images.\n",
    "    Therefore, comparing 20 different images against 20 images is 20 one-shot trials of each trial being 20-way.\n",
    "\n",
    "    Arguments:\n",
    "    data -- shape = (n_chars, n_drawers, 105, 105, 1)\n",
    "\n",
    "    Returns:\n",
    "    trainImgs -- shape  (20,105,105,1)\n",
    "    testImgs -- shape (20,105,105,1)\n",
    "    labels -- shape(1,20)\n",
    "    '''\n",
    "    chars = np.random.randint(low= 0,high= X.shape[0],size=size)\n",
    "    drawers = np.random.randint(low=0 ,high=X[chars].shape[1],size=2) if X.shape[1] > 2 else np.random.permutation(2)\n",
    "    testImgs = X[chars,drawers[0]]\n",
    "    trainImgs = X[chars,drawers[1]]\n",
    "    labels = chars\n",
    "    return (testImgs,trainImgs,labels.reshape(1,size))"
   ]
  },
  {
   "cell_type": "code",
   "execution_count": 20,
   "metadata": {},
   "outputs": [
    {
     "data": {
      "text/plain": [
       "(10, 105, 105, 1)"
      ]
     },
     "execution_count": 20,
     "metadata": {},
     "output_type": "execute_result"
    }
   ],
   "source": [
    "# test_imgs, train_imgs, labels = generateOneShotTrials(orl.X_validation,size=10)          \n",
    "test_imgs, train_imgs, labels = generateOneShotTrials(orl.one_shot_set,size=10)  \n",
    "test_imgs.shape\n",
    "# labels.shape"
   ]
  },
  {
   "cell_type": "code",
   "execution_count": 39,
   "metadata": {},
   "outputs": [],
   "source": [
    "import os\n",
    "import cv2\n",
    "\n",
    "class Loader(object):\n",
    "    file_number = 0\n",
    "    def __init__(self,n_examples,mode,path='/Users/mehmetbezcioglu/Downloads/images_background',normalise=False):\n",
    "        self.X = []\n",
    "        self.paths = []\n",
    "        if mode == \"train_split\":\n",
    "            self.X_validation = [] \n",
    "        if mode == \"orl_split\":\n",
    "            self.X_validation = [] \n",
    "            self.one_shot_set = []\n",
    "            self.one_shot_directories = ['s1','s2','s3','s4','s5','s6','s7','s8','s9','s10']\n",
    "        append_one_shot_set = False\n",
    "        for subdirectory,_,files in os.walk(path):\n",
    "            if subdirectory.split('/')[-1] in self.one_shot_directories:\n",
    "                append_one_shot_set = True\n",
    "            for file in files:\n",
    "                if \".png\" in file or \".pgm\" in file:\n",
    "                    if append_one_shot_set:\n",
    "                        self.one_shot_set.append(self.import_and_resize_image(os.path.join(subdirectory,file)))\n",
    "                        continue\n",
    "\n",
    "                    if ((mode == \"train_split\") and ((\"_19\" in file) or (\"_20\" in file))):\n",
    "                            self.X_validation.append(self.import_and_resize_image(os.path.join(subdirectory,file)))\n",
    "                            continue\n",
    "                    if ((mode == \"orl_split\") and ((\"9\" in file) or (\"10\" in file))):\n",
    "                            self.X_validation.append(self.import_and_resize_image(os.path.join(subdirectory,file)))\n",
    "                            continue\n",
    "                    if int(file.split('_')[-1].split('.')[0]) <= n_examples:\n",
    "                        self.X.append(self.import_and_resize_image(os.path.join(subdirectory,file)))\n",
    "                        self.paths.append(os.path.join(subdirectory,file))\n",
    "            append_one_shot_set = False\n",
    "\n",
    "        self.X = self._normalise(self.X,n_examples = n_examples-2,normalise= normalise) if mode == \"train_split\" or mode == \"orl_split\" else self._normalise(self.X,n_examples = n_examples,normalise= normalise)\n",
    "        self.X_validation = self._normalise(self.X_validation,n_examples = 2,normalise= normalise) if mode == \"train_split\" or mode == \"orl_split\"  else None\n",
    "        self.one_shot_set = self._normalise(self.one_shot_set,n_examples = len(self.one_shot_directories) , normalise = normalise) if mode == \"orl_split\" else None\n",
    "\n",
    "\n",
    "    @staticmethod\n",
    "    def _normalise(X,n_examples,normalise):\n",
    "        remainder = len(X) % n_examples\n",
    "        if remainder:\n",
    "            X = np.asarray(X)[:-remainder]\n",
    "        else:\n",
    "            X = np.asarray(X)\n",
    "        # print(X.shape)\n",
    "        X = X.reshape(-1,n_examples,X.shape[1],X.shape[2],1)\t\n",
    "        if normalise:\n",
    "            X = X.reshape(-1,105*105)\n",
    "            mu = np.mean(X,axis=0).reshape(1,11025)\n",
    "            std = np.std(X,axis=0).reshape(1,11025)\n",
    "            X = np.subtract(X,mu)\n",
    "            X /= (std + 1e-100)\n",
    "            X = X.reshape(-1,n_examples,105,105,1)\n",
    "            # X = X / 255.\n",
    "        return X\n",
    "\n",
    "\n",
    "    def generateOneShotTrials(self,X,size):\n",
    "        '''\n",
    "        Generates one shot trial for the data given where one one-shot trial is comparing one image against n-images.\n",
    "        Therefore, comparing 'size' number of different images against 'size' images is 'size' one-shot trials of each trial being 'size'-way.\n",
    "\n",
    "        Arguments:\n",
    "            data -- shape = (n_chars, n_drawers, 105, 105, 1)\n",
    "\n",
    "        Returns:\n",
    "            trainImgs -- shape  (size,105,105,1)\n",
    "            testImgs -- shape (size,105,105,1)\n",
    "            labels -- shape(1,size)\n",
    "        '''\n",
    "        # print(\"in function\")\n",
    "        chars = np.random.randint(low= 0,high= X.shape[0],size=size)\n",
    "        # print()\n",
    "        # print(\"Characters drawn:{}\".format(chars))\n",
    "        # print(\"X[chars].shape: {}\".format(X[chars].shape))\n",
    "        drawers = np.random.randint(low=0 ,high=X[chars].shape[1],size=2) if X.shape[1] > 2 else np.random.permutation(2)\n",
    "        # print(\"Drawers drawn:{}\".format(drawers))\n",
    "        testImgs = X[chars,drawers[0]]\n",
    "        trainImgs = X[chars,drawers[1]]\n",
    "    #     trainImgs = \n",
    "        # print(testImgs.shape)\n",
    "        # print(trainImgs.shape)\n",
    "        labels = chars\n",
    "    #     plt.imshow(testImgs[0].reshape(105,105),cmap='gray')\n",
    "    #     plt.show()\n",
    "    #     plt.imshow(testImgs[1].reshape(105,105),cmap='gray')\n",
    "    #     plt.show()\n",
    "    #     plt.imshow(trainImgs[0].reshape(105,105),cmap='gray')\n",
    "    #     plt.show()\n",
    "    #     plt.imshow(trainImgs[1].reshape(105,105),cmap='gray')\n",
    "    #     plt.show()\n",
    "\n",
    "        return (testImgs,trainImgs,labels.reshape(1,size))\n",
    "\n",
    "\n",
    "\n",
    "\n",
    "    def get_one_batch(self,batch_size,drawer_size,seed):\n",
    "        \"\"\"\n",
    "        Generates training batches of batch_size where each element in the batch is a pair.\n",
    "        This function generates random indexes between 0 and number of characters in the dataset.\n",
    "        It also randomly generates two numbers corresponding to the drawers selected to pick the corresponding\n",
    "        images in the data. \n",
    "        Lastly, it generates a second character indices vector to select different characters in the data.\n",
    "\n",
    "        The first half of the X1 and X2 is labelled as 'SAME' class denoted by 0 in the labels variable.\n",
    "        The second half is labelled as 'DIFFERENT' class denoted by 1 in the labels variable.\n",
    "\n",
    "        Arguments:\n",
    "            - batch_size: integer specifing the batch length\n",
    "            - drawer_size: integer specifying the number of drawer to pick for each character\n",
    "\n",
    "        Returns:\n",
    "            - training batch first pair X1\n",
    "                - shape: (batch_size,105,105,1)\n",
    "                - type: numpy array\n",
    "            - training batch first pair X2 \n",
    "                - shape: (batch_size,105,105,1)\n",
    "                - type: numpy array\n",
    "            - training labels \n",
    "                - shape: (1,batch_size)\n",
    "                - type : numpy array\n",
    "        \"\"\"\n",
    "        np.random.seed(seed)\n",
    "        _chars = np.random.randint(0,self.X_validation.shape[0],size=batch_size)\n",
    "        # print(\"Randomly chosen character indices in the dataset:{}\".format(_chars))\n",
    "        _drawers = np.random.randint(0,self.X_validation.shape[1],size=drawer_size) if self.X_validation.shape[1] > 2 else np.random.permutation(2)\n",
    "        # print(\"Randomly chosen drawer indices for each chosen character:{}\".format(_drawers))\n",
    "\n",
    "\n",
    "        X1 = np.asarray(self.X_validation[_chars,_drawers[0]])\n",
    "        X2 = np.asarray(self.X_validation[_chars[:batch_size//2],_drawers[1]])\n",
    "#         print(X1.shape)\n",
    "        # select the second char indices for 'DIFFERENT' chars\n",
    "        _chars_ = (np.random.randint(0,self.X_validation.shape[0],size=batch_size//2) + _chars[batch_size//2:])% self.X_validation.shape[0]\n",
    "        # print(\"Second chosen characters indices in the dataset:{}\".format(_chars_))\n",
    "        X2 = np.concatenate((X2,np.asarray(self.X_validation[_chars_,_drawers[0]])),axis=0)\n",
    "        # print(X1.shape)\n",
    "        # print(X2.shape)\n",
    "\n",
    "        labels = np.concatenate((np.zeros([1,batch_size//2]),np.ones([1,batch_size//2])),axis=1)\n",
    "        # print(labels)\n",
    "        return (X1,X2,labels)\n",
    "\n",
    "\n",
    "    def get_training_pairs(self,batch_size,drawer_size,seed):\n",
    "        m = self.X_validation.shape[0] * self.X_validation.shape[1]\n",
    "        iters = m // batch_size\n",
    "        assert iters != 0, \"Batch size should be less than the number of examples.\"\n",
    "        batch = []\n",
    "        for i in range(iters):\n",
    "            seed += 1\n",
    "            batch.append(self.get_one_batch(batch_size,drawer_size,seed))\n",
    "        return batch\n",
    "\n",
    "\n",
    "    def import_and_resize_image(self,path):\n",
    "        # print(path)\n",
    "        img = cv2.imread(path,cv2.IMREAD_GRAYSCALE)\n",
    "        # print('image shape:{}'.format(img.shape))\n",
    "        # img_reshaped = cv2.resize(img,(28,28),interpolation=cv2.INTER_CUBIC)\n",
    "        # print('resized image shape:{}'.format(img_reshaped.shape))\n",
    "        return img.reshape(105,105)\n",
    "\n",
    "    def display_image(self,character,drawer):\n",
    "        # assert(img.shape == (28,28))\n",
    "        # cv2.imshow('28x28',img)\n",
    "        # cv2.waitKey(0)\n",
    "        # cv2.destroyAllWindows()\n",
    "        print(\"Selected image shape:{}\".format(self.X[character,drawer].shape))\n",
    "        plt.imshow(self.X[character,drawer].reshape(105,105),cmap='gray')\n",
    "        plt.show()\n"
   ]
  },
  {
   "cell_type": "code",
   "execution_count": 40,
   "metadata": {},
   "outputs": [],
   "source": [
    "orl = Loader(n_examples=10,mode=\"orl_split\",path='/Users/mehmetbezcioglu/Documents/SEMESTER1/ThirdYearProject',normalise=True)"
   ]
  },
  {
   "cell_type": "code",
   "execution_count": 41,
   "metadata": {},
   "outputs": [
    {
     "data": {
      "image/png": "[encoded data removed]",
      "text/plain": [
       "<Figure size 432x288 with 1 Axes>"
      ]
     },
     "metadata": {
      "needs_background": "light"
     },
     "output_type": "display_data"
    }
   ],
   "source": [
    "plt.imshow(orl.X_validation[0,0].reshape(105,105),cmap='gray')\n",
    "plt.show()"
   ]
  },
  {
   "cell_type": "code",
   "execution_count": 42,
   "metadata": {},
   "outputs": [
    {
     "name": "stdout",
     "output_type": "stream",
     "text": [
      "orl.X.shape:(30, 8, 105, 105, 1)\n",
      "orl.X_validation.shape:(30, 2, 105, 105, 1)\n"
     ]
    }
   ],
   "source": [
    "print(\"orl.X.shape:{}\".format(orl.X.shape))\n",
    "print(\"orl.X_validation.shape:{}\".format(orl.X_validation.shape))\n",
    "batch = orl.get_training_pairs(8,2,1)"
   ]
  },
  {
   "cell_type": "code",
   "execution_count": 47,
   "metadata": {},
   "outputs": [
    {
     "name": "stdout",
     "output_type": "stream",
     "text": [
      "7\n",
      "3\n",
      "(8, 105, 105, 1)\n"
     ]
    }
   ],
   "source": [
    "print(len(batch))\n",
    "print(len(batch[0]))\n",
    "print(batch[0][0].shape)"
   ]
  },
  {
   "cell_type": "code",
   "execution_count": null,
   "metadata": {},
   "outputs": [],
   "source": []
  }
 ],
 "metadata": {
  "kernelspec": {
   "display_name": "Python 3",
   "language": "python",
   "name": "python3"
  },
  "language_info": {
   "codemirror_mode": {
    "name": "ipython",
    "version": 3
   },
   "file_extension": ".py",
   "mimetype": "text/x-python",
   "name": "python",
   "nbconvert_exporter": "python",
   "pygments_lexer": "ipython3",
   "version": "3.5.2"
  }
 },
 "nbformat": 4,
 "nbformat_minor": 2
}
