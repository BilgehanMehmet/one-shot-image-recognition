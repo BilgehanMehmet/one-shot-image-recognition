{
 "cells": [
  {
   "cell_type": "code",
   "execution_count": 1,
   "metadata": {},
   "outputs": [],
   "source": [
    "import numpy as np\n",
    "import matplotlib.pyplot as plt\n",
    "import tensorflow as tf\n",
    "import sys"
   ]
  },
  {
   "cell_type": "code",
   "execution_count": 21,
   "metadata": {},
   "outputs": [
    {
     "data": {
      "text/plain": [
       "['',\n",
       " '/Users/mehmetbezcioglu/mjpro150',\n",
       " '/Users/mehmetbezcioglu/Documents/SEMESTER1/DeepLearning/one_shot_learning/image_similarity/notebooks',\n",
       " '/Users/mehmetbezcioglu/miniconda3/envs/env352/lib/python35.zip',\n",
       " '/Users/mehmetbezcioglu/miniconda3/envs/env352/lib/python3.5',\n",
       " '/Users/mehmetbezcioglu/miniconda3/envs/env352/lib/python3.5/plat-darwin',\n",
       " '/Users/mehmetbezcioglu/miniconda3/envs/env352/lib/python3.5/lib-dynload',\n",
       " '/Users/mehmetbezcioglu/miniconda3/envs/env352/lib/python3.5/site-packages',\n",
       " '/Users/mehmetbezcioglu/miniconda3/envs/env352/lib/python3.5/site-packages/IPython/extensions',\n",
       " '/Users/mehmetbezcioglu/.ipython',\n",
       " '/Users/mehmetbezcioglu/Documents/SEMESTER1/DeepLearning/one_shot_learning/image_similarity/datasets',\n",
       " '/Users/mehmetbezcioglu/Documents/SEMESTER1/DeepLearning/one_shot_learning/image_similarity/models',\n",
       " '/Users/mehmetbezcioglu/Documents/SEMESTER1/DeepLearning/one_shot_learning/image_similarity/networks']"
      ]
     },
     "execution_count": 21,
     "metadata": {},
     "output_type": "execute_result"
    }
   ],
   "source": [
    "if not '/Users/mehmetbezcioglu/Documents/SEMESTER1/DeepLearning/one_shot_learning/image_similarity/datasets' in sys.path:\n",
    "    sys.path.append('/Users/mehmetbezcioglu/Documents/SEMESTER1/DeepLearning/one_shot_learning/image_similarity/datasets')\n",
    "\n",
    "if not '/Users/mehmetbezcioglu/Documents/SEMESTER1/DeepLearning/one_shot_learning/image_similarity/networks' in sys.path:\n",
    "    sys.path.append('/Users/mehmetbezcioglu/Documents/SEMESTER1/DeepLearning/one_shot_learning/image_similarity/networks')\n",
    "sys.path"
   ]
  },
  {
   "cell_type": "code",
   "execution_count": 22,
   "metadata": {},
   "outputs": [],
   "source": [
    "import Siamese_Dataset_Loader as Dataset\n",
    "from Convolutional_Siamese import *"
   ]
  },
  {
   "cell_type": "code",
   "execution_count": 4,
   "metadata": {},
   "outputs": [
    {
     "ename": "KeyboardInterrupt",
     "evalue": "",
     "output_type": "error",
     "traceback": [
      "\u001b[0;31m---------------------------------------------------------------------------\u001b[0m",
      "\u001b[0;31mKeyboardInterrupt\u001b[0m                         Traceback (most recent call last)",
      "\u001b[0;32m<ipython-input-4-8be1f8e190f7>\u001b[0m in \u001b[0;36m<module>\u001b[0;34m\u001b[0m\n\u001b[0;32m----> 1\u001b[0;31m \u001b[0mdata\u001b[0m \u001b[0;34m=\u001b[0m \u001b[0mDataset\u001b[0m\u001b[0;34m.\u001b[0m\u001b[0mLoader\u001b[0m\u001b[0;34m(\u001b[0m\u001b[0mn_examples\u001b[0m \u001b[0;34m=\u001b[0m \u001b[0;36m20\u001b[0m\u001b[0;34m,\u001b[0m \u001b[0mmode\u001b[0m\u001b[0;34m=\u001b[0m \u001b[0;34m\"train_split\"\u001b[0m\u001b[0;34m,\u001b[0m\u001b[0mnormalise\u001b[0m \u001b[0;34m=\u001b[0m \u001b[0;32mTrue\u001b[0m\u001b[0;34m)\u001b[0m\u001b[0;34m\u001b[0m\u001b[0m\n\u001b[0m",
      "\u001b[0;32m~/Documents/SEMESTER1/DeepLearning/one_shot_learning/image_similarity/datasets/Siamese_Dataset_Loader.py\u001b[0m in \u001b[0;36m__init__\u001b[0;34m(self, n_examples, mode, path, normalise)\u001b[0m\n\u001b[1;32m     22\u001b[0m                                         \u001b[0;31m# file_.write(os.path.join(subdirectory,file) + '\\n')\u001b[0m\u001b[0;34m\u001b[0m\u001b[0;34m\u001b[0m\u001b[0m\n\u001b[1;32m     23\u001b[0m                                         \u001b[0;32mif\u001b[0m \u001b[0mint\u001b[0m\u001b[0;34m(\u001b[0m\u001b[0mfile\u001b[0m\u001b[0;34m.\u001b[0m\u001b[0msplit\u001b[0m\u001b[0;34m(\u001b[0m\u001b[0;34m'_'\u001b[0m\u001b[0;34m)\u001b[0m\u001b[0;34m[\u001b[0m\u001b[0;34m-\u001b[0m\u001b[0;36m1\u001b[0m\u001b[0;34m]\u001b[0m\u001b[0;34m.\u001b[0m\u001b[0msplit\u001b[0m\u001b[0;34m(\u001b[0m\u001b[0;34m'.'\u001b[0m\u001b[0;34m)\u001b[0m\u001b[0;34m[\u001b[0m\u001b[0;36m0\u001b[0m\u001b[0;34m]\u001b[0m\u001b[0;34m)\u001b[0m \u001b[0;34m<=\u001b[0m \u001b[0mn_examples\u001b[0m\u001b[0;34m:\u001b[0m\u001b[0;34m\u001b[0m\u001b[0m\n\u001b[0;32m---> 24\u001b[0;31m                                                 \u001b[0mself\u001b[0m\u001b[0;34m.\u001b[0m\u001b[0mX\u001b[0m\u001b[0;34m.\u001b[0m\u001b[0mappend\u001b[0m\u001b[0;34m(\u001b[0m\u001b[0mself\u001b[0m\u001b[0;34m.\u001b[0m\u001b[0mimport_and_resize_image\u001b[0m\u001b[0;34m(\u001b[0m\u001b[0mos\u001b[0m\u001b[0;34m.\u001b[0m\u001b[0mpath\u001b[0m\u001b[0;34m.\u001b[0m\u001b[0mjoin\u001b[0m\u001b[0;34m(\u001b[0m\u001b[0msubdirectory\u001b[0m\u001b[0;34m,\u001b[0m\u001b[0mfile\u001b[0m\u001b[0;34m)\u001b[0m\u001b[0;34m)\u001b[0m\u001b[0;34m)\u001b[0m\u001b[0;34m\u001b[0m\u001b[0m\n\u001b[0m\u001b[1;32m     25\u001b[0m                                                 \u001b[0mself\u001b[0m\u001b[0;34m.\u001b[0m\u001b[0mpaths\u001b[0m\u001b[0;34m.\u001b[0m\u001b[0mappend\u001b[0m\u001b[0;34m(\u001b[0m\u001b[0mos\u001b[0m\u001b[0;34m.\u001b[0m\u001b[0mpath\u001b[0m\u001b[0;34m.\u001b[0m\u001b[0mjoin\u001b[0m\u001b[0;34m(\u001b[0m\u001b[0msubdirectory\u001b[0m\u001b[0;34m,\u001b[0m\u001b[0mfile\u001b[0m\u001b[0;34m)\u001b[0m\u001b[0;34m)\u001b[0m\u001b[0;34m\u001b[0m\u001b[0m\n\u001b[1;32m     26\u001b[0m                 \u001b[0;31m# self.X = np.asarray(self.X)[:-10]\u001b[0m\u001b[0;34m\u001b[0m\u001b[0;34m\u001b[0m\u001b[0m\n",
      "\u001b[0;32m~/Documents/SEMESTER1/DeepLearning/one_shot_learning/image_similarity/datasets/Siamese_Dataset_Loader.py\u001b[0m in \u001b[0;36mimport_and_resize_image\u001b[0;34m(self, path)\u001b[0m\n\u001b[1;32m    167\u001b[0m         \u001b[0;32mdef\u001b[0m \u001b[0mimport_and_resize_image\u001b[0m\u001b[0;34m(\u001b[0m\u001b[0mself\u001b[0m\u001b[0;34m,\u001b[0m\u001b[0mpath\u001b[0m\u001b[0;34m)\u001b[0m\u001b[0;34m:\u001b[0m\u001b[0;34m\u001b[0m\u001b[0m\n\u001b[1;32m    168\u001b[0m                 \u001b[0;31m# print(path)\u001b[0m\u001b[0;34m\u001b[0m\u001b[0;34m\u001b[0m\u001b[0m\n\u001b[0;32m--> 169\u001b[0;31m                 \u001b[0mimg\u001b[0m \u001b[0;34m=\u001b[0m \u001b[0mcv2\u001b[0m\u001b[0;34m.\u001b[0m\u001b[0mimread\u001b[0m\u001b[0;34m(\u001b[0m\u001b[0mpath\u001b[0m\u001b[0;34m,\u001b[0m\u001b[0mcv2\u001b[0m\u001b[0;34m.\u001b[0m\u001b[0mIMREAD_GRAYSCALE\u001b[0m\u001b[0;34m)\u001b[0m\u001b[0;34m\u001b[0m\u001b[0m\n\u001b[0m\u001b[1;32m    170\u001b[0m                 \u001b[0;31m# print('image shape:{}'.format(img.shape))\u001b[0m\u001b[0;34m\u001b[0m\u001b[0;34m\u001b[0m\u001b[0m\n\u001b[1;32m    171\u001b[0m                 \u001b[0;31m# img_reshaped = cv2.resize(img,(28,28),interpolation=cv2.INTER_CUBIC)\u001b[0m\u001b[0;34m\u001b[0m\u001b[0;34m\u001b[0m\u001b[0m\n",
      "\u001b[0;31mKeyboardInterrupt\u001b[0m: "
     ]
    }
   ],
   "source": [
    "data = Dataset.Loader(n_examples = 20, mode= \"train_split\",normalise = True)"
   ]
  },
  {
   "cell_type": "code",
   "execution_count": 19,
   "metadata": {},
   "outputs": [
    {
     "name": "stdout",
     "output_type": "stream",
     "text": [
      "(964, 18, 105, 105, 1)\n",
      "(964, 2, 105, 105, 1)\n",
      "[ 37 235 908  72 767 905 715 645 847 960]\n",
      "[168 527 493 584 534 299 466  75 360 263]\n"
     ]
    }
   ],
   "source": [
    "print(\"{}\".format(data.X.shape))\n",
    "print(\"{}\".format(data.X_validation.shape))\n",
    "\n",
    "np.random.seed(1)\n",
    "print(np.random.randint(low=0, high= 964,size=10))\n",
    "\n",
    "np.random.seed(2)\n",
    "print(np.random.randint(low=0, high= 964,size=10))"
   ]
  },
  {
   "cell_type": "code",
   "execution_count": 4,
   "metadata": {},
   "outputs": [
    {
     "name": "stdout",
     "output_type": "stream",
     "text": [
      "6140\n",
      "(307, 20, 105, 105, 1)\n"
     ]
    }
   ],
   "source": [
    "val_data = Dataset.Loader(n_examples = 20, mode= None, path= \"/Users/mehmetbezcioglu/Documents/SEMESTER1/DeepLearning/one_shot_learning/image_similarity/datasets/images_evaluation\",normalise = True)"
   ]
  },
  {
   "cell_type": "code",
   "execution_count": 68,
   "metadata": {},
   "outputs": [
    {
     "name": "stdout",
     "output_type": "stream",
     "text": [
      "[15 16]\n",
      "[ 6 14]\n",
      "[2 7]\n",
      "[5 9]\n",
      "[10 19]\n",
      "[12  4]\n",
      "[0 6]\n",
      "[10 14]\n",
      "[17  8]\n",
      "[14  5]\n",
      "[17 16]\n",
      "[5 0]\n",
      "[9 8]\n",
      "[18 14]\n",
      "[12  9]\n",
      "[15  9]\n",
      "[ 8 18]\n",
      "[12  1]\n",
      "[17  2]\n",
      "[14  2]\n"
     ]
    }
   ],
   "source": [
    "for _ in range(20):\n",
    "    print(np.random.randint(low=0, high= val_data.X.shape[1],size=2))"
   ]
  },
  {
   "cell_type": "code",
   "execution_count": 65,
   "metadata": {},
   "outputs": [
    {
     "name": "stdout",
     "output_type": "stream",
     "text": [
      "Characters drawn:[153  65 268  53  54 280 277 178 149  48]\n",
      "Drawers drawn:[ 9 11]\n"
     ]
    }
   ],
   "source": [
    "test,train,labels = val_data.generateOneShotTrials(val_data.X,10)"
   ]
  },
  {
   "cell_type": "code",
   "execution_count": 58,
   "metadata": {},
   "outputs": [
    {
     "name": "stdout",
     "output_type": "stream",
     "text": [
      "Characters drawn:[686 839 691  64 126 945 540  30 175 353]\n",
      "Drawers drawn:[0 1]\n"
     ]
    }
   ],
   "source": [
    "test,train,labels = data.generateOneShotTrials(data.X_validation,10)"
   ]
  },
  {
   "cell_type": "code",
   "execution_count": 4,
   "metadata": {},
   "outputs": [
    {
     "name": "stdout",
     "output_type": "stream",
     "text": [
      "(112, 92)\n"
     ]
    }
   ],
   "source": [
    "import cv2\n",
    "img = cv2.imread(\"/Users/mehmetbezcioglu/Documents/SEMESTER1/ThirdYearProject/testImage.pgm\",0)\n",
    "print(img.shape)"
   ]
  },
  {
   "cell_type": "code",
   "execution_count": 8,
   "metadata": {},
   "outputs": [
    {
     "data": {
      "text/plain": [
       "(86, 105)"
      ]
     },
     "execution_count": 8,
     "metadata": {},
     "output_type": "execute_result"
    }
   ],
   "source": [
    "img_resized = cv2.resize(img,(105,int(105*92/112)),cv2.INTER_AREA)\n",
    "img_resized.shape"
   ]
  },
  {
   "cell_type": "code",
   "execution_count": 10,
   "metadata": {},
   "outputs": [
    {
     "data": {
      "text/plain": [
       "True"
      ]
     },
     "execution_count": 10,
     "metadata": {},
     "output_type": "execute_result"
    }
   ],
   "source": [
    "cv2.imwrite('/Users/mehmetbezcioglu/Documents/SEMESTER1/ThirdYearProject/img_resized.jpeg',img_resized)"
   ]
  },
  {
   "cell_type": "code",
   "execution_count": 26,
   "metadata": {},
   "outputs": [
    {
     "data": {
      "text/plain": [
       "(112, 92, 1)"
      ]
     },
     "execution_count": 26,
     "metadata": {},
     "output_type": "execute_result"
    }
   ],
   "source": [
    "img.reshape(img.shape[0],img.shape[1],1).shape"
   ]
  },
  {
   "cell_type": "code",
   "execution_count": 32,
   "metadata": {},
   "outputs": [
    {
     "name": "stdout",
     "output_type": "stream",
     "text": [
      "(105, 105, 1)\n"
     ]
    },
    {
     "data": {
      "text/plain": [
       "(105, 105, 1)"
      ]
     },
     "execution_count": 32,
     "metadata": {},
     "output_type": "execute_result"
    }
   ],
   "source": [
    "\n",
    "img_resized_tf = tf.image.resize_image_with_crop_or_pad(image=img.reshape(img.shape[0],img.shape[1],1), target_height = 105, target_width =105)\n",
    "print(img_resized_tf.shape)\n",
    "img_resized_tf\n",
    "with tf.Session() as sess:\n",
    "    img_ = sess.run(img_resized_tf)\n",
    "img_.shape"
   ]
  },
  {
   "cell_type": "code",
   "execution_count": 33,
   "metadata": {},
   "outputs": [
    {
     "data": {
      "image/png": "[encoded data removed]",
      "text/plain": [
       "<Figure size 432x288 with 1 Axes>"
      ]
     },
     "metadata": {
      "needs_background": "light"
     },
     "output_type": "display_data"
    }
   ],
   "source": [
    "plt.imshow(img_.reshape(105,105),cmap='gray')\n",
    "plt.show()"
   ]
  },
  {
   "cell_type": "code",
   "execution_count": 34,
   "metadata": {},
   "outputs": [
    {
     "data": {
      "image/png": "[encoded data removed]",
      "text/plain": [
       "<Figure size 432x288 with 1 Axes>"
      ]
     },
     "metadata": {
      "needs_background": "light"
     },
     "output_type": "display_data"
    }
   ],
   "source": [
    "plt.imshow(img,cmap='gray')\n",
    "plt.show()"
   ]
  },
  {
   "cell_type": "code",
   "execution_count": 84,
   "metadata": {},
   "outputs": [
    {
     "name": "stdout",
     "output_type": "stream",
     "text": [
      "/Users/mehmetbezcioglu/Documents/SEMESTER1/ThirdYearProject/s34/7.pgm\n",
      "/Users/mehmetbezcioglu/Documents/SEMESTER1/ThirdYearProject/s34/6.pgm\n",
      "/Users/mehmetbezcioglu/Documents/SEMESTER1/ThirdYearProject/s34/4.pgm\n",
      "/Users/mehmetbezcioglu/Documents/SEMESTER1/ThirdYearProject/s34/5.pgm\n",
      "/Users/mehmetbezcioglu/Documents/SEMESTER1/ThirdYearProject/s34/1.pgm\n",
      "/Users/mehmetbezcioglu/Documents/SEMESTER1/ThirdYearProject/s34/2.pgm\n",
      "/Users/mehmetbezcioglu/Documents/SEMESTER1/ThirdYearProject/s34/3.pgm\n",
      "/Users/mehmetbezcioglu/Documents/SEMESTER1/ThirdYearProject/s34/8.pgm\n",
      "/Users/mehmetbezcioglu/Documents/SEMESTER1/ThirdYearProject/s34/9.pgm\n",
      "/Users/mehmetbezcioglu/Documents/SEMESTER1/ThirdYearProject/s34/10.pgm\n",
      "/Users/mehmetbezcioglu/Documents/SEMESTER1/ThirdYearProject/s33/7.pgm\n",
      "/Users/mehmetbezcioglu/Documents/SEMESTER1/ThirdYearProject/s33/6.pgm\n",
      "/Users/mehmetbezcioglu/Documents/SEMESTER1/ThirdYearProject/s33/4.pgm\n",
      "/Users/mehmetbezcioglu/Documents/SEMESTER1/ThirdYearProject/s33/5.pgm\n",
      "/Users/mehmetbezcioglu/Documents/SEMESTER1/ThirdYearProject/s33/1.pgm\n",
      "/Users/mehmetbezcioglu/Documents/SEMESTER1/ThirdYearProject/s33/2.pgm\n",
      "/Users/mehmetbezcioglu/Documents/SEMESTER1/ThirdYearProject/s33/3.pgm\n",
      "/Users/mehmetbezcioglu/Documents/SEMESTER1/ThirdYearProject/s33/8.pgm\n",
      "/Users/mehmetbezcioglu/Documents/SEMESTER1/ThirdYearProject/s33/9.pgm\n",
      "/Users/mehmetbezcioglu/Documents/SEMESTER1/ThirdYearProject/s33/10.pgm\n",
      "/Users/mehmetbezcioglu/Documents/SEMESTER1/ThirdYearProject/s5/7.pgm\n",
      "/Users/mehmetbezcioglu/Documents/SEMESTER1/ThirdYearProject/s5/6.pgm\n",
      "/Users/mehmetbezcioglu/Documents/SEMESTER1/ThirdYearProject/s5/4.pgm\n",
      "/Users/mehmetbezcioglu/Documents/SEMESTER1/ThirdYearProject/s5/5.pgm\n",
      "/Users/mehmetbezcioglu/Documents/SEMESTER1/ThirdYearProject/s5/1.pgm\n",
      "/Users/mehmetbezcioglu/Documents/SEMESTER1/ThirdYearProject/s5/2.pgm\n",
      "/Users/mehmetbezcioglu/Documents/SEMESTER1/ThirdYearProject/s5/3.pgm\n",
      "/Users/mehmetbezcioglu/Documents/SEMESTER1/ThirdYearProject/s5/8.pgm\n",
      "/Users/mehmetbezcioglu/Documents/SEMESTER1/ThirdYearProject/s5/9.pgm\n",
      "/Users/mehmetbezcioglu/Documents/SEMESTER1/ThirdYearProject/s5/10.pgm\n",
      "/Users/mehmetbezcioglu/Documents/SEMESTER1/ThirdYearProject/s2/7.pgm\n",
      "/Users/mehmetbezcioglu/Documents/SEMESTER1/ThirdYearProject/s2/6.pgm\n",
      "/Users/mehmetbezcioglu/Documents/SEMESTER1/ThirdYearProject/s2/4.pgm\n",
      "/Users/mehmetbezcioglu/Documents/SEMESTER1/ThirdYearProject/s2/5.pgm\n",
      "/Users/mehmetbezcioglu/Documents/SEMESTER1/ThirdYearProject/s2/1.pgm\n",
      "/Users/mehmetbezcioglu/Documents/SEMESTER1/ThirdYearProject/s2/2.pgm\n",
      "/Users/mehmetbezcioglu/Documents/SEMESTER1/ThirdYearProject/s2/3.pgm\n",
      "/Users/mehmetbezcioglu/Documents/SEMESTER1/ThirdYearProject/s2/8.pgm\n",
      "/Users/mehmetbezcioglu/Documents/SEMESTER1/ThirdYearProject/s2/9.pgm\n",
      "/Users/mehmetbezcioglu/Documents/SEMESTER1/ThirdYearProject/s2/10.pgm\n",
      "/Users/mehmetbezcioglu/Documents/SEMESTER1/ThirdYearProject/s32/7.pgm\n",
      "/Users/mehmetbezcioglu/Documents/SEMESTER1/ThirdYearProject/s32/6.pgm\n",
      "/Users/mehmetbezcioglu/Documents/SEMESTER1/ThirdYearProject/s32/4.pgm\n",
      "/Users/mehmetbezcioglu/Documents/SEMESTER1/ThirdYearProject/s32/5.pgm\n",
      "/Users/mehmetbezcioglu/Documents/SEMESTER1/ThirdYearProject/s32/1.pgm\n",
      "/Users/mehmetbezcioglu/Documents/SEMESTER1/ThirdYearProject/s32/2.pgm\n",
      "/Users/mehmetbezcioglu/Documents/SEMESTER1/ThirdYearProject/s32/3.pgm\n",
      "/Users/mehmetbezcioglu/Documents/SEMESTER1/ThirdYearProject/s32/8.pgm\n",
      "/Users/mehmetbezcioglu/Documents/SEMESTER1/ThirdYearProject/s32/9.pgm\n",
      "/Users/mehmetbezcioglu/Documents/SEMESTER1/ThirdYearProject/s32/10.pgm\n",
      "/Users/mehmetbezcioglu/Documents/SEMESTER1/ThirdYearProject/s35/7.pgm\n",
      "/Users/mehmetbezcioglu/Documents/SEMESTER1/ThirdYearProject/s35/6.pgm\n",
      "/Users/mehmetbezcioglu/Documents/SEMESTER1/ThirdYearProject/s35/4.pgm\n",
      "/Users/mehmetbezcioglu/Documents/SEMESTER1/ThirdYearProject/s35/5.pgm\n",
      "/Users/mehmetbezcioglu/Documents/SEMESTER1/ThirdYearProject/s35/1.pgm\n",
      "/Users/mehmetbezcioglu/Documents/SEMESTER1/ThirdYearProject/s35/2.pgm\n",
      "/Users/mehmetbezcioglu/Documents/SEMESTER1/ThirdYearProject/s35/3.pgm\n",
      "/Users/mehmetbezcioglu/Documents/SEMESTER1/ThirdYearProject/s35/8.pgm\n",
      "/Users/mehmetbezcioglu/Documents/SEMESTER1/ThirdYearProject/s35/9.pgm\n",
      "/Users/mehmetbezcioglu/Documents/SEMESTER1/ThirdYearProject/s35/10.pgm\n",
      "/Users/mehmetbezcioglu/Documents/SEMESTER1/ThirdYearProject/s3/7.pgm\n",
      "/Users/mehmetbezcioglu/Documents/SEMESTER1/ThirdYearProject/s3/6.pgm\n",
      "/Users/mehmetbezcioglu/Documents/SEMESTER1/ThirdYearProject/s3/4.pgm\n",
      "/Users/mehmetbezcioglu/Documents/SEMESTER1/ThirdYearProject/s3/5.pgm\n",
      "/Users/mehmetbezcioglu/Documents/SEMESTER1/ThirdYearProject/s3/1.pgm\n",
      "/Users/mehmetbezcioglu/Documents/SEMESTER1/ThirdYearProject/s3/2.pgm\n",
      "/Users/mehmetbezcioglu/Documents/SEMESTER1/ThirdYearProject/s3/3.pgm\n",
      "/Users/mehmetbezcioglu/Documents/SEMESTER1/ThirdYearProject/s3/8.pgm\n",
      "/Users/mehmetbezcioglu/Documents/SEMESTER1/ThirdYearProject/s3/9.pgm\n",
      "/Users/mehmetbezcioglu/Documents/SEMESTER1/ThirdYearProject/s3/10.pgm\n",
      "/Users/mehmetbezcioglu/Documents/SEMESTER1/ThirdYearProject/s4/7.pgm\n",
      "/Users/mehmetbezcioglu/Documents/SEMESTER1/ThirdYearProject/s4/6.pgm\n",
      "/Users/mehmetbezcioglu/Documents/SEMESTER1/ThirdYearProject/s4/4.pgm\n",
      "/Users/mehmetbezcioglu/Documents/SEMESTER1/ThirdYearProject/s4/5.pgm\n",
      "/Users/mehmetbezcioglu/Documents/SEMESTER1/ThirdYearProject/s4/1.pgm\n",
      "/Users/mehmetbezcioglu/Documents/SEMESTER1/ThirdYearProject/s4/2.pgm\n",
      "/Users/mehmetbezcioglu/Documents/SEMESTER1/ThirdYearProject/s4/3.pgm\n",
      "/Users/mehmetbezcioglu/Documents/SEMESTER1/ThirdYearProject/s4/8.pgm\n",
      "/Users/mehmetbezcioglu/Documents/SEMESTER1/ThirdYearProject/s4/9.pgm\n",
      "/Users/mehmetbezcioglu/Documents/SEMESTER1/ThirdYearProject/s4/10.pgm\n",
      "/Users/mehmetbezcioglu/Documents/SEMESTER1/ThirdYearProject/s26/7.pgm\n",
      "/Users/mehmetbezcioglu/Documents/SEMESTER1/ThirdYearProject/s26/6.pgm\n",
      "/Users/mehmetbezcioglu/Documents/SEMESTER1/ThirdYearProject/s26/4.pgm\n",
      "/Users/mehmetbezcioglu/Documents/SEMESTER1/ThirdYearProject/s26/5.pgm\n",
      "/Users/mehmetbezcioglu/Documents/SEMESTER1/ThirdYearProject/s26/1.pgm\n",
      "/Users/mehmetbezcioglu/Documents/SEMESTER1/ThirdYearProject/s26/2.pgm\n",
      "/Users/mehmetbezcioglu/Documents/SEMESTER1/ThirdYearProject/s26/3.pgm\n",
      "/Users/mehmetbezcioglu/Documents/SEMESTER1/ThirdYearProject/s26/8.pgm\n",
      "/Users/mehmetbezcioglu/Documents/SEMESTER1/ThirdYearProject/s26/9.pgm\n",
      "/Users/mehmetbezcioglu/Documents/SEMESTER1/ThirdYearProject/s26/10.pgm\n",
      "/Users/mehmetbezcioglu/Documents/SEMESTER1/ThirdYearProject/s19/7.pgm\n",
      "/Users/mehmetbezcioglu/Documents/SEMESTER1/ThirdYearProject/s19/6.pgm\n",
      "/Users/mehmetbezcioglu/Documents/SEMESTER1/ThirdYearProject/s19/4.pgm\n",
      "/Users/mehmetbezcioglu/Documents/SEMESTER1/ThirdYearProject/s19/5.pgm\n",
      "/Users/mehmetbezcioglu/Documents/SEMESTER1/ThirdYearProject/s19/1.pgm\n",
      "/Users/mehmetbezcioglu/Documents/SEMESTER1/ThirdYearProject/s19/2.pgm\n",
      "/Users/mehmetbezcioglu/Documents/SEMESTER1/ThirdYearProject/s19/3.pgm\n",
      "/Users/mehmetbezcioglu/Documents/SEMESTER1/ThirdYearProject/s19/8.pgm\n",
      "/Users/mehmetbezcioglu/Documents/SEMESTER1/ThirdYearProject/s19/9.pgm\n",
      "/Users/mehmetbezcioglu/Documents/SEMESTER1/ThirdYearProject/s19/10.pgm\n",
      "/Users/mehmetbezcioglu/Documents/SEMESTER1/ThirdYearProject/s21/7.pgm\n",
      "/Users/mehmetbezcioglu/Documents/SEMESTER1/ThirdYearProject/s21/6.pgm\n",
      "/Users/mehmetbezcioglu/Documents/SEMESTER1/ThirdYearProject/s21/4.pgm\n",
      "/Users/mehmetbezcioglu/Documents/SEMESTER1/ThirdYearProject/s21/5.pgm\n",
      "/Users/mehmetbezcioglu/Documents/SEMESTER1/ThirdYearProject/s21/1.pgm\n",
      "/Users/mehmetbezcioglu/Documents/SEMESTER1/ThirdYearProject/s21/2.pgm\n",
      "/Users/mehmetbezcioglu/Documents/SEMESTER1/ThirdYearProject/s21/3.pgm\n",
      "/Users/mehmetbezcioglu/Documents/SEMESTER1/ThirdYearProject/s21/8.pgm\n",
      "/Users/mehmetbezcioglu/Documents/SEMESTER1/ThirdYearProject/s21/9.pgm\n",
      "/Users/mehmetbezcioglu/Documents/SEMESTER1/ThirdYearProject/s21/10.pgm\n",
      "/Users/mehmetbezcioglu/Documents/SEMESTER1/ThirdYearProject/s17/7.pgm\n",
      "/Users/mehmetbezcioglu/Documents/SEMESTER1/ThirdYearProject/s17/6.pgm\n",
      "/Users/mehmetbezcioglu/Documents/SEMESTER1/ThirdYearProject/s17/4.pgm\n",
      "/Users/mehmetbezcioglu/Documents/SEMESTER1/ThirdYearProject/s17/5.pgm\n",
      "/Users/mehmetbezcioglu/Documents/SEMESTER1/ThirdYearProject/s17/1.pgm\n",
      "/Users/mehmetbezcioglu/Documents/SEMESTER1/ThirdYearProject/s17/2.pgm\n",
      "/Users/mehmetbezcioglu/Documents/SEMESTER1/ThirdYearProject/s17/3.pgm\n",
      "/Users/mehmetbezcioglu/Documents/SEMESTER1/ThirdYearProject/s17/8.pgm\n",
      "/Users/mehmetbezcioglu/Documents/SEMESTER1/ThirdYearProject/s17/9.pgm\n",
      "/Users/mehmetbezcioglu/Documents/SEMESTER1/ThirdYearProject/s17/10.pgm\n",
      "/Users/mehmetbezcioglu/Documents/SEMESTER1/ThirdYearProject/s28/7.pgm\n",
      "/Users/mehmetbezcioglu/Documents/SEMESTER1/ThirdYearProject/s28/6.pgm\n",
      "/Users/mehmetbezcioglu/Documents/SEMESTER1/ThirdYearProject/s28/4.pgm\n",
      "/Users/mehmetbezcioglu/Documents/SEMESTER1/ThirdYearProject/s28/5.pgm\n",
      "/Users/mehmetbezcioglu/Documents/SEMESTER1/ThirdYearProject/s28/1.pgm\n",
      "/Users/mehmetbezcioglu/Documents/SEMESTER1/ThirdYearProject/s28/2.pgm\n",
      "/Users/mehmetbezcioglu/Documents/SEMESTER1/ThirdYearProject/s28/3.pgm\n",
      "/Users/mehmetbezcioglu/Documents/SEMESTER1/ThirdYearProject/s28/8.pgm\n",
      "/Users/mehmetbezcioglu/Documents/SEMESTER1/ThirdYearProject/s28/9.pgm\n",
      "/Users/mehmetbezcioglu/Documents/SEMESTER1/ThirdYearProject/s28/10.pgm\n",
      "/Users/mehmetbezcioglu/Documents/SEMESTER1/ThirdYearProject/s10/7.pgm\n",
      "/Users/mehmetbezcioglu/Documents/SEMESTER1/ThirdYearProject/s10/6.pgm\n",
      "/Users/mehmetbezcioglu/Documents/SEMESTER1/ThirdYearProject/s10/4.pgm\n",
      "/Users/mehmetbezcioglu/Documents/SEMESTER1/ThirdYearProject/s10/5.pgm\n",
      "/Users/mehmetbezcioglu/Documents/SEMESTER1/ThirdYearProject/s10/1.pgm\n",
      "/Users/mehmetbezcioglu/Documents/SEMESTER1/ThirdYearProject/s10/2.pgm\n",
      "/Users/mehmetbezcioglu/Documents/SEMESTER1/ThirdYearProject/s10/3.pgm\n",
      "/Users/mehmetbezcioglu/Documents/SEMESTER1/ThirdYearProject/s10/8.pgm\n",
      "/Users/mehmetbezcioglu/Documents/SEMESTER1/ThirdYearProject/s10/9.pgm\n",
      "/Users/mehmetbezcioglu/Documents/SEMESTER1/ThirdYearProject/s10/10.pgm\n",
      "/Users/mehmetbezcioglu/Documents/SEMESTER1/ThirdYearProject/s11/7.pgm\n",
      "/Users/mehmetbezcioglu/Documents/SEMESTER1/ThirdYearProject/s11/6.pgm\n",
      "/Users/mehmetbezcioglu/Documents/SEMESTER1/ThirdYearProject/s11/4.pgm\n",
      "/Users/mehmetbezcioglu/Documents/SEMESTER1/ThirdYearProject/s11/5.pgm\n",
      "/Users/mehmetbezcioglu/Documents/SEMESTER1/ThirdYearProject/s11/1.pgm\n",
      "/Users/mehmetbezcioglu/Documents/SEMESTER1/ThirdYearProject/s11/2.pgm\n",
      "/Users/mehmetbezcioglu/Documents/SEMESTER1/ThirdYearProject/s11/3.pgm\n",
      "/Users/mehmetbezcioglu/Documents/SEMESTER1/ThirdYearProject/s11/8.pgm\n",
      "/Users/mehmetbezcioglu/Documents/SEMESTER1/ThirdYearProject/s11/9.pgm\n",
      "/Users/mehmetbezcioglu/Documents/SEMESTER1/ThirdYearProject/s11/10.pgm\n",
      "/Users/mehmetbezcioglu/Documents/SEMESTER1/ThirdYearProject/s16/7.pgm\n",
      "/Users/mehmetbezcioglu/Documents/SEMESTER1/ThirdYearProject/s16/6.pgm\n",
      "/Users/mehmetbezcioglu/Documents/SEMESTER1/ThirdYearProject/s16/4.pgm\n",
      "/Users/mehmetbezcioglu/Documents/SEMESTER1/ThirdYearProject/s16/5.pgm\n",
      "/Users/mehmetbezcioglu/Documents/SEMESTER1/ThirdYearProject/s16/1.pgm\n",
      "/Users/mehmetbezcioglu/Documents/SEMESTER1/ThirdYearProject/s16/2.pgm\n",
      "/Users/mehmetbezcioglu/Documents/SEMESTER1/ThirdYearProject/s16/3.pgm\n",
      "/Users/mehmetbezcioglu/Documents/SEMESTER1/ThirdYearProject/s16/8.pgm\n",
      "/Users/mehmetbezcioglu/Documents/SEMESTER1/ThirdYearProject/s16/9.pgm\n",
      "/Users/mehmetbezcioglu/Documents/SEMESTER1/ThirdYearProject/s16/10.pgm\n",
      "/Users/mehmetbezcioglu/Documents/SEMESTER1/ThirdYearProject/s29/7.pgm\n",
      "/Users/mehmetbezcioglu/Documents/SEMESTER1/ThirdYearProject/s29/6.pgm\n",
      "/Users/mehmetbezcioglu/Documents/SEMESTER1/ThirdYearProject/s29/4.pgm\n",
      "/Users/mehmetbezcioglu/Documents/SEMESTER1/ThirdYearProject/s29/5.pgm\n",
      "/Users/mehmetbezcioglu/Documents/SEMESTER1/ThirdYearProject/s29/1.pgm\n",
      "/Users/mehmetbezcioglu/Documents/SEMESTER1/ThirdYearProject/s29/2.pgm\n",
      "/Users/mehmetbezcioglu/Documents/SEMESTER1/ThirdYearProject/s29/3.pgm\n",
      "/Users/mehmetbezcioglu/Documents/SEMESTER1/ThirdYearProject/s29/8.pgm\n",
      "/Users/mehmetbezcioglu/Documents/SEMESTER1/ThirdYearProject/s29/9.pgm\n",
      "/Users/mehmetbezcioglu/Documents/SEMESTER1/ThirdYearProject/s29/10.pgm\n",
      "/Users/mehmetbezcioglu/Documents/SEMESTER1/ThirdYearProject/s20/7.pgm\n",
      "/Users/mehmetbezcioglu/Documents/SEMESTER1/ThirdYearProject/s20/6.pgm\n",
      "/Users/mehmetbezcioglu/Documents/SEMESTER1/ThirdYearProject/s20/4.pgm\n",
      "/Users/mehmetbezcioglu/Documents/SEMESTER1/ThirdYearProject/s20/5.pgm\n",
      "/Users/mehmetbezcioglu/Documents/SEMESTER1/ThirdYearProject/s20/1.pgm\n",
      "/Users/mehmetbezcioglu/Documents/SEMESTER1/ThirdYearProject/s20/2.pgm\n",
      "/Users/mehmetbezcioglu/Documents/SEMESTER1/ThirdYearProject/s20/3.pgm\n",
      "/Users/mehmetbezcioglu/Documents/SEMESTER1/ThirdYearProject/s20/8.pgm\n",
      "/Users/mehmetbezcioglu/Documents/SEMESTER1/ThirdYearProject/s20/9.pgm\n",
      "/Users/mehmetbezcioglu/Documents/SEMESTER1/ThirdYearProject/s20/10.pgm\n",
      "/Users/mehmetbezcioglu/Documents/SEMESTER1/ThirdYearProject/s27/7.pgm\n",
      "/Users/mehmetbezcioglu/Documents/SEMESTER1/ThirdYearProject/s27/6.pgm\n",
      "/Users/mehmetbezcioglu/Documents/SEMESTER1/ThirdYearProject/s27/4.pgm\n",
      "/Users/mehmetbezcioglu/Documents/SEMESTER1/ThirdYearProject/s27/5.pgm\n",
      "/Users/mehmetbezcioglu/Documents/SEMESTER1/ThirdYearProject/s27/1.pgm\n",
      "/Users/mehmetbezcioglu/Documents/SEMESTER1/ThirdYearProject/s27/2.pgm\n",
      "/Users/mehmetbezcioglu/Documents/SEMESTER1/ThirdYearProject/s27/3.pgm\n",
      "/Users/mehmetbezcioglu/Documents/SEMESTER1/ThirdYearProject/s27/8.pgm\n",
      "/Users/mehmetbezcioglu/Documents/SEMESTER1/ThirdYearProject/s27/9.pgm\n",
      "/Users/mehmetbezcioglu/Documents/SEMESTER1/ThirdYearProject/s27/10.pgm\n",
      "/Users/mehmetbezcioglu/Documents/SEMESTER1/ThirdYearProject/s18/7.pgm\n",
      "/Users/mehmetbezcioglu/Documents/SEMESTER1/ThirdYearProject/s18/6.pgm\n",
      "/Users/mehmetbezcioglu/Documents/SEMESTER1/ThirdYearProject/s18/4.pgm\n",
      "/Users/mehmetbezcioglu/Documents/SEMESTER1/ThirdYearProject/s18/5.pgm\n",
      "/Users/mehmetbezcioglu/Documents/SEMESTER1/ThirdYearProject/s18/1.pgm\n",
      "/Users/mehmetbezcioglu/Documents/SEMESTER1/ThirdYearProject/s18/2.pgm\n",
      "/Users/mehmetbezcioglu/Documents/SEMESTER1/ThirdYearProject/s18/3.pgm\n",
      "/Users/mehmetbezcioglu/Documents/SEMESTER1/ThirdYearProject/s18/8.pgm\n",
      "/Users/mehmetbezcioglu/Documents/SEMESTER1/ThirdYearProject/s18/9.pgm\n",
      "/Users/mehmetbezcioglu/Documents/SEMESTER1/ThirdYearProject/s18/10.pgm\n",
      "/Users/mehmetbezcioglu/Documents/SEMESTER1/ThirdYearProject/s8/7.pgm\n",
      "/Users/mehmetbezcioglu/Documents/SEMESTER1/ThirdYearProject/s8/6.pgm\n",
      "/Users/mehmetbezcioglu/Documents/SEMESTER1/ThirdYearProject/s8/4.pgm\n",
      "/Users/mehmetbezcioglu/Documents/SEMESTER1/ThirdYearProject/s8/5.pgm\n",
      "/Users/mehmetbezcioglu/Documents/SEMESTER1/ThirdYearProject/s8/1.pgm\n",
      "/Users/mehmetbezcioglu/Documents/SEMESTER1/ThirdYearProject/s8/2.pgm\n",
      "/Users/mehmetbezcioglu/Documents/SEMESTER1/ThirdYearProject/s8/3.pgm\n",
      "/Users/mehmetbezcioglu/Documents/SEMESTER1/ThirdYearProject/s8/8.pgm\n",
      "/Users/mehmetbezcioglu/Documents/SEMESTER1/ThirdYearProject/s8/9.pgm\n",
      "/Users/mehmetbezcioglu/Documents/SEMESTER1/ThirdYearProject/s8/10.pgm\n",
      "/Users/mehmetbezcioglu/Documents/SEMESTER1/ThirdYearProject/s1/7.pgm\n",
      "/Users/mehmetbezcioglu/Documents/SEMESTER1/ThirdYearProject/s1/6.pgm\n",
      "/Users/mehmetbezcioglu/Documents/SEMESTER1/ThirdYearProject/s1/4.pgm\n",
      "/Users/mehmetbezcioglu/Documents/SEMESTER1/ThirdYearProject/s1/5.pgm\n",
      "/Users/mehmetbezcioglu/Documents/SEMESTER1/ThirdYearProject/s1/1.pgm\n",
      "/Users/mehmetbezcioglu/Documents/SEMESTER1/ThirdYearProject/s1/2.pgm\n",
      "/Users/mehmetbezcioglu/Documents/SEMESTER1/ThirdYearProject/s1/3.pgm\n",
      "/Users/mehmetbezcioglu/Documents/SEMESTER1/ThirdYearProject/s1/8.pgm\n",
      "/Users/mehmetbezcioglu/Documents/SEMESTER1/ThirdYearProject/s1/9.pgm\n",
      "/Users/mehmetbezcioglu/Documents/SEMESTER1/ThirdYearProject/s1/10.pgm\n",
      "/Users/mehmetbezcioglu/Documents/SEMESTER1/ThirdYearProject/s6/7.pgm\n",
      "/Users/mehmetbezcioglu/Documents/SEMESTER1/ThirdYearProject/s6/6.pgm\n",
      "/Users/mehmetbezcioglu/Documents/SEMESTER1/ThirdYearProject/s6/4.pgm\n",
      "/Users/mehmetbezcioglu/Documents/SEMESTER1/ThirdYearProject/s6/5.pgm\n",
      "/Users/mehmetbezcioglu/Documents/SEMESTER1/ThirdYearProject/s6/1.pgm\n",
      "/Users/mehmetbezcioglu/Documents/SEMESTER1/ThirdYearProject/s6/2.pgm\n",
      "/Users/mehmetbezcioglu/Documents/SEMESTER1/ThirdYearProject/s6/3.pgm\n",
      "/Users/mehmetbezcioglu/Documents/SEMESTER1/ThirdYearProject/s6/8.pgm\n",
      "/Users/mehmetbezcioglu/Documents/SEMESTER1/ThirdYearProject/s6/9.pgm\n",
      "/Users/mehmetbezcioglu/Documents/SEMESTER1/ThirdYearProject/s6/10.pgm\n",
      "/Users/mehmetbezcioglu/Documents/SEMESTER1/ThirdYearProject/s39/7.pgm\n",
      "/Users/mehmetbezcioglu/Documents/SEMESTER1/ThirdYearProject/s39/6.pgm\n",
      "/Users/mehmetbezcioglu/Documents/SEMESTER1/ThirdYearProject/s39/4.pgm\n",
      "/Users/mehmetbezcioglu/Documents/SEMESTER1/ThirdYearProject/s39/5.pgm\n",
      "/Users/mehmetbezcioglu/Documents/SEMESTER1/ThirdYearProject/s39/1.pgm\n",
      "/Users/mehmetbezcioglu/Documents/SEMESTER1/ThirdYearProject/s39/2.pgm\n",
      "/Users/mehmetbezcioglu/Documents/SEMESTER1/ThirdYearProject/s39/3.pgm\n",
      "/Users/mehmetbezcioglu/Documents/SEMESTER1/ThirdYearProject/s39/8.pgm\n",
      "/Users/mehmetbezcioglu/Documents/SEMESTER1/ThirdYearProject/s39/9.pgm\n",
      "/Users/mehmetbezcioglu/Documents/SEMESTER1/ThirdYearProject/s39/10.pgm\n",
      "/Users/mehmetbezcioglu/Documents/SEMESTER1/ThirdYearProject/s30/7.pgm\n",
      "/Users/mehmetbezcioglu/Documents/SEMESTER1/ThirdYearProject/s30/6.pgm\n",
      "/Users/mehmetbezcioglu/Documents/SEMESTER1/ThirdYearProject/s30/4.pgm\n",
      "/Users/mehmetbezcioglu/Documents/SEMESTER1/ThirdYearProject/s30/5.pgm\n",
      "/Users/mehmetbezcioglu/Documents/SEMESTER1/ThirdYearProject/s30/1.pgm\n",
      "/Users/mehmetbezcioglu/Documents/SEMESTER1/ThirdYearProject/s30/2.pgm\n",
      "/Users/mehmetbezcioglu/Documents/SEMESTER1/ThirdYearProject/s30/3.pgm\n",
      "/Users/mehmetbezcioglu/Documents/SEMESTER1/ThirdYearProject/s30/8.pgm\n",
      "/Users/mehmetbezcioglu/Documents/SEMESTER1/ThirdYearProject/s30/9.pgm\n",
      "/Users/mehmetbezcioglu/Documents/SEMESTER1/ThirdYearProject/s30/10.pgm\n"
     ]
    },
    {
     "name": "stdout",
     "output_type": "stream",
     "text": [
      "/Users/mehmetbezcioglu/Documents/SEMESTER1/ThirdYearProject/s37/7.pgm\n",
      "/Users/mehmetbezcioglu/Documents/SEMESTER1/ThirdYearProject/s37/6.pgm\n",
      "/Users/mehmetbezcioglu/Documents/SEMESTER1/ThirdYearProject/s37/4.pgm\n",
      "/Users/mehmetbezcioglu/Documents/SEMESTER1/ThirdYearProject/s37/5.pgm\n",
      "/Users/mehmetbezcioglu/Documents/SEMESTER1/ThirdYearProject/s37/1.pgm\n",
      "/Users/mehmetbezcioglu/Documents/SEMESTER1/ThirdYearProject/s37/2.pgm\n",
      "/Users/mehmetbezcioglu/Documents/SEMESTER1/ThirdYearProject/s37/3.pgm\n",
      "/Users/mehmetbezcioglu/Documents/SEMESTER1/ThirdYearProject/s37/8.pgm\n",
      "/Users/mehmetbezcioglu/Documents/SEMESTER1/ThirdYearProject/s37/9.pgm\n",
      "/Users/mehmetbezcioglu/Documents/SEMESTER1/ThirdYearProject/s37/10.pgm\n",
      "/Users/mehmetbezcioglu/Documents/SEMESTER1/ThirdYearProject/s7/7.pgm\n",
      "/Users/mehmetbezcioglu/Documents/SEMESTER1/ThirdYearProject/s7/6.pgm\n",
      "/Users/mehmetbezcioglu/Documents/SEMESTER1/ThirdYearProject/s7/4.pgm\n",
      "/Users/mehmetbezcioglu/Documents/SEMESTER1/ThirdYearProject/s7/5.pgm\n",
      "/Users/mehmetbezcioglu/Documents/SEMESTER1/ThirdYearProject/s7/1.pgm\n",
      "/Users/mehmetbezcioglu/Documents/SEMESTER1/ThirdYearProject/s7/2.pgm\n",
      "/Users/mehmetbezcioglu/Documents/SEMESTER1/ThirdYearProject/s7/3.pgm\n",
      "/Users/mehmetbezcioglu/Documents/SEMESTER1/ThirdYearProject/s7/8.pgm\n",
      "/Users/mehmetbezcioglu/Documents/SEMESTER1/ThirdYearProject/s7/9.pgm\n",
      "/Users/mehmetbezcioglu/Documents/SEMESTER1/ThirdYearProject/s7/10.pgm\n",
      "/Users/mehmetbezcioglu/Documents/SEMESTER1/ThirdYearProject/s9/7.pgm\n",
      "/Users/mehmetbezcioglu/Documents/SEMESTER1/ThirdYearProject/s9/6.pgm\n",
      "/Users/mehmetbezcioglu/Documents/SEMESTER1/ThirdYearProject/s9/4.pgm\n",
      "/Users/mehmetbezcioglu/Documents/SEMESTER1/ThirdYearProject/s9/5.pgm\n",
      "/Users/mehmetbezcioglu/Documents/SEMESTER1/ThirdYearProject/s9/1.pgm\n",
      "/Users/mehmetbezcioglu/Documents/SEMESTER1/ThirdYearProject/s9/2.pgm\n",
      "/Users/mehmetbezcioglu/Documents/SEMESTER1/ThirdYearProject/s9/3.pgm\n",
      "/Users/mehmetbezcioglu/Documents/SEMESTER1/ThirdYearProject/s9/8.pgm\n",
      "/Users/mehmetbezcioglu/Documents/SEMESTER1/ThirdYearProject/s9/9.pgm\n",
      "/Users/mehmetbezcioglu/Documents/SEMESTER1/ThirdYearProject/s9/10.pgm\n",
      "/Users/mehmetbezcioglu/Documents/SEMESTER1/ThirdYearProject/s36/7.pgm\n",
      "/Users/mehmetbezcioglu/Documents/SEMESTER1/ThirdYearProject/s36/6.pgm\n",
      "/Users/mehmetbezcioglu/Documents/SEMESTER1/ThirdYearProject/s36/4.pgm\n",
      "/Users/mehmetbezcioglu/Documents/SEMESTER1/ThirdYearProject/s36/5.pgm\n",
      "/Users/mehmetbezcioglu/Documents/SEMESTER1/ThirdYearProject/s36/1.pgm\n",
      "/Users/mehmetbezcioglu/Documents/SEMESTER1/ThirdYearProject/s36/2.pgm\n",
      "/Users/mehmetbezcioglu/Documents/SEMESTER1/ThirdYearProject/s36/3.pgm\n",
      "/Users/mehmetbezcioglu/Documents/SEMESTER1/ThirdYearProject/s36/8.pgm\n",
      "/Users/mehmetbezcioglu/Documents/SEMESTER1/ThirdYearProject/s36/9.pgm\n",
      "/Users/mehmetbezcioglu/Documents/SEMESTER1/ThirdYearProject/s36/10.pgm\n",
      "/Users/mehmetbezcioglu/Documents/SEMESTER1/ThirdYearProject/s31/7.pgm\n",
      "/Users/mehmetbezcioglu/Documents/SEMESTER1/ThirdYearProject/s31/6.pgm\n",
      "/Users/mehmetbezcioglu/Documents/SEMESTER1/ThirdYearProject/s31/4.pgm\n",
      "/Users/mehmetbezcioglu/Documents/SEMESTER1/ThirdYearProject/s31/5.pgm\n",
      "/Users/mehmetbezcioglu/Documents/SEMESTER1/ThirdYearProject/s31/1.pgm\n",
      "/Users/mehmetbezcioglu/Documents/SEMESTER1/ThirdYearProject/s31/2.pgm\n",
      "/Users/mehmetbezcioglu/Documents/SEMESTER1/ThirdYearProject/s31/3.pgm\n",
      "/Users/mehmetbezcioglu/Documents/SEMESTER1/ThirdYearProject/s31/8.pgm\n",
      "/Users/mehmetbezcioglu/Documents/SEMESTER1/ThirdYearProject/s31/9.pgm\n",
      "/Users/mehmetbezcioglu/Documents/SEMESTER1/ThirdYearProject/s31/10.pgm\n",
      "/Users/mehmetbezcioglu/Documents/SEMESTER1/ThirdYearProject/s38/7.pgm\n",
      "/Users/mehmetbezcioglu/Documents/SEMESTER1/ThirdYearProject/s38/6.pgm\n",
      "/Users/mehmetbezcioglu/Documents/SEMESTER1/ThirdYearProject/s38/4.pgm\n",
      "/Users/mehmetbezcioglu/Documents/SEMESTER1/ThirdYearProject/s38/5.pgm\n",
      "/Users/mehmetbezcioglu/Documents/SEMESTER1/ThirdYearProject/s38/1.pgm\n",
      "/Users/mehmetbezcioglu/Documents/SEMESTER1/ThirdYearProject/s38/2.pgm\n",
      "/Users/mehmetbezcioglu/Documents/SEMESTER1/ThirdYearProject/s38/3.pgm\n",
      "/Users/mehmetbezcioglu/Documents/SEMESTER1/ThirdYearProject/s38/8.pgm\n",
      "/Users/mehmetbezcioglu/Documents/SEMESTER1/ThirdYearProject/s38/9.pgm\n",
      "/Users/mehmetbezcioglu/Documents/SEMESTER1/ThirdYearProject/s38/10.pgm\n",
      "/Users/mehmetbezcioglu/Documents/SEMESTER1/ThirdYearProject/s22/7.pgm\n",
      "/Users/mehmetbezcioglu/Documents/SEMESTER1/ThirdYearProject/s22/6.pgm\n",
      "/Users/mehmetbezcioglu/Documents/SEMESTER1/ThirdYearProject/s22/4.pgm\n",
      "/Users/mehmetbezcioglu/Documents/SEMESTER1/ThirdYearProject/s22/5.pgm\n",
      "/Users/mehmetbezcioglu/Documents/SEMESTER1/ThirdYearProject/s22/1.pgm\n",
      "/Users/mehmetbezcioglu/Documents/SEMESTER1/ThirdYearProject/s22/2.pgm\n",
      "/Users/mehmetbezcioglu/Documents/SEMESTER1/ThirdYearProject/s22/3.pgm\n",
      "/Users/mehmetbezcioglu/Documents/SEMESTER1/ThirdYearProject/s22/8.pgm\n",
      "/Users/mehmetbezcioglu/Documents/SEMESTER1/ThirdYearProject/s22/9.pgm\n",
      "/Users/mehmetbezcioglu/Documents/SEMESTER1/ThirdYearProject/s22/10.pgm\n",
      "/Users/mehmetbezcioglu/Documents/SEMESTER1/ThirdYearProject/s25/7.pgm\n",
      "/Users/mehmetbezcioglu/Documents/SEMESTER1/ThirdYearProject/s25/6.pgm\n",
      "/Users/mehmetbezcioglu/Documents/SEMESTER1/ThirdYearProject/s25/4.pgm\n",
      "/Users/mehmetbezcioglu/Documents/SEMESTER1/ThirdYearProject/s25/5.pgm\n",
      "/Users/mehmetbezcioglu/Documents/SEMESTER1/ThirdYearProject/s25/1.pgm\n",
      "/Users/mehmetbezcioglu/Documents/SEMESTER1/ThirdYearProject/s25/2.pgm\n",
      "/Users/mehmetbezcioglu/Documents/SEMESTER1/ThirdYearProject/s25/3.pgm\n",
      "/Users/mehmetbezcioglu/Documents/SEMESTER1/ThirdYearProject/s25/8.pgm\n",
      "/Users/mehmetbezcioglu/Documents/SEMESTER1/ThirdYearProject/s25/9.pgm\n",
      "/Users/mehmetbezcioglu/Documents/SEMESTER1/ThirdYearProject/s25/10.pgm\n",
      "/Users/mehmetbezcioglu/Documents/SEMESTER1/ThirdYearProject/s13/7.pgm\n",
      "/Users/mehmetbezcioglu/Documents/SEMESTER1/ThirdYearProject/s13/6.pgm\n",
      "/Users/mehmetbezcioglu/Documents/SEMESTER1/ThirdYearProject/s13/4.pgm\n",
      "/Users/mehmetbezcioglu/Documents/SEMESTER1/ThirdYearProject/s13/5.pgm\n",
      "/Users/mehmetbezcioglu/Documents/SEMESTER1/ThirdYearProject/s13/1.pgm\n",
      "/Users/mehmetbezcioglu/Documents/SEMESTER1/ThirdYearProject/s13/2.pgm\n",
      "/Users/mehmetbezcioglu/Documents/SEMESTER1/ThirdYearProject/s13/3.pgm\n",
      "/Users/mehmetbezcioglu/Documents/SEMESTER1/ThirdYearProject/s13/8.pgm\n",
      "/Users/mehmetbezcioglu/Documents/SEMESTER1/ThirdYearProject/s13/9.pgm\n",
      "/Users/mehmetbezcioglu/Documents/SEMESTER1/ThirdYearProject/s13/10.pgm\n",
      "/Users/mehmetbezcioglu/Documents/SEMESTER1/ThirdYearProject/s14/7.pgm\n",
      "/Users/mehmetbezcioglu/Documents/SEMESTER1/ThirdYearProject/s14/6.pgm\n",
      "/Users/mehmetbezcioglu/Documents/SEMESTER1/ThirdYearProject/s14/4.pgm\n",
      "/Users/mehmetbezcioglu/Documents/SEMESTER1/ThirdYearProject/s14/5.pgm\n",
      "/Users/mehmetbezcioglu/Documents/SEMESTER1/ThirdYearProject/s14/1.pgm\n",
      "/Users/mehmetbezcioglu/Documents/SEMESTER1/ThirdYearProject/s14/2.pgm\n",
      "/Users/mehmetbezcioglu/Documents/SEMESTER1/ThirdYearProject/s14/3.pgm\n",
      "/Users/mehmetbezcioglu/Documents/SEMESTER1/ThirdYearProject/s14/8.pgm\n",
      "/Users/mehmetbezcioglu/Documents/SEMESTER1/ThirdYearProject/s14/9.pgm\n",
      "/Users/mehmetbezcioglu/Documents/SEMESTER1/ThirdYearProject/s14/10.pgm\n",
      "/Users/mehmetbezcioglu/Documents/SEMESTER1/ThirdYearProject/s40/7.pgm\n",
      "/Users/mehmetbezcioglu/Documents/SEMESTER1/ThirdYearProject/s40/6.pgm\n",
      "/Users/mehmetbezcioglu/Documents/SEMESTER1/ThirdYearProject/s40/4.pgm\n",
      "/Users/mehmetbezcioglu/Documents/SEMESTER1/ThirdYearProject/s40/5.pgm\n",
      "/Users/mehmetbezcioglu/Documents/SEMESTER1/ThirdYearProject/s40/1.pgm\n",
      "/Users/mehmetbezcioglu/Documents/SEMESTER1/ThirdYearProject/s40/2.pgm\n",
      "/Users/mehmetbezcioglu/Documents/SEMESTER1/ThirdYearProject/s40/3.pgm\n",
      "/Users/mehmetbezcioglu/Documents/SEMESTER1/ThirdYearProject/s40/8.pgm\n",
      "/Users/mehmetbezcioglu/Documents/SEMESTER1/ThirdYearProject/s40/9.pgm\n",
      "/Users/mehmetbezcioglu/Documents/SEMESTER1/ThirdYearProject/s40/10.pgm\n",
      "/Users/mehmetbezcioglu/Documents/SEMESTER1/ThirdYearProject/s15/7.pgm\n",
      "/Users/mehmetbezcioglu/Documents/SEMESTER1/ThirdYearProject/s15/6.pgm\n",
      "/Users/mehmetbezcioglu/Documents/SEMESTER1/ThirdYearProject/s15/4.pgm\n",
      "/Users/mehmetbezcioglu/Documents/SEMESTER1/ThirdYearProject/s15/5.pgm\n",
      "/Users/mehmetbezcioglu/Documents/SEMESTER1/ThirdYearProject/s15/1.pgm\n",
      "/Users/mehmetbezcioglu/Documents/SEMESTER1/ThirdYearProject/s15/2.pgm\n",
      "/Users/mehmetbezcioglu/Documents/SEMESTER1/ThirdYearProject/s15/3.pgm\n",
      "/Users/mehmetbezcioglu/Documents/SEMESTER1/ThirdYearProject/s15/8.pgm\n",
      "/Users/mehmetbezcioglu/Documents/SEMESTER1/ThirdYearProject/s15/9.pgm\n",
      "/Users/mehmetbezcioglu/Documents/SEMESTER1/ThirdYearProject/s15/10.pgm\n",
      "/Users/mehmetbezcioglu/Documents/SEMESTER1/ThirdYearProject/s12/7.pgm\n",
      "/Users/mehmetbezcioglu/Documents/SEMESTER1/ThirdYearProject/s12/6.pgm\n",
      "/Users/mehmetbezcioglu/Documents/SEMESTER1/ThirdYearProject/s12/4.pgm\n",
      "/Users/mehmetbezcioglu/Documents/SEMESTER1/ThirdYearProject/s12/5.pgm\n",
      "/Users/mehmetbezcioglu/Documents/SEMESTER1/ThirdYearProject/s12/1.pgm\n",
      "/Users/mehmetbezcioglu/Documents/SEMESTER1/ThirdYearProject/s12/2.pgm\n",
      "/Users/mehmetbezcioglu/Documents/SEMESTER1/ThirdYearProject/s12/3.pgm\n",
      "/Users/mehmetbezcioglu/Documents/SEMESTER1/ThirdYearProject/s12/8.pgm\n",
      "/Users/mehmetbezcioglu/Documents/SEMESTER1/ThirdYearProject/s12/9.pgm\n",
      "/Users/mehmetbezcioglu/Documents/SEMESTER1/ThirdYearProject/s12/10.pgm\n",
      "/Users/mehmetbezcioglu/Documents/SEMESTER1/ThirdYearProject/s24/7.pgm\n",
      "/Users/mehmetbezcioglu/Documents/SEMESTER1/ThirdYearProject/s24/6.pgm\n",
      "/Users/mehmetbezcioglu/Documents/SEMESTER1/ThirdYearProject/s24/4.pgm\n",
      "/Users/mehmetbezcioglu/Documents/SEMESTER1/ThirdYearProject/s24/5.pgm\n",
      "/Users/mehmetbezcioglu/Documents/SEMESTER1/ThirdYearProject/s24/1.pgm\n",
      "/Users/mehmetbezcioglu/Documents/SEMESTER1/ThirdYearProject/s24/2.pgm\n",
      "/Users/mehmetbezcioglu/Documents/SEMESTER1/ThirdYearProject/s24/3.pgm\n",
      "/Users/mehmetbezcioglu/Documents/SEMESTER1/ThirdYearProject/s24/8.pgm\n",
      "/Users/mehmetbezcioglu/Documents/SEMESTER1/ThirdYearProject/s24/9.pgm\n",
      "/Users/mehmetbezcioglu/Documents/SEMESTER1/ThirdYearProject/s24/10.pgm\n",
      "/Users/mehmetbezcioglu/Documents/SEMESTER1/ThirdYearProject/s23/7.pgm\n",
      "/Users/mehmetbezcioglu/Documents/SEMESTER1/ThirdYearProject/s23/6.pgm\n",
      "/Users/mehmetbezcioglu/Documents/SEMESTER1/ThirdYearProject/s23/4.pgm\n",
      "/Users/mehmetbezcioglu/Documents/SEMESTER1/ThirdYearProject/s23/5.pgm\n",
      "/Users/mehmetbezcioglu/Documents/SEMESTER1/ThirdYearProject/s23/1.pgm\n",
      "/Users/mehmetbezcioglu/Documents/SEMESTER1/ThirdYearProject/s23/2.pgm\n",
      "/Users/mehmetbezcioglu/Documents/SEMESTER1/ThirdYearProject/s23/3.pgm\n",
      "/Users/mehmetbezcioglu/Documents/SEMESTER1/ThirdYearProject/s23/8.pgm\n",
      "/Users/mehmetbezcioglu/Documents/SEMESTER1/ThirdYearProject/s23/9.pgm\n",
      "/Users/mehmetbezcioglu/Documents/SEMESTER1/ThirdYearProject/s23/10.pgm\n"
     ]
    }
   ],
   "source": [
    "import os\n",
    "import cv2 \n",
    "\n",
    "images = []\n",
    "paths = []\n",
    "for root, _, files in  os.walk(\"/Users/mehmetbezcioglu/Documents/SEMESTER1/ThirdYearProject\"):\n",
    "    for file in files:\n",
    "        if \".pgm\" in file:\n",
    "            print(os.path.join(root,file))\n",
    "            paths.append(os.path.join(root,file))\n",
    "            images.append(cv2.imread(os.path.join(root,file),cv2.IMREAD_GRAYSCALE))"
   ]
  },
  {
   "cell_type": "code",
   "execution_count": 87,
   "metadata": {},
   "outputs": [
    {
     "data": {
      "text/plain": [
       "(112, 92)"
      ]
     },
     "execution_count": 87,
     "metadata": {},
     "output_type": "execute_result"
    }
   ],
   "source": [
    "images = np.asarray(images)\n",
    "images.shape\n",
    "images[0].shape"
   ]
  },
  {
   "cell_type": "code",
   "execution_count": 88,
   "metadata": {},
   "outputs": [
    {
     "name": "stdout",
     "output_type": "stream",
     "text": [
      "(105, 105, 1)\n"
     ]
    }
   ],
   "source": [
    "image_placeholder = tf.placeholder(dtype=tf.float32,shape=(112,92,1))\n",
    "img_resized_tf = tf.image.resize_image_with_crop_or_pad(image=image_placeholder, target_height = 105, target_width =105)\n",
    "print(img_resized_tf.shape)\n",
    "img_resized_tf\n",
    "resized_images = []\n",
    "with tf.Session() as sess:\n",
    "    for image in images:\n",
    "        resized_images.append(sess.run(img_resized_tf, feed_dict ={image_placeholder:image.reshape(112,92,1)}))"
   ]
  },
  {
   "cell_type": "code",
   "execution_count": 89,
   "metadata": {},
   "outputs": [
    {
     "data": {
      "text/plain": [
       "(400, 105, 105, 1)"
      ]
     },
     "execution_count": 89,
     "metadata": {},
     "output_type": "execute_result"
    }
   ],
   "source": [
    "images.shape\n",
    "resized_images = np.asarray(resized_images)\n",
    "resized_images.shape"
   ]
  },
  {
   "cell_type": "code",
   "execution_count": 92,
   "metadata": {},
   "outputs": [
    {
     "data": {
      "image/png": "[encoded data removed]",
      "text/plain": [
       "<Figure size 432x288 with 1 Axes>"
      ]
     },
     "metadata": {
      "needs_background": "light"
     },
     "output_type": "display_data"
    },
    {
     "data": {
      "image/png": "[encoded data removed]",
      "text/plain": [
       "<Figure size 432x288 with 1 Axes>"
      ]
     },
     "metadata": {
      "needs_background": "light"
     },
     "output_type": "display_data"
    }
   ],
   "source": [
    "plt.imshow(resized_images[1].reshape(105,105),cmap='gray')\n",
    "plt.show()\n",
    "plt.imshow(images[1].reshape(112,92),cmap='gray')\n",
    "plt.show()"
   ]
  },
  {
   "cell_type": "code",
   "execution_count": 11,
   "metadata": {},
   "outputs": [
    {
     "ename": "NameError",
     "evalue": "name 'cv2' is not defined",
     "output_type": "error",
     "traceback": [
      "\u001b[0;31m---------------------------------------------------------------------------\u001b[0m",
      "\u001b[0;31mNameError\u001b[0m                                 Traceback (most recent call last)",
      "\u001b[0;32m<ipython-input-11-5a7f360010e8>\u001b[0m in \u001b[0;36m<module>\u001b[0;34m\u001b[0m\n\u001b[0;32m----> 1\u001b[0;31m \u001b[0mplt\u001b[0m\u001b[0;34m.\u001b[0m\u001b[0mimshow\u001b[0m\u001b[0;34m(\u001b[0m\u001b[0mcv2\u001b[0m\u001b[0;34m.\u001b[0m\u001b[0mimread\u001b[0m\u001b[0;34m(\u001b[0m\u001b[0mpaths\u001b[0m\u001b[0;34m[\u001b[0m\u001b[0;36m0\u001b[0m\u001b[0;34m]\u001b[0m\u001b[0;34m,\u001b[0m\u001b[0mcv2\u001b[0m\u001b[0;34m.\u001b[0m\u001b[0mIMREAD_GRAYSCALE\u001b[0m\u001b[0;34m)\u001b[0m\u001b[0;34m,\u001b[0m\u001b[0mcmap\u001b[0m\u001b[0;34m=\u001b[0m\u001b[0;34m'gray'\u001b[0m\u001b[0;34m)\u001b[0m\u001b[0;34m\u001b[0m\u001b[0m\n\u001b[0m\u001b[1;32m      2\u001b[0m \u001b[0mplt\u001b[0m\u001b[0;34m.\u001b[0m\u001b[0mshow\u001b[0m\u001b[0;34m(\u001b[0m\u001b[0;34m)\u001b[0m\u001b[0;34m\u001b[0m\u001b[0m\n",
      "\u001b[0;31mNameError\u001b[0m: name 'cv2' is not defined"
     ]
    }
   ],
   "source": [
    "plt.imshow(cv2.imread(paths[0],cv2.IMREAD_GRAYSCALE),cmap='gray')\n",
    "plt.show()"
   ]
  },
  {
   "cell_type": "code",
   "execution_count": 94,
   "metadata": {},
   "outputs": [],
   "source": [
    "for counter,image in enumerate(resized_images):\n",
    "    cv2.imwrite(paths[counter],image)"
   ]
  },
  {
   "cell_type": "code",
   "execution_count": 4,
   "metadata": {},
   "outputs": [
    {
     "name": "stdout",
     "output_type": "stream",
     "text": [
      "400\n",
      "(40, 10, 105, 105, 1)\n"
     ]
    }
   ],
   "source": [
    "orl_data = Dataset.Loader(n_examples= 10, mode=None, path = \"/Users/mehmetbezcioglu/Documents/SEMESTER1/ThirdYearProject/\", normalise=True)"
   ]
  },
  {
   "cell_type": "code",
   "execution_count": 15,
   "metadata": {},
   "outputs": [
    {
     "data": {
      "image/png": "[encoded data removed]",
      "text/plain": [
       "<Figure size 432x288 with 1 Axes>"
      ]
     },
     "metadata": {
      "needs_background": "light"
     },
     "output_type": "display_data"
    }
   ],
   "source": [
    "orl_data.X[0,0].shape\n",
    "\n",
    "plt.imshow(orl_data.X[0,0].reshape(105,105),cmap='gray')\n",
    "plt.show()"
   ]
  },
  {
   "cell_type": "code",
   "execution_count": 18,
   "metadata": {},
   "outputs": [
    {
     "name": "stdout",
     "output_type": "stream",
     "text": [
      "(10, 105, 105, 1)\n",
      "(10, 105, 105, 1)\n",
      "(1, 10)\n"
     ]
    },
    {
     "data": {
      "text/plain": [
       "array([[39,  6,  9, 28, 10,  6, 24, 29, 32, 37]])"
      ]
     },
     "execution_count": 18,
     "metadata": {},
     "output_type": "execute_result"
    }
   ],
   "source": [
    "orl_test_imgs, orl_train_imgs, orl_labels = orl_data.generateOneShotTrials(orl_data.X,size=10)\n",
    "print(orl_test_imgs.shape)\n",
    "print(orl_train_imgs.shape)\n",
    "print(orl_labels.shape)\n",
    "orl_labels"
   ]
  },
  {
   "cell_type": "markdown",
   "metadata": {},
   "source": [
    "# Computing the one-shot accuracy for ORL"
   ]
  },
  {
   "cell_type": "markdown",
   "metadata": {},
   "source": [
    "-  build the model\n",
    "-  run the model on a training batch once to ensure that the weights are restored correctly.\n",
    "-  then compute the one shot accuracy on orl dataset\n"
   ]
  },
  {
   "cell_type": "code",
   "execution_count": 33,
   "metadata": {},
   "outputs": [
    {
     "name": "stdout",
     "output_type": "stream",
     "text": [
      "96400\n",
      "(964, 100, 105, 105, 1)\n"
     ]
    },
    {
     "ename": "KeyboardInterrupt",
     "evalue": "",
     "output_type": "error",
     "traceback": [
      "\u001b[0;31m---------------------------------------------------------------------------\u001b[0m",
      "\u001b[0;31mKeyboardInterrupt\u001b[0m                         Traceback (most recent call last)",
      "\u001b[0;32m<ipython-input-33-81de7ccf5823>\u001b[0m in \u001b[0;36m<module>\u001b[0;34m\u001b[0m\n\u001b[0;32m----> 1\u001b[0;31m \u001b[0mtrain_data\u001b[0m \u001b[0;34m=\u001b[0m \u001b[0mDataset\u001b[0m\u001b[0;34m.\u001b[0m\u001b[0mLoader\u001b[0m\u001b[0;34m(\u001b[0m\u001b[0mn_examples\u001b[0m \u001b[0;34m=\u001b[0m \u001b[0;36m100\u001b[0m\u001b[0;34m,\u001b[0m\u001b[0mmode\u001b[0m\u001b[0;34m=\u001b[0m\u001b[0;34m\"None\"\u001b[0m\u001b[0;34m,\u001b[0m\u001b[0mpath\u001b[0m\u001b[0;34m=\u001b[0m\u001b[0;34m\"/Users/mehmetbezcioglu/Documents/SEMESTER1/DeepLearning/one_shot_learning/image_similarity/datasets/images_background\"\u001b[0m\u001b[0;34m,\u001b[0m\u001b[0mnormalise\u001b[0m\u001b[0;34m=\u001b[0m\u001b[0;32mTrue\u001b[0m\u001b[0;34m)\u001b[0m\u001b[0;34m\u001b[0m\u001b[0m\n\u001b[0m",
      "\u001b[0;32m~/Documents/SEMESTER1/DeepLearning/one_shot_learning/image_similarity/datasets/Siamese_Dataset_Loader.py\u001b[0m in \u001b[0;36m__init__\u001b[0;34m(self, n_examples, mode, path, normalise)\u001b[0m\n\u001b[1;32m     27\u001b[0m                 \u001b[0;31m# file_.close()\u001b[0m\u001b[0;34m\u001b[0m\u001b[0;34m\u001b[0m\u001b[0m\n\u001b[1;32m     28\u001b[0m                 \u001b[0mprint\u001b[0m\u001b[0;34m(\u001b[0m\u001b[0mlen\u001b[0m\u001b[0;34m(\u001b[0m\u001b[0mself\u001b[0m\u001b[0;34m.\u001b[0m\u001b[0mX\u001b[0m\u001b[0;34m)\u001b[0m\u001b[0;34m)\u001b[0m\u001b[0;34m\u001b[0m\u001b[0m\n\u001b[0;32m---> 29\u001b[0;31m                 \u001b[0mself\u001b[0m\u001b[0;34m.\u001b[0m\u001b[0mX\u001b[0m \u001b[0;34m=\u001b[0m \u001b[0mself\u001b[0m\u001b[0;34m.\u001b[0m\u001b[0m__normalise\u001b[0m\u001b[0;34m(\u001b[0m\u001b[0mself\u001b[0m\u001b[0;34m.\u001b[0m\u001b[0mX\u001b[0m\u001b[0;34m,\u001b[0m\u001b[0mn_examples\u001b[0m \u001b[0;34m=\u001b[0m \u001b[0mn_examples\u001b[0m\u001b[0;34m-\u001b[0m\u001b[0;36m2\u001b[0m\u001b[0;34m,\u001b[0m\u001b[0mnormalise\u001b[0m\u001b[0;34m=\u001b[0m \u001b[0mnormalise\u001b[0m\u001b[0;34m)\u001b[0m \u001b[0;32mif\u001b[0m \u001b[0mmode\u001b[0m \u001b[0;34m==\u001b[0m \u001b[0;34m\"train_split\"\u001b[0m \u001b[0;32melse\u001b[0m \u001b[0mself\u001b[0m\u001b[0;34m.\u001b[0m\u001b[0m__normalise\u001b[0m\u001b[0;34m(\u001b[0m\u001b[0mself\u001b[0m\u001b[0;34m.\u001b[0m\u001b[0mX\u001b[0m\u001b[0;34m,\u001b[0m\u001b[0mn_examples\u001b[0m \u001b[0;34m=\u001b[0m \u001b[0mn_examples\u001b[0m\u001b[0;34m,\u001b[0m\u001b[0mnormalise\u001b[0m\u001b[0;34m=\u001b[0m \u001b[0mnormalise\u001b[0m\u001b[0;34m)\u001b[0m\u001b[0;34m\u001b[0m\u001b[0m\n\u001b[0m\u001b[1;32m     30\u001b[0m                 \u001b[0mself\u001b[0m\u001b[0;34m.\u001b[0m\u001b[0mX_validation\u001b[0m \u001b[0;34m=\u001b[0m \u001b[0mself\u001b[0m\u001b[0;34m.\u001b[0m\u001b[0m__normalise\u001b[0m\u001b[0;34m(\u001b[0m\u001b[0mself\u001b[0m\u001b[0;34m.\u001b[0m\u001b[0mX_validation\u001b[0m\u001b[0;34m,\u001b[0m\u001b[0mn_examples\u001b[0m \u001b[0;34m=\u001b[0m \u001b[0;36m2\u001b[0m\u001b[0;34m,\u001b[0m\u001b[0mnormalise\u001b[0m\u001b[0;34m=\u001b[0m \u001b[0mnormalise\u001b[0m\u001b[0;34m)\u001b[0m \u001b[0;32mif\u001b[0m \u001b[0mmode\u001b[0m \u001b[0;34m==\u001b[0m \u001b[0;34m\"train_split\"\u001b[0m \u001b[0;32melse\u001b[0m \u001b[0;32mNone\u001b[0m\u001b[0;34m\u001b[0m\u001b[0m\n\u001b[1;32m     31\u001b[0m                 \u001b[0;31m# remainder = len(self.X) % n_examples\u001b[0m\u001b[0;34m\u001b[0m\u001b[0;34m\u001b[0m\u001b[0m\n",
      "\u001b[0;32m~/Documents/SEMESTER1/DeepLearning/one_shot_learning/image_similarity/datasets/Siamese_Dataset_Loader.py\u001b[0m in \u001b[0;36m__normalise\u001b[0;34m(X, n_examples, normalise)\u001b[0m\n\u001b[1;32m     59\u001b[0m                         \u001b[0mX\u001b[0m \u001b[0;34m=\u001b[0m \u001b[0mX\u001b[0m\u001b[0;34m.\u001b[0m\u001b[0mreshape\u001b[0m\u001b[0;34m(\u001b[0m\u001b[0;34m-\u001b[0m\u001b[0;36m1\u001b[0m\u001b[0;34m,\u001b[0m\u001b[0;36m105\u001b[0m\u001b[0;34m*\u001b[0m\u001b[0;36m105\u001b[0m\u001b[0;34m)\u001b[0m\u001b[0;34m\u001b[0m\u001b[0m\n\u001b[1;32m     60\u001b[0m                         \u001b[0mmu\u001b[0m \u001b[0;34m=\u001b[0m \u001b[0mnp\u001b[0m\u001b[0;34m.\u001b[0m\u001b[0mmean\u001b[0m\u001b[0;34m(\u001b[0m\u001b[0mX\u001b[0m\u001b[0;34m,\u001b[0m\u001b[0maxis\u001b[0m\u001b[0;34m=\u001b[0m\u001b[0;36m0\u001b[0m\u001b[0;34m)\u001b[0m\u001b[0;34m.\u001b[0m\u001b[0mreshape\u001b[0m\u001b[0;34m(\u001b[0m\u001b[0;36m1\u001b[0m\u001b[0;34m,\u001b[0m\u001b[0;36m11025\u001b[0m\u001b[0;34m)\u001b[0m\u001b[0;34m\u001b[0m\u001b[0m\n\u001b[0;32m---> 61\u001b[0;31m                         \u001b[0mstd\u001b[0m \u001b[0;34m=\u001b[0m \u001b[0mnp\u001b[0m\u001b[0;34m.\u001b[0m\u001b[0mstd\u001b[0m\u001b[0;34m(\u001b[0m\u001b[0mX\u001b[0m\u001b[0;34m,\u001b[0m\u001b[0maxis\u001b[0m\u001b[0;34m=\u001b[0m\u001b[0;36m0\u001b[0m\u001b[0;34m)\u001b[0m\u001b[0;34m.\u001b[0m\u001b[0mreshape\u001b[0m\u001b[0;34m(\u001b[0m\u001b[0;36m1\u001b[0m\u001b[0;34m,\u001b[0m\u001b[0;36m11025\u001b[0m\u001b[0;34m)\u001b[0m\u001b[0;34m\u001b[0m\u001b[0m\n\u001b[0m\u001b[1;32m     62\u001b[0m                         \u001b[0mX\u001b[0m \u001b[0;34m=\u001b[0m \u001b[0mnp\u001b[0m\u001b[0;34m.\u001b[0m\u001b[0msubtract\u001b[0m\u001b[0;34m(\u001b[0m\u001b[0mX\u001b[0m\u001b[0;34m,\u001b[0m\u001b[0mmu\u001b[0m\u001b[0;34m)\u001b[0m\u001b[0;34m\u001b[0m\u001b[0m\n\u001b[1;32m     63\u001b[0m                         \u001b[0mX\u001b[0m \u001b[0;34m/=\u001b[0m \u001b[0;34m(\u001b[0m\u001b[0mstd\u001b[0m \u001b[0;34m+\u001b[0m \u001b[0;36m1e-100\u001b[0m\u001b[0;34m)\u001b[0m\u001b[0;34m\u001b[0m\u001b[0m\n",
      "\u001b[0;32m~/miniconda3/envs/env352/lib/python3.5/site-packages/numpy/core/fromnumeric.py\u001b[0m in \u001b[0;36mstd\u001b[0;34m(a, axis, dtype, out, ddof, keepdims)\u001b[0m\n\u001b[1;32m   3036\u001b[0m \u001b[0;34m\u001b[0m\u001b[0m\n\u001b[1;32m   3037\u001b[0m     return _methods._std(a, axis=axis, dtype=dtype, out=out, ddof=ddof,\n\u001b[0;32m-> 3038\u001b[0;31m                          **kwargs)\n\u001b[0m\u001b[1;32m   3039\u001b[0m \u001b[0;34m\u001b[0m\u001b[0m\n\u001b[1;32m   3040\u001b[0m \u001b[0;34m\u001b[0m\u001b[0m\n",
      "\u001b[0;32m~/miniconda3/envs/env352/lib/python3.5/site-packages/numpy/core/_methods.py\u001b[0m in \u001b[0;36m_std\u001b[0;34m(a, axis, dtype, out, ddof, keepdims)\u001b[0m\n\u001b[1;32m    138\u001b[0m \u001b[0;32mdef\u001b[0m \u001b[0m_std\u001b[0m\u001b[0;34m(\u001b[0m\u001b[0ma\u001b[0m\u001b[0;34m,\u001b[0m \u001b[0maxis\u001b[0m\u001b[0;34m=\u001b[0m\u001b[0;32mNone\u001b[0m\u001b[0;34m,\u001b[0m \u001b[0mdtype\u001b[0m\u001b[0;34m=\u001b[0m\u001b[0;32mNone\u001b[0m\u001b[0;34m,\u001b[0m \u001b[0mout\u001b[0m\u001b[0;34m=\u001b[0m\u001b[0;32mNone\u001b[0m\u001b[0;34m,\u001b[0m \u001b[0mddof\u001b[0m\u001b[0;34m=\u001b[0m\u001b[0;36m0\u001b[0m\u001b[0;34m,\u001b[0m \u001b[0mkeepdims\u001b[0m\u001b[0;34m=\u001b[0m\u001b[0;32mFalse\u001b[0m\u001b[0;34m)\u001b[0m\u001b[0;34m:\u001b[0m\u001b[0;34m\u001b[0m\u001b[0m\n\u001b[1;32m    139\u001b[0m     ret = _var(a, axis=axis, dtype=dtype, out=out, ddof=ddof,\n\u001b[0;32m--> 140\u001b[0;31m                keepdims=keepdims)\n\u001b[0m\u001b[1;32m    141\u001b[0m \u001b[0;34m\u001b[0m\u001b[0m\n\u001b[1;32m    142\u001b[0m     \u001b[0;32mif\u001b[0m \u001b[0misinstance\u001b[0m\u001b[0;34m(\u001b[0m\u001b[0mret\u001b[0m\u001b[0;34m,\u001b[0m \u001b[0mmu\u001b[0m\u001b[0;34m.\u001b[0m\u001b[0mndarray\u001b[0m\u001b[0;34m)\u001b[0m\u001b[0;34m:\u001b[0m\u001b[0;34m\u001b[0m\u001b[0m\n",
      "\u001b[0;32m~/miniconda3/envs/env352/lib/python3.5/site-packages/numpy/core/_methods.py\u001b[0m in \u001b[0;36m_var\u001b[0;34m(a, axis, dtype, out, ddof, keepdims)\u001b[0m\n\u001b[1;32m    119\u001b[0m         \u001b[0mx\u001b[0m \u001b[0;34m=\u001b[0m \u001b[0mum\u001b[0m\u001b[0;34m.\u001b[0m\u001b[0mmultiply\u001b[0m\u001b[0;34m(\u001b[0m\u001b[0mx\u001b[0m\u001b[0;34m,\u001b[0m \u001b[0mum\u001b[0m\u001b[0;34m.\u001b[0m\u001b[0mconjugate\u001b[0m\u001b[0;34m(\u001b[0m\u001b[0mx\u001b[0m\u001b[0;34m)\u001b[0m\u001b[0;34m,\u001b[0m \u001b[0mout\u001b[0m\u001b[0;34m=\u001b[0m\u001b[0mx\u001b[0m\u001b[0;34m)\u001b[0m\u001b[0;34m.\u001b[0m\u001b[0mreal\u001b[0m\u001b[0;34m\u001b[0m\u001b[0m\n\u001b[1;32m    120\u001b[0m     \u001b[0;32melse\u001b[0m\u001b[0;34m:\u001b[0m\u001b[0;34m\u001b[0m\u001b[0m\n\u001b[0;32m--> 121\u001b[0;31m         \u001b[0mx\u001b[0m \u001b[0;34m=\u001b[0m \u001b[0mum\u001b[0m\u001b[0;34m.\u001b[0m\u001b[0mmultiply\u001b[0m\u001b[0;34m(\u001b[0m\u001b[0mx\u001b[0m\u001b[0;34m,\u001b[0m \u001b[0mx\u001b[0m\u001b[0;34m,\u001b[0m \u001b[0mout\u001b[0m\u001b[0;34m=\u001b[0m\u001b[0mx\u001b[0m\u001b[0;34m)\u001b[0m\u001b[0;34m\u001b[0m\u001b[0m\n\u001b[0m\u001b[1;32m    122\u001b[0m     \u001b[0mret\u001b[0m \u001b[0;34m=\u001b[0m \u001b[0mumr_sum\u001b[0m\u001b[0;34m(\u001b[0m\u001b[0mx\u001b[0m\u001b[0;34m,\u001b[0m \u001b[0maxis\u001b[0m\u001b[0;34m,\u001b[0m \u001b[0mdtype\u001b[0m\u001b[0;34m,\u001b[0m \u001b[0mout\u001b[0m\u001b[0;34m,\u001b[0m \u001b[0mkeepdims\u001b[0m\u001b[0;34m)\u001b[0m\u001b[0;34m\u001b[0m\u001b[0m\n\u001b[1;32m    123\u001b[0m \u001b[0;34m\u001b[0m\u001b[0m\n",
      "\u001b[0;31mKeyboardInterrupt\u001b[0m: "
     ]
    }
   ],
   "source": [
    "train_data = Dataset.Loader(n_examples = 100,mode=\"None\",path=\"/Users/mehmetbezcioglu/Documents/SEMESTER1/DeepLearning/one_shot_learning/image_similarity/datasets/images_background\",normalise=True)"
   ]
  },
  {
   "cell_type": "code",
   "execution_count": null,
   "metadata": {},
   "outputs": [],
   "source": [
    "tf.reset_default_graph()\n",
    "nn = Siamese()\n",
    "nn.logits = nn.forward_prop()\n",
    "nn.cost = nn.compute_cost()\n",
    "saver = tf.train.Saver()\n",
    "nn.accuracy = tf.reduce_mean(tf.cast(tf.equal(tf.cast((tf.nn.sigmoid(nn.logits)>0.5),tf.float32),nn.Y),tf.float32))\n",
    "\n",
    "with tf.Session() as sess:\n",
    "    saver.restore(sess,\"/Users/mehmetbezcioglu/Documents/SEMESTER1/DeepLearning/one_shot_learning/image_similarity/pre_trained_weights/job_188_weights/conv_siamese_model_40.ckpt\")\n",
    "    training_batch = train_data.get_training_pairs(batch_size= 128, drawer_size= 2, seed=1)\n",
    "    epoch_acc = 0\n",
    "    epoch_loss = 0\n",
    "    for counter, batch in enumerate(training_batch):\n",
    "        # print(\"In batch:{}\".format(counter))\n",
    "        X1 = batch[0]\n",
    "        X2 = batch[1]\n",
    "        Y  = batch[2]\n",
    "        _, c, a= sess.run([CNN.cost,CNN.accuracy], feed_dict={\n",
    "            nn.X:  X1,\n",
    "            nn.X2: X2,\n",
    "            nn.Y:  Y,\n",
    "        })\n",
    "        epoch_acc += (a/len(training_batch))\n",
    "        epoch_loss += (c/ len(training_batch))"
   ]
  },
  {
   "cell_type": "code",
   "execution_count": 62,
   "metadata": {},
   "outputs": [],
   "source": [
    " hyperparameters = [\n",
    "                        0.1,\n",
    "                        0.1,\n",
    "                        0.1,\n",
    "                        0.1,\n",
    "                        0.1,\n",
    "                        0.1,\n",
    "                        0.1,\n",
    "                        0.1,\n",
    "                        0.1,\n",
    "                        0.1,\n",
    "                        0.1,\n",
    "                        99\n",
    "              ]"
   ]
  },
  {
   "cell_type": "code",
   "execution_count": 44,
   "metadata": {},
   "outputs": [
    {
     "name": "stdout",
     "output_type": "stream",
     "text": [
      "learning_rates:[0.08261686 0.08261686 0.08261686 0.08261686 0.08261686 0.08261686]\n",
      "momentums:[0.1208109 0.1208109 0.1208109 0.1208109 0.1208109 0.1208109]\n"
     ]
    }
   ],
   "source": [
    "for epoch in range(20):\n",
    "    hyperparameters = np.asarray(hyperparameters)\n",
    "    learning_rates = hyperparameters[:6] * (0.99**epoch)\n",
    "    momentums = hyperparameters[6:] * (1.01**epoch)\n",
    "print(\"learning_rates:{}\\nmomentums:{}\".format(learning_rates,momentums))"
   ]
  },
  {
   "cell_type": "code",
   "execution_count": 47,
   "metadata": {},
   "outputs": [],
   "source": [
    "x = tf.placeholder(dtype=tf.float32,shape=[])\n",
    "x = 2"
   ]
  },
  {
   "cell_type": "code",
   "execution_count": 52,
   "metadata": {},
   "outputs": [
    {
     "data": {
      "text/plain": [
       "array([0.1, 0.1, 0.1, 0.1, 0.1, 0.1, 0.1, 0.1, 0.1, 0.1, 0.1, 0.1])"
      ]
     },
     "execution_count": 52,
     "metadata": {},
     "output_type": "execute_result"
    }
   ],
   "source": [
    "hyperparameters"
   ]
  },
  {
   "cell_type": "code",
   "execution_count": 63,
   "metadata": {},
   "outputs": [
    {
     "data": {
      "text/plain": [
       "[0.1, 0.1, 0.1, 0.1, 0.1, 0.1, 0.1, 0.1, 0.1, 0.1, 0.1, 99]"
      ]
     },
     "execution_count": 63,
     "metadata": {},
     "output_type": "execute_result"
    }
   ],
   "source": [
    "h = hyperparameters[:6]\n",
    "h2= hyperparameters[6:]\n",
    "h + h2"
   ]
  },
  {
   "cell_type": "code",
   "execution_count": 68,
   "metadata": {},
   "outputs": [],
   "source": [
    "a = np.asarray(hyperparameters)[:6] * 0.1\n",
    "b = np.asarray(hyperparameters)[6:] * 10"
   ]
  },
  {
   "cell_type": "code",
   "execution_count": 81,
   "metadata": {},
   "outputs": [],
   "source": [
    "c  = np.concatenate((a,b)).reshape(12,1)"
   ]
  },
  {
   "cell_type": "code",
   "execution_count": null,
   "metadata": {},
   "outputs": [],
   "source": []
  },
  {
   "cell_type": "code",
   "execution_count": 82,
   "metadata": {},
   "outputs": [
    {
     "data": {
      "text/plain": [
       "array([[1.0e-02],\n",
       "       [1.0e-02],\n",
       "       [1.0e-02],\n",
       "       [1.0e-02],\n",
       "       [1.0e-02],\n",
       "       [1.0e-02],\n",
       "       [1.0e+00],\n",
       "       [1.0e+00],\n",
       "       [1.0e+00],\n",
       "       [1.0e+00],\n",
       "       [1.0e+00],\n",
       "       [9.9e+02]])"
      ]
     },
     "execution_count": 82,
     "metadata": {},
     "output_type": "execute_result"
    }
   ],
   "source": [
    "c"
   ]
  },
  {
   "cell_type": "code",
   "execution_count": 88,
   "metadata": {},
   "outputs": [],
   "source": [
    "l = []\n",
    "l = c[:6]\n",
    "x = l[0]"
   ]
  },
  {
   "cell_type": "code",
   "execution_count": 90,
   "metadata": {},
   "outputs": [
    {
     "data": {
      "text/plain": [
       "0.010000000000000002"
      ]
     },
     "execution_count": 90,
     "metadata": {},
     "output_type": "execute_result"
    }
   ],
   "source": [
    "x[0]"
   ]
  },
  {
   "cell_type": "code",
   "execution_count": null,
   "metadata": {},
   "outputs": [],
   "source": []
  }
 ],
 "metadata": {
  "kernelspec": {
   "display_name": "Python 3",
   "language": "python",
   "name": "python3"
  },
  "language_info": {
   "codemirror_mode": {
    "name": "ipython",
    "version": 3
   },
   "file_extension": ".py",
   "mimetype": "text/x-python",
   "name": "python",
   "nbconvert_exporter": "python",
   "pygments_lexer": "ipython3",
   "version": "3.5.2"
  }
 },
 "nbformat": 4,
 "nbformat_minor": 2
}
