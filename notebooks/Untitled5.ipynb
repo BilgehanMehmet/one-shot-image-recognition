{
 "cells": [
  {
   "cell_type": "code",
   "execution_count": 1,
   "metadata": {},
   "outputs": [],
   "source": [
    "import numpy as np\n",
    "import tensorflow as tf\n",
    "import sys\n",
    "sys.path.append('..')\n",
    "from networks.siamese.omniglot import Omniglot\n",
    "from datasets.loader import Loader\n",
    "import matplotlib.pyplot as plt"
   ]
  },
  {
   "cell_type": "code",
   "execution_count": 37,
   "metadata": {},
   "outputs": [],
   "source": [
    "tf.reset_default_graph()\n",
    "nn = Omniglot(shape=(105,105),cost_mode=\"binary_cross_entropy\")\n",
    "nn.forward_prop()\n",
    "nn.compute_cost(mode=\"l2_on\")\n",
    "nn.optimize(optimizer=\"Momentum\")\n",
    "nn.accuracy()"
   ]
  },
  {
   "cell_type": "code",
   "execution_count": 13,
   "metadata": {},
   "outputs": [],
   "source": [
    "tf.reset_default_graph()\n",
    "nn2 = Omniglot(shape=(105,105),cost_mode=\"contrastive_loss\")\n",
    "nn2.forward_prop()\n",
    "# nn2.compute_cost(mode=\"l2_on\",margin = 1.)\n",
    "# nn2.optimize(optimizer=\"Momentum\")\n",
    "# nn2.accuracy()"
   ]
  },
  {
   "cell_type": "code",
   "execution_count": 11,
   "metadata": {},
   "outputs": [
    {
     "data": {
      "text/plain": [
       "<tf.Tensor 'Y:0' shape=(1, ?) dtype=float32>"
      ]
     },
     "execution_count": 11,
     "metadata": {},
     "output_type": "execute_result"
    }
   ],
   "source": [
    "nn.Y"
   ]
  },
  {
   "cell_type": "code",
   "execution_count": 54,
   "metadata": {},
   "outputs": [
    {
     "data": {
      "text/plain": [
       "0.005471566424"
      ]
     },
     "execution_count": 54,
     "metadata": {},
     "output_type": "execute_result"
    }
   ],
   "source": [
    "5.471566424e-3"
   ]
  },
  {
   "cell_type": "code",
   "execution_count": 52,
   "metadata": {},
   "outputs": [
    {
     "name": "stdout",
     "output_type": "stream",
     "text": [
      "[[0.24253564 0.37139067 0.4472136 ]\n",
      " [0.97014254 0.9284767  0.8944272 ]] [[0.24253564 0.37139067 0.4472136 ]\n",
      " [0.97014254 0.9284767  0.8944272 ]]\n"
     ]
    }
   ],
   "source": [
    "tf.reset_default_graph()\n",
    "l = tf.Variable([[1.,2.,3.],[4.,5.,6.]])\n",
    "a =  tf.divide(l,tf.norm(l,axis=0,keepdims=True))\n",
    "b =  tf.nn.l2_normalize(l,axis=0)\n",
    "with tf.Session() as sess:\n",
    "    sess.run(tf.global_variables_initializer())\n",
    "#     tf.initialize_all_variables()\n",
    "    a,b = sess.run([a,b])\n",
    "print(a,b)"
   ]
  },
  {
   "cell_type": "code",
   "execution_count": 9,
   "metadata": {},
   "outputs": [
    {
     "data": {
      "text/plain": [
       "(<tf.Tensor 'Add_10:0' shape=(1, ?) dtype=float32>,\n",
       " <tf.Tensor 'norm/Sqrt:0' shape=(1, ?) dtype=float32>)"
      ]
     },
     "execution_count": 9,
     "metadata": {},
     "output_type": "execute_result"
    }
   ],
   "source": [
    "nn.logits, nn2.logits"
   ]
  },
  {
   "cell_type": "code",
   "execution_count": 13,
   "metadata": {},
   "outputs": [
    {
     "data": {
      "text/plain": [
       "(<tf.Tensor 'Sigmoid_2:0' shape=(1, ?) dtype=float32>,\n",
       " <tf.Tensor 'norm/Sqrt:0' shape=(1, ?) dtype=float32>)"
      ]
     },
     "execution_count": 13,
     "metadata": {},
     "output_type": "execute_result"
    }
   ],
   "source": [
    "nn.probabilities, nn2.probabilities"
   ]
  },
  {
   "cell_type": "code",
   "execution_count": 14,
   "metadata": {},
   "outputs": [
    {
     "data": {
      "text/plain": [
       "(<tf.Tensor 'Greater:0' shape=(1, ?) dtype=bool>,\n",
       " <tf.Tensor 'Greater:0' shape=(1, ?) dtype=bool>)"
      ]
     },
     "execution_count": 14,
     "metadata": {},
     "output_type": "execute_result"
    }
   ],
   "source": [
    "nn.predicted_labels, nn2.predicted_labels"
   ]
  },
  {
   "cell_type": "markdown",
   "metadata": {},
   "source": [
    "# Compute Contrastive loss:\n",
    "-  euclidean distance between the outputs of two neural networks as Dw\n",
    "-  compute the exact loss function where Dw is the euclidean distance of the last layer"
   ]
  },
  {
   "cell_type": "code",
   "execution_count": 63,
   "metadata": {},
   "outputs": [],
   "source": [
    "# Dw = tf.placeholder(dtype= tf.float32, shape=(1,None)) # arbitrarily assign a value but normally compute Euc-norm\n",
    "# Dw = tf.norm(nn.diff,axis=0,keepdims= True)\n",
    "tf.reset_default_graph()\n",
    "diff = tf.placeholder(dtype=tf.float32,shape=(3,None))\n",
    "Dw = tf.norm(diff,axis=0,keepdims= True)\n",
    "margin = 1.0\n",
    "y = tf.placeholder(dtype = tf.float32, shape=(1,None))\n",
    "# cost = (1./y.get_shape().as_list()[1]) *  (tf.matmul((1-y),0.5 * tf.transpose(tf.square((Dw)))) + tf.matmul(y,0.5*tf.transpose(tf.square(tf.maximum(tf.zeros_like(Dw),margin - Dw)))))\n",
    "# cost = tf.reduce_mean(tf.tensordot((1-y),0.5 * tf.square((Dw)),axes=1)) + tf.reduce_mean(tf.tensordot(y,0.5*tf.square(tf.maximum(tf.zeros_like(Dw),margin - Dw)),axes=1))\n",
    "cost = tf.reduce_mean(0.5* ((1-y) * tf.square((Dw)) + (y * tf.square(tf.maximum(tf.zeros_like(Dw),margin - Dw)))))"
   ]
  },
  {
   "cell_type": "code",
   "execution_count": 47,
   "metadata": {},
   "outputs": [],
   "source": [
    "with tf.Session() as sess:\n",
    "    c = sess.run([cost],feed_dict={\n",
    "        y: np.array([[1.,0]]),\n",
    "        diff : np.array([[0.1,0.2],[0.3,0.4],[0.5,0.6]])\n",
    "    })"
   ]
  },
  {
   "cell_type": "code",
   "execution_count": 36,
   "metadata": {},
   "outputs": [
    {
     "data": {
      "text/plain": [
       "int"
      ]
     },
     "execution_count": 36,
     "metadata": {},
     "output_type": "execute_result"
    }
   ],
   "source": [
    "type(y.get_shape().as_list()[0])"
   ]
  },
  {
   "cell_type": "code",
   "execution_count": 48,
   "metadata": {},
   "outputs": [
    {
     "data": {
      "text/plain": [
       "<tf.Tensor 'Mean:0' shape=() dtype=float32>"
      ]
     },
     "execution_count": 48,
     "metadata": {},
     "output_type": "execute_result"
    }
   ],
   "source": [
    "cost"
   ]
  },
  {
   "cell_type": "code",
   "execution_count": 49,
   "metadata": {},
   "outputs": [
    {
     "data": {
      "text/plain": [
       "[0.18169604]"
      ]
     },
     "execution_count": 49,
     "metadata": {},
     "output_type": "execute_result"
    }
   ],
   "source": [
    "c"
   ]
  },
  {
   "cell_type": "code",
   "execution_count": 55,
   "metadata": {},
   "outputs": [
    {
     "data": {
      "text/plain": [
       "<tf.Tensor 'Maximum:0' shape=(1, 3) dtype=float32>"
      ]
     },
     "execution_count": 55,
     "metadata": {},
     "output_type": "execute_result"
    }
   ],
   "source": [
    "tf.maximum(0.,np.array([[1,2,3]]))"
   ]
  },
  {
   "cell_type": "code",
   "execution_count": 56,
   "metadata": {},
   "outputs": [
    {
     "data": {
      "text/plain": [
       "<tf.Tensor 'Maximum_1:0' shape=(1, 3) dtype=int64>"
      ]
     },
     "execution_count": 56,
     "metadata": {},
     "output_type": "execute_result"
    }
   ],
   "source": [
    "tf.maximum(tf.zeros_like(np.array([[1,2,3]])),np.array([[1,2,3]]))"
   ]
  },
  {
   "cell_type": "code",
   "execution_count": 61,
   "metadata": {},
   "outputs": [
    {
     "data": {
      "text/plain": [
       "<function tensorflow.python.ops.gen_math_ops.add(x, y, name=None)>"
      ]
     },
     "execution_count": 61,
     "metadata": {},
     "output_type": "execute_result"
    }
   ],
   "source": [
    "tf.add"
   ]
  },
  {
   "cell_type": "code",
   "execution_count": 64,
   "metadata": {},
   "outputs": [
    {
     "name": "stdout",
     "output_type": "stream",
     "text": [
      "[[0.591608   0.74833155]] [0.591608   0.74833155]\n"
     ]
    }
   ],
   "source": [
    "Dw2 = tf.sqrt(tf.reduce_sum(tf.square(diff),axis=0))\n",
    "with tf.Session() as sess:\n",
    "    d1,d2 = sess.run([Dw,Dw2],feed_dict={\n",
    "        diff : np.array([[0.1,0.2],[0.3,0.4],[0.5,0.6]])\n",
    "    })\n",
    "print(d1,d2)"
   ]
  },
  {
   "cell_type": "code",
   "execution_count": 2,
   "metadata": {},
   "outputs": [
    {
     "name": "stdout",
     "output_type": "stream",
     "text": [
      "(180, 105, 105)\n",
      "(120, 105, 105)\n",
      "(100, 105, 105)\n"
     ]
    }
   ],
   "source": [
    "orl = Loader(mode=\"orl_split\",n_examples=10,path='/Users/mehmetbezcioglu/Documents/SEMESTER1/ThirdYearProject')"
   ]
  },
  {
   "cell_type": "code",
   "execution_count": 3,
   "metadata": {},
   "outputs": [
    {
     "data": {
      "text/plain": [
       "(30, 6, 105, 105, 1)"
      ]
     },
     "execution_count": 3,
     "metadata": {},
     "output_type": "execute_result"
    }
   ],
   "source": [
    "orl.X.shape"
   ]
  },
  {
   "cell_type": "code",
   "execution_count": 4,
   "metadata": {},
   "outputs": [
    {
     "data": {
      "text/plain": [
       "(30, 4, 105, 105, 1)"
      ]
     },
     "execution_count": 4,
     "metadata": {},
     "output_type": "execute_result"
    }
   ],
   "source": [
    "orl.X_validation.shape"
   ]
  },
  {
   "cell_type": "code",
   "execution_count": 5,
   "metadata": {},
   "outputs": [
    {
     "data": {
      "text/plain": [
       "(10, 10, 105, 105, 1)"
      ]
     },
     "execution_count": 5,
     "metadata": {},
     "output_type": "execute_result"
    }
   ],
   "source": [
    "orl.one_shot_set.shape"
   ]
  },
  {
   "cell_type": "code",
   "execution_count": 6,
   "metadata": {},
   "outputs": [],
   "source": [
    "a,b,c = orl.generateOneShotTrials(orl.one_shot_set,5)"
   ]
  },
  {
   "cell_type": "code",
   "execution_count": 7,
   "metadata": {},
   "outputs": [
    {
     "data": {
      "text/plain": [
       "(5, 105, 105, 1)"
      ]
     },
     "execution_count": 7,
     "metadata": {},
     "output_type": "execute_result"
    }
   ],
   "source": [
    "a.shape"
   ]
  },
  {
   "cell_type": "code",
   "execution_count": 8,
   "metadata": {},
   "outputs": [
    {
     "data": {
      "text/plain": [
       "(5, 105, 105, 1)"
      ]
     },
     "execution_count": 8,
     "metadata": {},
     "output_type": "execute_result"
    }
   ],
   "source": [
    "b.shape"
   ]
  },
  {
   "cell_type": "code",
   "execution_count": 9,
   "metadata": {},
   "outputs": [
    {
     "data": {
      "text/plain": [
       "(1, 5)"
      ]
     },
     "execution_count": 9,
     "metadata": {},
     "output_type": "execute_result"
    }
   ],
   "source": [
    "c.shape"
   ]
  },
  {
   "cell_type": "code",
   "execution_count": 10,
   "metadata": {},
   "outputs": [
    {
     "data": {
      "image/png": "[encoded data removed]",
      "text/plain": [
       "<Figure size 432x288 with 1 Axes>"
      ]
     },
     "metadata": {
      "needs_background": "light"
     },
     "output_type": "display_data"
    }
   ],
   "source": [
    "plt.imshow(a[1].reshape(105,105),cmap='gray')\n",
    "plt.show()"
   ]
  },
  {
   "cell_type": "code",
   "execution_count": 11,
   "metadata": {},
   "outputs": [
    {
     "data": {
      "image/png": "[encoded data removed]",
      "text/plain": [
       "<Figure size 432x288 with 1 Axes>"
      ]
     },
     "metadata": {
      "needs_background": "light"
     },
     "output_type": "display_data"
    }
   ],
   "source": [
    "plt.imshow(b[1].reshape(105,105),cmap='gray')\n",
    "plt.show()"
   ]
  },
  {
   "cell_type": "code",
   "execution_count": 8,
   "metadata": {},
   "outputs": [
    {
     "data": {
      "text/plain": [
       "array([[1., 1.],\n",
       "       [1., 1.]])"
      ]
     },
     "execution_count": 8,
     "metadata": {},
     "output_type": "execute_result"
    }
   ],
   "source": [
    "np.ones([2,2])"
   ]
  },
  {
   "cell_type": "code",
   "execution_count": 27,
   "metadata": {},
   "outputs": [
    {
     "data": {
      "text/plain": [
       "array([[1., 9.]], dtype=float32)"
      ]
     },
     "execution_count": 27,
     "metadata": {},
     "output_type": "execute_result"
    }
   ],
   "source": [
    "\n",
    "a = tf.placeholder(shape=(1,None),dtype=tf.float32)\n",
    "b = tf.placeholder(shape=(1,None),dtype=tf.float32)\n",
    "d = a*b #tf.tensordot(a, b,axes = 1)\n",
    "with tf.Session() as sess:\n",
    "    r =  sess.run(d,feed_dict ={\n",
    "        a:np.array([[1.,3.]]),\n",
    "        b:np.array([[1.,3.]]),\n",
    "    })\n",
    "    \n",
    "r"
   ]
  },
  {
   "cell_type": "code",
   "execution_count": 30,
   "metadata": {},
   "outputs": [
    {
     "data": {
      "text/plain": [
       "<tf.Tensor 'Sigmoid_3:0' shape=(1, ?) dtype=float32>"
      ]
     },
     "execution_count": 30,
     "metadata": {},
     "output_type": "execute_result"
    }
   ],
   "source": [
    "\n",
    "tf.sigmoid(nn.logits)"
   ]
  },
  {
   "cell_type": "code",
   "execution_count": 44,
   "metadata": {},
   "outputs": [
    {
     "data": {
      "text/plain": [
       "<tf.Tensor 'Mean_6:0' shape=() dtype=float32>"
      ]
     },
     "execution_count": 44,
     "metadata": {},
     "output_type": "execute_result"
    }
   ],
   "source": [
    "tf.reduce_mean(-tf.reduce_sum((nn.Y * tf.log(tf.clip_by_value(tf.sigmoid(nn.logits),1e-10,1.0))) + (1-nn.Y) * tf.log(tf.clip_by_value(1-tf.sigmoid(nn.logits),1e-10,1.0) )) + 2)"
   ]
  },
  {
   "cell_type": "code",
   "execution_count": null,
   "metadata": {},
   "outputs": [],
   "source": [
    "b = tf.log(a)\n"
   ]
  }
 ],
 "metadata": {
  "kernelspec": {
   "display_name": "Python 3",
   "language": "python",
   "name": "python3"
  },
  "language_info": {
   "codemirror_mode": {
    "name": "ipython",
    "version": 3
   },
   "file_extension": ".py",
   "mimetype": "text/x-python",
   "name": "python",
   "nbconvert_exporter": "python",
   "pygments_lexer": "ipython3",
   "version": "3.5.2"
  }
 },
 "nbformat": 4,
 "nbformat_minor": 2
}
