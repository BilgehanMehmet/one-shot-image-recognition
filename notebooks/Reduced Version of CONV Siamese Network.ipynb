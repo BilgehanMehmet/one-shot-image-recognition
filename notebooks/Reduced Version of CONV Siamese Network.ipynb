{
 "cells": [
  {
   "cell_type": "code",
   "execution_count": 32,
   "metadata": {},
   "outputs": [],
   "source": [
    "import sys\n",
    "sys.path.append('/Users/mehmetbezcioglu/Documents/SEMESTER1/DeepLearning/one_shot_learning/image_similarity')\n",
    "from networks.siamese import MNIST\n",
    "from datasets import Loader\n",
    "import tensorflow as tf\n",
    "import numpy as np\n",
    "import cv2\n",
    "from bin.utils import plot,get_val_acc\n",
    "import matplotlib.pyplot as plt"
   ]
  },
  {
   "cell_type": "markdown",
   "metadata": {},
   "source": [
    "# Build the model"
   ]
  },
  {
   "cell_type": "code",
   "execution_count": 2,
   "metadata": {},
   "outputs": [],
   "source": [
    "tf.reset_default_graph()\n",
    "nn = MNIST(shape=(35,35))\n",
    "nn.forward_prop()\n",
    "nn.compute_cost(mode=\"l2_on\")\n",
    "nn.optimize(\"Momentum\")\n",
    "nn.accuracy()"
   ]
  },
  {
   "cell_type": "code",
   "execution_count": 3,
   "metadata": {
    "scrolled": true
   },
   "outputs": [
    {
     "name": "stdout",
     "output_type": "stream",
     "text": [
      "<MNIST:\n",
      " CONV_1: Tensor(\"Relu_4:0\", shape=(?, 33, 33, 96), dtype=float32)\n",
      " POOL_1: Tensor(\"MaxPool_2:0\", shape=(?, 16, 16, 96), dtype=float32)\n",
      " CONV_2: Tensor(\"Relu_5:0\", shape=(?, 12, 12, 256), dtype=float32)\n",
      " POOL_2: Tensor(\"MaxPool_3:0\", shape=(?, 6, 6, 256), dtype=float32)\n",
      " CONV_3: Tensor(\"Relu_6:0\", shape=(?, 4, 4, 256), dtype=float32)\n",
      " FLATTENED:Tensor(\"transpose_1:0\", shape=(4096, ?), dtype=float32)\n",
      ">\n",
      "Tensor(\"Mean:0\", shape=(), dtype=float32)\n",
      "Tensor(\"Mean_1:0\", shape=(), dtype=float32)\n",
      "[<tf.Operation 'Momentum' type=NoOp>, <tf.Operation 'Momentum_1' type=NoOp>, <tf.Operation 'Momentum_2' type=NoOp>, <tf.Operation 'Momentum_3' type=NoOp>, <tf.Operation 'Momentum_4' type=NoOp>]\n"
     ]
    },
    {
     "data": {
      "text/plain": [
       "<tf.Tensor 'Greater:0' shape=(1, ?) dtype=bool>"
      ]
     },
     "execution_count": 3,
     "metadata": {},
     "output_type": "execute_result"
    }
   ],
   "source": [
    "print(nn)\n",
    "print(nn.cost)\n",
    "print(nn.accuracy)\n",
    "print(nn.optimizer)\n",
    "nn.predicted_labels"
   ]
  },
  {
   "cell_type": "markdown",
   "metadata": {},
   "source": [
    "# Scale the dataset"
   ]
  },
  {
   "cell_type": "code",
   "execution_count": 4,
   "metadata": {},
   "outputs": [
    {
     "name": "stdout",
     "output_type": "stream",
     "text": [
      "19280\n",
      "(964, 20, 105, 105, 1)\n"
     ]
    }
   ],
   "source": [
    "data = Loader(n_examples=20,mode=None,normalise=True)"
   ]
  },
  {
   "cell_type": "code",
   "execution_count": 21,
   "metadata": {},
   "outputs": [
    {
     "data": {
      "image/png": "[encoded data removed]",
      "text/plain": [
       "<Figure size 432x288 with 1 Axes>"
      ]
     },
     "metadata": {
      "needs_background": "light"
     },
     "output_type": "display_data"
    },
    {
     "data": {
      "text/plain": [
       "(105, 105, 1)"
      ]
     },
     "execution_count": 21,
     "metadata": {},
     "output_type": "execute_result"
    }
   ],
   "source": [
    "plot(data.X[0,0].reshape(105,105))\n",
    "data.X[0,0].shape"
   ]
  },
  {
   "cell_type": "markdown",
   "metadata": {},
   "source": [
    "# Scale one image"
   ]
  },
  {
   "cell_type": "code",
   "execution_count": 23,
   "metadata": {},
   "outputs": [
    {
     "data": {
      "image/png": "[encoded data removed]",
      "text/plain": [
       "<Figure size 432x288 with 1 Axes>"
      ]
     },
     "metadata": {
      "needs_background": "light"
     },
     "output_type": "display_data"
    },
    {
     "data": {
      "text/plain": [
       "(35, 35, 1)"
      ]
     },
     "execution_count": 23,
     "metadata": {},
     "output_type": "execute_result"
    }
   ],
   "source": [
    "img_rescaled = cv2.resize(data.X[0,0],(35,35),interpolation=cv2.INTER_AREA).reshape(35,35,1)\n",
    "plt.imshow(img_rescaled.reshape(35,35),cmap='gray')\n",
    "plt.show()\n",
    "img_rescaled.shape"
   ]
  },
  {
   "cell_type": "markdown",
   "metadata": {},
   "source": [
    "# Scale the rest of the dataset"
   ]
  },
  {
   "cell_type": "code",
   "execution_count": null,
   "metadata": {},
   "outputs": [],
   "source": [
    "# data.X.reshape().shape\n",
    "data.X = data.X.reshape(-1,105,105)\n",
    "# data.X.shape\n",
    "for idx in range(data.X.shape[0]):\n",
    "    data.X[idx] = cv2.resize(data.X[idx],(35,35),interpolation=cv2.INTER_AREA).reshape(35,35,1)"
   ]
  },
  {
   "cell_type": "code",
   "execution_count": null,
   "metadata": {},
   "outputs": [],
   "source": [
    "print(data.X.shape)"
   ]
  },
  {
   "cell_type": "markdown",
   "metadata": {},
   "source": [
    "# Train the model"
   ]
  },
  {
   "cell_type": "code",
   "execution_count": 42,
   "metadata": {},
   "outputs": [],
   "source": [
    "def calc_one_shot_acc(nn,sess,test_data,val_data,n_trials_per_iter,n_trials):\n",
    "    val_acc = 0\n",
    "    one_shot_acc = 0\n",
    "    for _ in range(n_trials // n_trials_per_iter): \n",
    "        test_imgs, train_imgs, labels = test_data.generateOneShotTrials(test_data.X_validation,size=n_trials_per_iter)          \n",
    "        val_acc += utils.get_val_acc(test_imgs,train_imgs,labels,sess,nn,shape=(35,35))\n",
    "        one_shot_test_imgs, one_shot_train_imgs, one_shot_labels = val_data.generateOneShotTrials(val_data.X,size=n_trials_per_iter)          \n",
    "        one_shot_acc += utils.get_val_acc(one_shot_test_imgs,one_shot_train_imgs,one_shot_labels,sess,nn,shape=(35,35))\n",
    "    return val_acc/ n_trials, one_shot_acc/ n_trials"
   ]
  },
  {
   "cell_type": "code",
   "execution_count": 43,
   "metadata": {},
   "outputs": [],
   "source": [
    "def display_data(epoch,epoch_loss,epoch_acc,val_acc,one_shot_acc):\n",
    "    print(\"Epoch:{}\\t Epoch Loss:{}\\t Train acc:{} \\t Val acc:{}\\t One Shot acc:{}\".format(epoch,epoch_loss,epoch_acc,val_acc,one_shot_acc))\n",
    "    print('{{\"metric\" : \"Loss\", \"value\":{}}}'.format(epoch_loss))\n",
    "    print('{{\"metric\" : \"Training Accuracy\", \"value\":{}}}'.format(epoch_acc))\n",
    "    print('{{\"metric\" : \"Validation Accuracy\", \"value\":{}}}'.format(val_acc))\n",
    "    print('{{\"metric\" : \"One-shot Accuracy\", \"value\":{}}}'.format(one_shot_acc))"
   ]
  },
  {
   "cell_type": "code",
   "execution_count": 44,
   "metadata": {},
   "outputs": [],
   "source": [
    "def train(nn,hyperparameters,train_data,test_data,val_data,epochs,batch_size,drawer_size):\n",
    "    saver = tf.train.Saver()\n",
    "    filepath = \"/output/conv_siamese_model\"\n",
    "    seed = 1 \n",
    "    n_trials = 400\n",
    "    n_trials_per_iter = 10\n",
    "    with tf.Session() as sess:\n",
    "        sess.run(tf.global_variables_initializer())\n",
    "        # saver.restore(sess,\"/floyd/input/model/conv_siamese_model_40.ckpt\")\n",
    "        # print(\"conv_siamese_model_40.ckpt is restored.\")\n",
    "        for epoch in range(epochs+1):\n",
    "            epoch_loss = 0\n",
    "            epoch_acc = 0\n",
    "            training_batch = train_data.get_training_pairs(batch_size= batch_size, drawer_size= drawer_size, seed=seed)\n",
    "            seed += ((train_data.X.shape[0] * train_data.X.shape[1]) // training_batch[0][0].shape[0])       \n",
    "            for counter, batch in enumerate(training_batch):\n",
    "                X1 = batch[0]\n",
    "                X2 = batch[1]\n",
    "                Y  = batch[2]\n",
    "                _, c, a= sess.run([nn.optimizer,nn.cost,nn.accuracy], feed_dict={\n",
    "                    nn.X:  X1,\n",
    "                    nn.X2: X2,\n",
    "                    nn.Y:  Y,\n",
    "                    nn.learning_rates[0]:hyperparameters[0]   * (0.99** epoch),#0.5\n",
    "                    nn.learning_rates[1]:hyperparameters[1] * (0.99** epoch),\n",
    "                    nn.learning_rates[2]:hyperparameters[2]  * (0.99** epoch),\n",
    "                    nn.learning_rates[3]:hyperparameters[3]  * (0.99** epoch),\n",
    "                    nn.learning_rates[4]:hyperparameters[4]  * (0.99** epoch),\n",
    "                    nn.momentums[0]:hyperparameters[6]  * (1.01** epoch),\n",
    "                    nn.momentums[1]:hyperparameters[7]  * (1.01** epoch),\n",
    "                    nn.momentums[2]:hyperparameters[8]  * (1.01** epoch),\n",
    "                    nn.momentums[3]:hyperparameters[9]  * (1.01** epoch),\n",
    "                    nn.momentums[4]:hyperparameters[10]  * (1.01** epoch)\n",
    "                })\n",
    "                epoch_acc += (a/len(training_batch))\n",
    "                epoch_loss += (c/ len(training_batch))\n",
    "            val_acc, one_shot_acc = calc_one_shot_acc(nn,sess,test_data,val_data,n_trials_per_iter,n_trials)\n",
    "            display_data(epoch,epoch_loss,epoch_acc,val_acc,one_shot_acc)\n",
    "            if ((epoch % 10 == 0) and epoch != 0):\n",
    "                print(\"Saving the model...\")\n",
    "                saver.save(sess,filepath + \"_\" + str(epoch) + \".ckpt\")\n",
    "    return one_shot_acc"
   ]
  },
  {
   "cell_type": "code",
   "execution_count": 45,
   "metadata": {},
   "outputs": [
    {
     "name": "stdout",
     "output_type": "stream",
     "text": [
      "0\n"
     ]
    },
    {
     "ename": "IndexError",
     "evalue": "tuple index out of range",
     "output_type": "error",
     "traceback": [
      "\u001b[0;31m---------------------------------------------------------------------------\u001b[0m",
      "\u001b[0;31mIndexError\u001b[0m                                Traceback (most recent call last)",
      "\u001b[0;32m<ipython-input-45-5af77a645089>\u001b[0m in \u001b[0;36m<module>\u001b[0;34m\u001b[0m\n\u001b[0;32m----> 1\u001b[0;31m \u001b[0mtrain_data\u001b[0m \u001b[0;34m=\u001b[0m \u001b[0mLoader\u001b[0m\u001b[0;34m(\u001b[0m\u001b[0mn_examples\u001b[0m\u001b[0;34m=\u001b[0m\u001b[0;36m100\u001b[0m\u001b[0;34m,\u001b[0m\u001b[0mmode\u001b[0m\u001b[0;34m=\u001b[0m\u001b[0;34m\"train_split\"\u001b[0m\u001b[0;34m,\u001b[0m\u001b[0mpath\u001b[0m\u001b[0;34m=\u001b[0m\u001b[0;34m\"/floyd/input/omniglot_dataset\"\u001b[0m\u001b[0;34m,\u001b[0m\u001b[0mnormalise\u001b[0m\u001b[0;34m=\u001b[0m \u001b[0;32mTrue\u001b[0m\u001b[0;34m)\u001b[0m\u001b[0;34m\u001b[0m\u001b[0m\n\u001b[0m\u001b[1;32m      2\u001b[0m \u001b[0mtest_data\u001b[0m  \u001b[0;34m=\u001b[0m \u001b[0mLoader\u001b[0m\u001b[0;34m(\u001b[0m\u001b[0mn_examples\u001b[0m\u001b[0;34m=\u001b[0m\u001b[0;36m20\u001b[0m\u001b[0;34m,\u001b[0m\u001b[0mmode\u001b[0m\u001b[0;34m=\u001b[0m\u001b[0;32mNone\u001b[0m\u001b[0;34m,\u001b[0m\u001b[0mpath\u001b[0m\u001b[0;34m=\u001b[0m\u001b[0;34m\"/floyd/input/val_set\"\u001b[0m\u001b[0;34m,\u001b[0m\u001b[0mnormalise\u001b[0m\u001b[0;34m=\u001b[0m\u001b[0;32mTrue\u001b[0m\u001b[0;34m)\u001b[0m\u001b[0;34m\u001b[0m\u001b[0m\n\u001b[1;32m      3\u001b[0m hyperparameters = [\n\u001b[1;32m      4\u001b[0m                     \u001b[0;36m0.1\u001b[0m\u001b[0;34m,\u001b[0m\u001b[0;34m\u001b[0m\u001b[0m\n\u001b[1;32m      5\u001b[0m                     \u001b[0;36m0.1\u001b[0m\u001b[0;34m,\u001b[0m\u001b[0;34m\u001b[0m\u001b[0m\n",
      "\u001b[0;32m~/Documents/SEMESTER1/DeepLearning/one_shot_learning/image_similarity/datasets/loader.py\u001b[0m in \u001b[0;36m__init__\u001b[0;34m(self, n_examples, mode, path, normalise)\u001b[0m\n\u001b[1;32m     27\u001b[0m                 \u001b[0;31m# file_.close()\u001b[0m\u001b[0;34m\u001b[0m\u001b[0;34m\u001b[0m\u001b[0m\n\u001b[1;32m     28\u001b[0m                 \u001b[0mprint\u001b[0m\u001b[0;34m(\u001b[0m\u001b[0mlen\u001b[0m\u001b[0;34m(\u001b[0m\u001b[0mself\u001b[0m\u001b[0;34m.\u001b[0m\u001b[0mX\u001b[0m\u001b[0;34m)\u001b[0m\u001b[0;34m)\u001b[0m\u001b[0;34m\u001b[0m\u001b[0m\n\u001b[0;32m---> 29\u001b[0;31m                 \u001b[0mself\u001b[0m\u001b[0;34m.\u001b[0m\u001b[0mX\u001b[0m \u001b[0;34m=\u001b[0m \u001b[0mself\u001b[0m\u001b[0;34m.\u001b[0m\u001b[0m__normalise\u001b[0m\u001b[0;34m(\u001b[0m\u001b[0mself\u001b[0m\u001b[0;34m.\u001b[0m\u001b[0mX\u001b[0m\u001b[0;34m,\u001b[0m\u001b[0mn_examples\u001b[0m \u001b[0;34m=\u001b[0m \u001b[0mn_examples\u001b[0m\u001b[0;34m-\u001b[0m\u001b[0;36m2\u001b[0m\u001b[0;34m,\u001b[0m\u001b[0mnormalise\u001b[0m\u001b[0;34m=\u001b[0m \u001b[0mnormalise\u001b[0m\u001b[0;34m)\u001b[0m \u001b[0;32mif\u001b[0m \u001b[0mmode\u001b[0m \u001b[0;34m==\u001b[0m \u001b[0;34m\"train_split\"\u001b[0m \u001b[0;32melse\u001b[0m \u001b[0mself\u001b[0m\u001b[0;34m.\u001b[0m\u001b[0m__normalise\u001b[0m\u001b[0;34m(\u001b[0m\u001b[0mself\u001b[0m\u001b[0;34m.\u001b[0m\u001b[0mX\u001b[0m\u001b[0;34m,\u001b[0m\u001b[0mn_examples\u001b[0m \u001b[0;34m=\u001b[0m \u001b[0mn_examples\u001b[0m\u001b[0;34m,\u001b[0m\u001b[0mnormalise\u001b[0m\u001b[0;34m=\u001b[0m \u001b[0mnormalise\u001b[0m\u001b[0;34m)\u001b[0m\u001b[0;34m\u001b[0m\u001b[0m\n\u001b[0m\u001b[1;32m     30\u001b[0m                 \u001b[0mself\u001b[0m\u001b[0;34m.\u001b[0m\u001b[0mX_validation\u001b[0m \u001b[0;34m=\u001b[0m \u001b[0mself\u001b[0m\u001b[0;34m.\u001b[0m\u001b[0m__normalise\u001b[0m\u001b[0;34m(\u001b[0m\u001b[0mself\u001b[0m\u001b[0;34m.\u001b[0m\u001b[0mX_validation\u001b[0m\u001b[0;34m,\u001b[0m\u001b[0mn_examples\u001b[0m \u001b[0;34m=\u001b[0m \u001b[0;36m2\u001b[0m\u001b[0;34m,\u001b[0m\u001b[0mnormalise\u001b[0m\u001b[0;34m=\u001b[0m \u001b[0mnormalise\u001b[0m\u001b[0;34m)\u001b[0m \u001b[0;32mif\u001b[0m \u001b[0mmode\u001b[0m \u001b[0;34m==\u001b[0m \u001b[0;34m\"train_split\"\u001b[0m \u001b[0;32melse\u001b[0m \u001b[0;32mNone\u001b[0m\u001b[0;34m\u001b[0m\u001b[0m\n\u001b[1;32m     31\u001b[0m                 \u001b[0;31m# remainder = len(self.X) % n_examples\u001b[0m\u001b[0;34m\u001b[0m\u001b[0;34m\u001b[0m\u001b[0m\n",
      "\u001b[0;32m~/Documents/SEMESTER1/DeepLearning/one_shot_learning/image_similarity/datasets/loader.py\u001b[0m in \u001b[0;36m__normalise\u001b[0;34m(X, n_examples, normalise)\u001b[0m\n\u001b[1;32m     54\u001b[0m                 \u001b[0;32melse\u001b[0m\u001b[0;34m:\u001b[0m\u001b[0;34m\u001b[0m\u001b[0m\n\u001b[1;32m     55\u001b[0m                         \u001b[0mX\u001b[0m \u001b[0;34m=\u001b[0m \u001b[0mnp\u001b[0m\u001b[0;34m.\u001b[0m\u001b[0masarray\u001b[0m\u001b[0;34m(\u001b[0m\u001b[0mX\u001b[0m\u001b[0;34m)\u001b[0m\u001b[0;34m\u001b[0m\u001b[0m\n\u001b[0;32m---> 56\u001b[0;31m                 \u001b[0mX\u001b[0m \u001b[0;34m=\u001b[0m \u001b[0mX\u001b[0m\u001b[0;34m.\u001b[0m\u001b[0mreshape\u001b[0m\u001b[0;34m(\u001b[0m\u001b[0;34m-\u001b[0m\u001b[0;36m1\u001b[0m\u001b[0;34m,\u001b[0m\u001b[0mn_examples\u001b[0m\u001b[0;34m,\u001b[0m\u001b[0mX\u001b[0m\u001b[0;34m.\u001b[0m\u001b[0mshape\u001b[0m\u001b[0;34m[\u001b[0m\u001b[0;36m1\u001b[0m\u001b[0;34m]\u001b[0m\u001b[0;34m,\u001b[0m\u001b[0mX\u001b[0m\u001b[0;34m.\u001b[0m\u001b[0mshape\u001b[0m\u001b[0;34m[\u001b[0m\u001b[0;36m2\u001b[0m\u001b[0;34m]\u001b[0m\u001b[0;34m,\u001b[0m\u001b[0;36m1\u001b[0m\u001b[0;34m)\u001b[0m\u001b[0;34m\u001b[0m\u001b[0m\n\u001b[0m\u001b[1;32m     57\u001b[0m                 \u001b[0mprint\u001b[0m\u001b[0;34m(\u001b[0m\u001b[0mX\u001b[0m\u001b[0;34m.\u001b[0m\u001b[0mshape\u001b[0m\u001b[0;34m)\u001b[0m\u001b[0;34m\u001b[0m\u001b[0m\n\u001b[1;32m     58\u001b[0m                 \u001b[0;32mif\u001b[0m \u001b[0mnormalise\u001b[0m\u001b[0;34m:\u001b[0m\u001b[0;34m\u001b[0m\u001b[0m\n",
      "\u001b[0;31mIndexError\u001b[0m: tuple index out of range"
     ]
    }
   ],
   "source": [
    "train_data = Loader(n_examples=100,mode=\"train_split\",path=\"/floyd/input/omniglot_dataset\",normalise= True)\n",
    "test_data  = Loader(n_examples=20,mode=None,path=\"/floyd/input/val_set\",normalise=True) \n",
    "hyperparameters = [\n",
    "                    0.1,\n",
    "                    0.1,\n",
    "                    0.1,\n",
    "                    0.05,\n",
    "                    0.01,\n",
    "                    0.5,\n",
    "                    0.5,\n",
    "                    0.5,\n",
    "                    0.5,\n",
    "                    0.5\n",
    "          ]\n",
    "acc = train(nn,hyperparameters,train_data,train_data,test_data,epochs=100,batch_size=128,drawer_size=2)\n",
    "print(\"Final one shot accuracy:{}\".format(acc))"
   ]
  },
  {
   "cell_type": "code",
   "execution_count": null,
   "metadata": {},
   "outputs": [],
   "source": []
  }
 ],
 "metadata": {
  "kernelspec": {
   "display_name": "Python 3",
   "language": "python",
   "name": "python3"
  },
  "language_info": {
   "codemirror_mode": {
    "name": "ipython",
    "version": 3
   },
   "file_extension": ".py",
   "mimetype": "text/x-python",
   "name": "python",
   "nbconvert_exporter": "python",
   "pygments_lexer": "ipython3",
   "version": "3.5.2"
  }
 },
 "nbformat": 4,
 "nbformat_minor": 2
}
