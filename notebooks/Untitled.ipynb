{
 "cells": [
  {
   "cell_type": "code",
   "execution_count": 1,
   "metadata": {},
   "outputs": [],
   "source": [
    "import numpy as np\n",
    "import matplotlib.pyplot as plt\n",
    "import tensorflow as tf\n",
    "import sys\n",
    "import cv2"
   ]
  },
  {
   "cell_type": "code",
   "execution_count": 2,
   "metadata": {},
   "outputs": [],
   "source": [
    "if not '/Users/mehmetbezcioglu/Documents/SEMESTER1/DeepLearning/one_shot_learning/image_similarity/datasets' in sys.path:\n",
    "    sys.path.append('/Users/mehmetbezcioglu/Documents/SEMESTER1/DeepLearning/one_shot_learning/image_similarity/datasets')\n",
    "\n",
    "if not '/Users/mehmetbezcioglu/Documents/SEMESTER1/DeepLearning/one_shot_learning/image_similarity/networks' in sys.path:\n",
    "    sys.path.append('/Users/mehmetbezcioglu/Documents/SEMESTER1/DeepLearning/one_shot_learning/image_similarity/networks')"
   ]
  },
  {
   "cell_type": "code",
   "execution_count": 3,
   "metadata": {},
   "outputs": [],
   "source": [
    "import Siamese_Dataset_Loader as Dataset\n",
    "from Convolutional_Siamese import *"
   ]
  },
  {
   "cell_type": "code",
   "execution_count": 6,
   "metadata": {},
   "outputs": [
    {
     "name": "stdout",
     "output_type": "stream",
     "text": [
      "19280\n",
      "(964, 20, 105, 105, 1)\n"
     ]
    }
   ],
   "source": [
    "data = Dataset.Loader(n_examples = 20, mode= None,normalise = True)"
   ]
  },
  {
   "cell_type": "code",
   "execution_count": 3,
   "metadata": {},
   "outputs": [],
   "source": [
    "def plot(X):\n",
    "    plt.imshow(X,cmap='gray')\n",
    "    plt.show()"
   ]
  },
  {
   "cell_type": "code",
   "execution_count": 13,
   "metadata": {},
   "outputs": [],
   "source": [
    "img_resized = cv2.resize(data.X[0][0],(35,35),cv2.INTER_AREA)"
   ]
  },
  {
   "cell_type": "code",
   "execution_count": 16,
   "metadata": {},
   "outputs": [
    {
     "data": {
      "image/png": "[encoded data removed]",
      "text/plain": [
       "<Figure size 432x288 with 1 Axes>"
      ]
     },
     "metadata": {
      "needs_background": "light"
     },
     "output_type": "display_data"
    }
   ],
   "source": [
    "plt.imshow(img_resized,cmap='gray')\n",
    "plt.show()"
   ]
  },
  {
   "cell_type": "code",
   "execution_count": 4,
   "metadata": {},
   "outputs": [],
   "source": [
    "import mnist\n",
    "imgs = mnist.test_images()\n",
    "labels = mnist.test_labels()"
   ]
  },
  {
   "cell_type": "code",
   "execution_count": 5,
   "metadata": {},
   "outputs": [
    {
     "name": "stdout",
     "output_type": "stream",
     "text": [
      "images.shape: (10000, 28, 28)\n",
      "labels.shape: (1, 10000)\n"
     ]
    }
   ],
   "source": [
    "imgs.shape\n",
    "labels = labels.reshape(1,-1)\n",
    "print(\"images.shape: {}\".format(imgs.shape))\n",
    "print(\"labels.shape: {}\".format(labels.shape))"
   ]
  },
  {
   "cell_type": "code",
   "execution_count": 6,
   "metadata": {},
   "outputs": [],
   "source": [
    "def generateOneShotTrials(X,size):\n",
    "    '''\n",
    "    Generates one shot trial for the data given where one one-shot trial is comparing one image against n-images.\n",
    "    Therefore, comparing 20 different images against 20 images is 20 one-shot trials of each trial being 20-way.\n",
    "\n",
    "    Arguments:\n",
    "    data -- shape = (n_chars, n_drawers, 105, 105, 1)\n",
    "\n",
    "    Returns:\n",
    "    trainImgs -- shape  (20,105,105,1)\n",
    "    testImgs -- shape (20,105,105,1)\n",
    "    labels -- shape(1,20)\n",
    "    '''\n",
    "    # print(\"in function\")\n",
    "    chars = np.random.randint(low= 0,high= X.shape[0],size=size)\n",
    "    # print()\n",
    "    # print(\"Characters drawn:{}\".format(chars))\n",
    "    # print(\"X[chars].shape: {}\".format(X[chars].shape))\n",
    "    drawers = np.random.randint(low=0 ,high=X[chars].shape[1],size=2) if X.shape[1] > 2 else np.random.permutation(2)\n",
    "    # print(\"Drawers drawn:{}\".format(drawers))\n",
    "    testImgs = X[chars,drawers[0]]\n",
    "    trainImgs = X[chars,drawers[1]]\n",
    "    #     trainImgs = \n",
    "    # print(testImgs.shape)\n",
    "    # print(trainImgs.shape)\n",
    "    labels = chars\n",
    "    #     plt.imshow(testImgs[0].reshape(105,105),cmap='gray')\n",
    "    #     plt.show()\n",
    "    #     plt.imshow(testImgs[1].reshape(105,105),cmap='gray')\n",
    "    #     plt.show()\n",
    "    #     plt.imshow(trainImgs[0].reshape(105,105),cmap='gray')\n",
    "    #     plt.show()\n",
    "    #     plt.imshow(trainImgs[1].reshape(105,105),cmap='gray')\n",
    "    #     plt.show()\n",
    "\n",
    "    return (testImgs,trainImgs,labels.reshape(1,size))\n",
    "\n",
    "\n"
   ]
  },
  {
   "cell_type": "code",
   "execution_count": 7,
   "metadata": {},
   "outputs": [
    {
     "data": {
      "text/plain": [
       "array([[7, 2, 1, ..., 4, 5, 6]], dtype=uint8)"
      ]
     },
     "execution_count": 7,
     "metadata": {},
     "output_type": "execute_result"
    }
   ],
   "source": [
    "labels"
   ]
  },
  {
   "cell_type": "code",
   "execution_count": 36,
   "metadata": {},
   "outputs": [],
   "source": [
    "a = [5,3,6,2,8,4]\n",
    "\n",
    "#sort the array\n",
    "for i in range(len(a)):\n",
    "    min_idx = i\n",
    "    for j in range(i+1,len(a)):\n",
    "        if a[min_idx] > a[j]:\n",
    "            min_idx = j\n",
    "    a[i],a[min_idx] = a[min_idx],a[i]"
   ]
  },
  {
   "cell_type": "code",
   "execution_count": 37,
   "metadata": {},
   "outputs": [
    {
     "data": {
      "text/plain": [
       "[2, 3, 4, 5, 6, 8]"
      ]
     },
     "execution_count": 37,
     "metadata": {},
     "output_type": "execute_result"
    }
   ],
   "source": [
    "a"
   ]
  },
  {
   "cell_type": "code",
   "execution_count": 8,
   "metadata": {},
   "outputs": [],
   "source": [
    "#sort the array\n",
    "for i in range(labels.shape[1]):\n",
    "    min_idx = i\n",
    "    for j in range(i+1,labels.shape[1]):\n",
    "        if labels[0,min_idx] > labels[0,j]:\n",
    "            min_idx = j\n",
    "    labels[0,i],labels[0,min_idx] = labels[0,min_idx],labels[0,i]\n",
    "    temp, imgs[min_idx,:] = imgs[min_idx,:].copy(), imgs[i,:].copy()\n",
    "    imgs[i,:] = temp"
   ]
  },
  {
   "cell_type": "code",
   "execution_count": 9,
   "metadata": {},
   "outputs": [
    {
     "data": {
      "text/plain": [
       "array([[0, 0, 0, ..., 9, 9, 9]], dtype=uint8)"
      ]
     },
     "execution_count": 9,
     "metadata": {},
     "output_type": "execute_result"
    }
   ],
   "source": [
    "labels"
   ]
  },
  {
   "cell_type": "code",
   "execution_count": 10,
   "metadata": {},
   "outputs": [
    {
     "data": {
      "image/png": "[encoded data removed]",
      "text/plain": [
       "<Figure size 432x288 with 1 Axes>"
      ]
     },
     "metadata": {
      "needs_background": "light"
     },
     "output_type": "display_data"
    },
    {
     "data": {
      "image/png": "[encoded data removed]",
      "text/plain": [
       "<Figure size 432x288 with 1 Axes>"
      ]
     },
     "metadata": {
      "needs_background": "light"
     },
     "output_type": "display_data"
    }
   ],
   "source": [
    "plot(imgs[5])\n",
    "plot(imgs[6])\n",
    "\n",
    "# temp = imgs[6].copy()\n",
    "# imgs[6] = imgs[5].copy()\n",
    "# imgs[5] = temp"
   ]
  },
  {
   "cell_type": "code",
   "execution_count": 19,
   "metadata": {},
   "outputs": [
    {
     "name": "stdout",
     "output_type": "stream",
     "text": [
      "892 5\n"
     ]
    }
   ],
   "source": [
    "min_length = np.shape(np.argwhere(labels==0))[0]\n",
    "for i in range(1,10):\n",
    "    length = np.shape(np.argwhere(labels==i))[0]\n",
    "    if min_length > length:\n",
    "        min_length = length\n",
    "        min_i = i\n",
    "print(min_length, min_i)"
   ]
  },
  {
   "cell_type": "code",
   "execution_count": 21,
   "metadata": {},
   "outputs": [
    {
     "name": "stdout",
     "output_type": "stream",
     "text": [
      "char 0 occurences:\t980\n",
      "char 1 occurences:\t1135\n",
      "char 2 occurences:\t1032\n",
      "char 3 occurences:\t1010\n",
      "char 4 occurences:\t982\n",
      "char 5 occurences:\t892\n",
      "char 6 occurences:\t958\n",
      "char 7 occurences:\t1028\n",
      "char 8 occurences:\t974\n",
      "char 9 occurences:\t1009\n"
     ]
    }
   ],
   "source": [
    "for i in range(10):\n",
    "    print(\"char {} occurences:\\t{}\".format(i,np.shape(np.argwhere(labels==i))[0]))"
   ]
  },
  {
   "cell_type": "code",
   "execution_count": 57,
   "metadata": {},
   "outputs": [],
   "source": [
    "def generate_mnist_data(data,labels,length):\n",
    "    '''\n",
    "    for each char:\n",
    "        get the #occurences\n",
    "        generate the random int range for size of =length\n",
    "        write current char into buffer along axis=0\n",
    "    '''\n",
    "    buffer = []\n",
    "    prv_char_occ = 0\n",
    "    for char in range(10):\n",
    "        char_occ = np.shape(np.argwhere(labels==char))[0]\n",
    "        buffer.append(data[np.random.randint(low=prv_char_occ,high=char_occ + prv_char_occ,size=length)])\n",
    "        prv_char_occ += char_occ\n",
    "    return np.asarray(buffer)"
   ]
  },
  {
   "cell_type": "code",
   "execution_count": 41,
   "metadata": {},
   "outputs": [],
   "source": [
    "indices = np.random.randint(low=0,high=980,size=20)\n",
    "b = []\n",
    "b.append(imgs[indices])\n",
    "b.append(imgs[indices])"
   ]
  },
  {
   "cell_type": "code",
   "execution_count": 42,
   "metadata": {},
   "outputs": [
    {
     "data": {
      "text/plain": [
       "(2, 20, 28, 28)"
      ]
     },
     "execution_count": 42,
     "metadata": {},
     "output_type": "execute_result"
    }
   ],
   "source": [
    "b = np.asarray(b)\n",
    "b.shape"
   ]
  },
  {
   "cell_type": "code",
   "execution_count": 68,
   "metadata": {},
   "outputs": [
    {
     "data": {
      "text/plain": [
       "(10, 20, 28, 28)"
      ]
     },
     "execution_count": 68,
     "metadata": {},
     "output_type": "execute_result"
    }
   ],
   "source": [
    "mnist_one_shot = generate_mnist_data(imgs,labels,length = 20)\n",
    "mnist_one_shot.shape"
   ]
  },
  {
   "cell_type": "code",
   "execution_count": 69,
   "metadata": {},
   "outputs": [
    {
     "data": {
      "image/png": "[encoded data removed]",
      "text/plain": [
       "<Figure size 432x288 with 1 Axes>"
      ]
     },
     "metadata": {
      "needs_background": "light"
     },
     "output_type": "display_data"
    },
    {
     "data": {
      "image/png": "[encoded data removed]",
      "text/plain": [
       "<Figure size 432x288 with 1 Axes>"
      ]
     },
     "metadata": {
      "needs_background": "light"
     },
     "output_type": "display_data"
    },
    {
     "data": {
      "image/png": "[encoded data removed]",
      "text/plain": [
       "<Figure size 432x288 with 1 Axes>"
      ]
     },
     "metadata": {
      "needs_background": "light"
     },
     "output_type": "display_data"
    },
    {
     "data": {
      "image/png": "[encoded data removed]",
      "text/plain": [
       "<Figure size 432x288 with 1 Axes>"
      ]
     },
     "metadata": {
      "needs_background": "light"
     },
     "output_type": "display_data"
    },
    {
     "data": {
      "image/png": "[encoded data removed]",
      "text/plain": [
       "<Figure size 432x288 with 1 Axes>"
      ]
     },
     "metadata": {
      "needs_background": "light"
     },
     "output_type": "display_data"
    },
    {
     "data": {
      "image/png": "[encoded data removed]",
      "text/plain": [
       "<Figure size 432x288 with 1 Axes>"
      ]
     },
     "metadata": {
      "needs_background": "light"
     },
     "output_type": "display_data"
    },
    {
     "data": {
      "image/png": "[encoded data removed]",
      "text/plain": [
       "<Figure size 432x288 with 1 Axes>"
      ]
     },
     "metadata": {
      "needs_background": "light"
     },
     "output_type": "display_data"
    },
    {
     "data": {
      "image/png": "[encoded data removed]",
      "text/plain": [
       "<Figure size 432x288 with 1 Axes>"
      ]
     },
     "metadata": {
      "needs_background": "light"
     },
     "output_type": "display_data"
    },
    {
     "data": {
      "image/png": "[encoded data removed]",
      "text/plain": [
       "<Figure size 432x288 with 1 Axes>"
      ]
     },
     "metadata": {
      "needs_background": "light"
     },
     "output_type": "display_data"
    },
    {
     "data": {
      "image/png": "[encoded data removed]",
      "text/plain": [
       "<Figure size 432x288 with 1 Axes>"
      ]
     },
     "metadata": {
      "needs_background": "light"
     },
     "output_type": "display_data"
    },
    {
     "data": {
      "image/png": "[encoded data removed]",
      "text/plain": [
       "<Figure size 432x288 with 1 Axes>"
      ]
     },
     "metadata": {
      "needs_background": "light"
     },
     "output_type": "display_data"
    },
    {
     "data": {
      "image/png": "[encoded data removed]",
      "text/plain": [
       "<Figure size 432x288 with 1 Axes>"
      ]
     },
     "metadata": {
      "needs_background": "light"
     },
     "output_type": "display_data"
    },
    {
     "data": {
      "image/png": "[encoded data removed]",
      "text/plain": [
       "<Figure size 432x288 with 1 Axes>"
      ]
     },
     "metadata": {
      "needs_background": "light"
     },
     "output_type": "display_data"
    },
    {
     "data": {
      "image/png": "[encoded data removed]",
      "text/plain": [
       "<Figure size 432x288 with 1 Axes>"
      ]
     },
     "metadata": {
      "needs_background": "light"
     },
     "output_type": "display_data"
    },
    {
     "data": {
      "image/png": "[encoded data removed]",
      "text/plain": [
       "<Figure size 432x288 with 1 Axes>"
      ]
     },
     "metadata": {
      "needs_background": "light"
     },
     "output_type": "display_data"
    },
    {
     "data": {
      "image/png": "[encoded data removed]",
      "text/plain": [
       "<Figure size 432x288 with 1 Axes>"
      ]
     },
     "metadata": {
      "needs_background": "light"
     },
     "output_type": "display_data"
    },
    {
     "data": {
      "image/png": "[encoded data removed]",
      "text/plain": [
       "<Figure size 432x288 with 1 Axes>"
      ]
     },
     "metadata": {
      "needs_background": "light"
     },
     "output_type": "display_data"
    },
    {
     "data": {
      "image/png": "[encoded data removed]",
      "text/plain": [
       "<Figure size 432x288 with 1 Axes>"
      ]
     },
     "metadata": {
      "needs_background": "light"
     },
     "output_type": "display_data"
    },
    {
     "data": {
      "image/png": "[encoded data removed]",
      "text/plain": [
       "<Figure size 432x288 with 1 Axes>"
      ]
     },
     "metadata": {
      "needs_background": "light"
     },
     "output_type": "display_data"
    },
    {
     "data": {
      "image/png": "[encoded data removed]",
      "text/plain": [
       "<Figure size 432x288 with 1 Axes>"
      ]
     },
     "metadata": {
      "needs_background": "light"
     },
     "output_type": "display_data"
    }
   ],
   "source": [
    "for i in range(20):\n",
    "    plot(mnist_one_shot[9][i])"
   ]
  },
  {
   "cell_type": "code",
   "execution_count": 74,
   "metadata": {},
   "outputs": [
    {
     "data": {
      "text/plain": [
       "(200, 105, 105, 1)"
      ]
     },
     "execution_count": 74,
     "metadata": {},
     "output_type": "execute_result"
    }
   ],
   "source": [
    "img = mnist_one_shot.reshape(-1,28,28,1)\n",
    "img = tf.image.resize_image_with_crop_or_pad(image=img, target_height=105, target_width=105)\n",
    "\n",
    "with tf.Session() as sess:\n",
    "    padded_img = sess.run(img)\n",
    "padded_img.shape\n"
   ]
  },
  {
   "cell_type": "code",
   "execution_count": 78,
   "metadata": {},
   "outputs": [
    {
     "data": {
      "image/png": "[encoded data removed]",
      "text/plain": [
       "<Figure size 432x288 with 1 Axes>"
      ]
     },
     "metadata": {
      "needs_background": "light"
     },
     "output_type": "display_data"
    }
   ],
   "source": [
    "padded_img = padded_img.reshape(-1,20,105,105,1)\n",
    "plot(padded_img[7][9].reshape(105,105))"
   ]
  },
  {
   "cell_type": "code",
   "execution_count": 87,
   "metadata": {},
   "outputs": [
    {
     "name": "stdout",
     "output_type": "stream",
     "text": [
      "(10, 20, 105, 105, 1)\n"
     ]
    },
    {
     "data": {
      "image/png": "[encoded data removed]",
      "text/plain": [
       "<Figure size 432x288 with 1 Axes>"
      ]
     },
     "metadata": {
      "needs_background": "light"
     },
     "output_type": "display_data"
    }
   ],
   "source": [
    "def normalise(X,drawers=20):\n",
    "    X = X.reshape(-1,105*105)\n",
    "    mu = np.mean(X,axis=0).reshape(1,11025)\n",
    "    std = np.std(X,axis=0).reshape(1,11025)\n",
    "    X = np.subtract(X,mu)\n",
    "    X /= (std + 1e-100)\n",
    "    X = X.reshape(-1,drawers,105,105,1)\n",
    "    # X = X / 255.\n",
    "    return X\n",
    "\n",
    "normalised_padded_img = normalise(X = padded_img)\n",
    "print(normalised_padded_img.shape)\n",
    "plot(normalised_padded_img[7][9].reshape(105,105))"
   ]
  },
  {
   "cell_type": "code",
   "execution_count": 23,
   "metadata": {},
   "outputs": [
    {
     "data": {
      "image/png": "[encoded data removed]",
      "text/plain": [
       "<Figure size 432x288 with 1 Axes>"
      ]
     },
     "metadata": {
      "needs_background": "light"
     },
     "output_type": "display_data"
    },
    {
     "data": {
      "image/png": "[encoded data removed]",
      "text/plain": [
       "<Figure size 432x288 with 1 Axes>"
      ]
     },
     "metadata": {
      "needs_background": "light"
     },
     "output_type": "display_data"
    }
   ],
   "source": [
    "plot(imgs[2115])\n",
    "plot(imgs[980])"
   ]
  },
  {
   "cell_type": "code",
   "execution_count": null,
   "metadata": {},
   "outputs": [],
   "source": []
  }
 ],
 "metadata": {
  "kernelspec": {
   "display_name": "Python 3",
   "language": "python",
   "name": "python3"
  },
  "language_info": {
   "codemirror_mode": {
    "name": "ipython",
    "version": 3
   },
   "file_extension": ".py",
   "mimetype": "text/x-python",
   "name": "python",
   "nbconvert_exporter": "python",
   "pygments_lexer": "ipython3",
   "version": "3.5.2"
  }
 },
 "nbformat": 4,
 "nbformat_minor": 2
}
