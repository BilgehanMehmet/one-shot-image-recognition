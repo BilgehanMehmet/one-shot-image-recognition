{
 "cells": [
  {
   "cell_type": "markdown",
   "metadata": {},
   "source": [
    "# Deep Siamese Network "
   ]
  },
  {
   "cell_type": "code",
   "execution_count": 18,
   "metadata": {},
   "outputs": [],
   "source": [
    "import numpy as np\n",
    "import matplotlib.pyplot as plt\n",
    "import mnist\n",
    "from utilities import *"
   ]
  },
  {
   "cell_type": "code",
   "execution_count": 19,
   "metadata": {},
   "outputs": [],
   "source": [
    "def importMNIST():\n",
    "    return mnist.train_images(),np.array([mnist.train_labels()])\n",
    "\n",
    "\n",
    "class DeepSiamese(object):\n",
    "    def __init__(self,layers):\n",
    "        self.layers = layers\n",
    "        self.parameters = {\n",
    "            \"W1\" : np.random.rand(layers[1],layers[0]) * (1/np.sqrt(layers[0])),\n",
    "            \"b1\" : np.zeros([layers[1],1]),\n",
    "            \"W2\" : np.random.rand(layers[3],layers[2]) * (1/np.sqrt(layers[2])),\n",
    "            \"b2\" : np.zeros([layers[3],1])\n",
    "        }\n",
    "           \n",
    "         \n",
    "    def forward_propagation(self,X1,X2):\n",
    "        self.network1_Z1 = np.dot(self.parameters[\"W1\"],X1) + self.parameters[\"b1\"]\n",
    "        self.network1_A1 = self.activation(self.network1_Z1,mode=\"relu\")\n",
    "#         self.network1_Z2 = np.dot(self.parameters[\"W2\"],self.A1) + self.parameters[\"b2\"]\n",
    "#         self.network1_A2 = self.activation(self.Z2,activation_function)\n",
    "        \n",
    "        self.network2_Z1 = np.dot(self.parameters[\"W1\"],X2) + self.parameters[\"b1\"]\n",
    "        self.network2_A1 = self.activation(self.network2_Z1,mode=\"relu\")\n",
    "#         self.network2_Z2 = np.dot(self.parameters[\"W2\"],self.A1) + self.parameters[\"b2\"]\n",
    "#         self.network2_A2 = self.activation(self.Z2,activation_function)\n",
    "    \n",
    "        self.D1 = self.L2Distance()\n",
    "        \n",
    "        self.Z2 = np.dot(self.parameters[\"W2\"],self.D1) + self.parameters[\"b2\"]\n",
    "        self.A2 = self.activation(self.Z2,mode=\"sigmoid\")\n",
    "        \n",
    "        \n",
    "    def L2Distance(self):\n",
    "        return np.abs(self.network1_A1 - self.network2_A1)\n",
    "    \n",
    "    \n",
    "    def backward_propagation(self,X1,X2,Y):\n",
    "        self.dZ2 = np.subtract(self.A2, Y)\n",
    "        self.dW2 = (1/X1.shape[1]) * np.dot(self.dZ2,self.D1.T)\n",
    "        \n",
    "        self.dD1 = np.dot(self.parameters[\"W2\"].T,self.dZ2)\n",
    "    \n",
    "        self.network1_dW1 = np.dot(self.dD1 * (self.network1_Z1 > 0),X1.T)\n",
    "        self.network2_dW1 = np.dot(self.dD1 * (self.network2_Z1 > 0),X2.T)\n",
    "        self.network1_db1 = self.dD1 * (self.network1_Z1 > 0)\n",
    "        self.network2_db2 = self.dD1 * (self.network2_Z1 > 0)\n",
    "        \n",
    "        self.dW1 = (1/X1.shape[1]) * np.divide(np.add(self.network1_dW1,self.network2_dW1),2)\n",
    "        self.db1 = (1/X1.shape[1]) * np.sum(np.divide(np.add(self.network1_db1,self.network2_db2),2),axis=1,keepdims=True)\n",
    "        self.dW2 = (1/X1.shape[1]) * np.dot(self.dZ2,self.D1.T)\n",
    "        self.db2 = (1/X1.shape[1]) * np.sum(self.dZ2,axis=1,keepdims=True)\n",
    "\n",
    "        \n",
    "    def compute_cost(self,Y):\n",
    "        self.cost = (1/Y.shape[1]) * (-( np.dot(Y,np.log(self.A2).T) + np.dot(1-Y,np.log(1-self.A2).T) ))\n",
    "    \n",
    "    \n",
    "    def update_parameters(self,beta=0.9,learning_rate=0.01):\n",
    "        \n",
    "        self.v[\"dW1\"] = (self.v[\"dW1\"] * beta) + ((1-beta) * self.dW1)\n",
    "        self.v[\"db1\"] = (self.v[\"db1\"] * beta) + ((1-beta) * self.db1)\n",
    "        self.v[\"dW2\"] = (self.v[\"dW2\"] * beta) + ((1-beta) * self.dW2)\n",
    "        self.v[\"db2\"] = (self.v[\"db2\"] * beta) + ((1-beta) * self.db2)\n",
    "        \n",
    "        self.parameters[\"W1\"] = self.parameters[\"W1\"] - (learning_rate * self.v[\"dW1\"])\n",
    "        self.parameters[\"b1\"] = self.parameters[\"b1\"] - (learning_rate * self.v[\"db1\"])\n",
    "        self.parameters[\"W2\"] = self.parameters[\"W2\"] - (learning_rate * self.v[\"dW2\"])\n",
    "        self.parameters[\"b2\"] = self.parameters[\"b2\"] - (learning_rate * self.v[\"db2\"])\n",
    "        \n",
    "    \n",
    "    def grad_check(self):\n",
    "        pass\n",
    "    \n",
    "    def train(self,trainingBatch,epochs=200,learning_rate=1e-3,beta=0.9):\n",
    "        self.v = {\n",
    "            \"dW1\":np.zeros([20,784]),\n",
    "            \"db1\":np.zeros([20,1]),\n",
    "            \"dW2\":np.zeros([1,20]),\n",
    "            \"db2\":np.zeros([1,1])\n",
    "        }\n",
    "        m = trainingBatch[0][0].shape[1]\n",
    "        self.costs = []\n",
    "        for epoch in range(epochs):\n",
    "            cost = 0\n",
    "            for minibatch in trainingBatch:\n",
    "                X1 = minibatch[0][:784,:]\n",
    "                X2 = minibatch[0][784:,:]\n",
    "                Y = minibatch[1]\n",
    "            \n",
    "                \n",
    "                self.forward_propagation(X1,X2)\n",
    "                self.compute_cost(Y)\n",
    "                self.backward_propagation(X1,X2,Y)\n",
    "                lr = np.sqrt(0.95 ** epoch) * learning_rate\n",
    "                self.update_parameters(beta=beta,learning_rate=lr)\n",
    "                \n",
    "                cost += self.cost\n",
    "            cost /= m\n",
    "#             print(cost[0,0])\n",
    "#             print(cost[0,1])\n",
    "            self.costs.append(cost[0,0])\n",
    "            if (epoch % 10 == 0):\n",
    "                print(\"Epoch:{} \\t Cost:{}\".format(epoch,cost[0,0]))\n",
    "        plt.plot(list(range(epochs)),self.costs)\n",
    "        \n",
    "    def activation(self,z,mode=\"relu\"):\n",
    "        if mode == \"relu\":\n",
    "            return np.maximum(0,z)\n",
    "        elif mode == \"sigmoid\":\n",
    "            return 1/(1 + np.exp(-z))"
   ]
  },
  {
   "cell_type": "code",
   "execution_count": 4,
   "metadata": {},
   "outputs": [
    {
     "name": "stdout",
     "output_type": "stream",
     "text": [
      "(1, 60000)\n",
      "(784, 60000)\n"
     ]
    }
   ],
   "source": [
    "# import data \n",
    "x_,y = importMNIST()\n",
    "print(y.shape)\n",
    "x_ = x_.reshape(60000,-1).T\n",
    "print(x_.shape)\n",
    "\n",
    "#normalise the input\n",
    "x = normalise(x_)\n",
    " \n",
    "#form the pairs\n",
    "(input_pairs,labels_pairs) = get_training_pairs(x,y)"
   ]
  },
  {
   "cell_type": "code",
   "execution_count": 5,
   "metadata": {},
   "outputs": [
    {
     "name": "stdout",
     "output_type": "stream",
     "text": [
      "(1, 27000)\n",
      "(1568, 27000)\n"
     ]
    }
   ],
   "source": [
    "print(labels_pairs.shape)\n",
    "print(input_pairs.shape)"
   ]
  },
  {
   "cell_type": "markdown",
   "metadata": {},
   "source": [
    "# Shuffle the dataset"
   ]
  },
  {
   "cell_type": "code",
   "execution_count": 7,
   "metadata": {},
   "outputs": [],
   "source": [
    "np.random.seed(2)\n",
    "permutation = np.random.permutation(input_pairs.shape[1])\n",
    "\n",
    "shuffled_input_pairs = input_pairs[:,permutation]\n",
    "shuffled_labels = labels_pairs[:,permutation]"
   ]
  },
  {
   "cell_type": "code",
   "execution_count": 8,
   "metadata": {},
   "outputs": [
    {
     "data": {
      "image/png": "[encoded data removed]",
      "text/plain": [
       "<Figure size 432x288 with 1 Axes>"
      ]
     },
     "metadata": {
      "needs_background": "light"
     },
     "output_type": "display_data"
    },
    {
     "data": {
      "image/png": "[encoded data removed]",
      "text/plain": [
       "<Figure size 432x288 with 1 Axes>"
      ]
     },
     "metadata": {
      "needs_background": "light"
     },
     "output_type": "display_data"
    },
    {
     "data": {
      "text/plain": [
       "array([0.])"
      ]
     },
     "execution_count": 8,
     "metadata": {},
     "output_type": "execute_result"
    }
   ],
   "source": [
    "index = 99\n",
    "plt.imshow(shuffled_input_pairs[:784,index].reshape(28,28),cmap='gray')\n",
    "plt.show()\n",
    "plt.imshow(shuffled_input_pairs[784:,index].reshape(28,28),cmap='gray')\n",
    "plt.show()\n",
    "shuffled_labels[:,index]"
   ]
  },
  {
   "cell_type": "code",
   "execution_count": 13,
   "metadata": {},
   "outputs": [
    {
     "data": {
      "image/png": "[encoded data removed]",
      "text/plain": [
       "<Figure size 432x288 with 1 Axes>"
      ]
     },
     "metadata": {
      "needs_background": "light"
     },
     "output_type": "display_data"
    },
    {
     "data": {
      "image/png": "[encoded data removed]",
      "text/plain": [
       "<Figure size 432x288 with 1 Axes>"
      ]
     },
     "metadata": {
      "needs_background": "light"
     },
     "output_type": "display_data"
    },
    {
     "name": "stdout",
     "output_type": "stream",
     "text": [
      "[1.]\n",
      "X1 shape:(784, 128),\t X2 shape: (784, 128), \t Y shape:(1, 128)\n"
     ]
    }
   ],
   "source": [
    "index = 127\n",
    "batch = getBatch(shuffled_input_pairs,shuffled_labels)\n",
    "\n",
    "X1 = batch[0][0][:784,index]\n",
    "X2 = batch[0][0][784:,index]\n",
    "Y = batch[0][1][:,index]\n",
    "plt.imshow(X1.reshape(28,28),cmap='gray')\n",
    "plt.show()\n",
    "plt.imshow(X2.reshape(28,28),cmap='gray')\n",
    "plt.show()\n",
    "print(Y)\n",
    "X1_ = batch[0][0][:784,:]\n",
    "X2_ = batch[0][0][:784,:]\n",
    "Y_ = batch[0][1]\n",
    "print(\"X1 shape:{},\\t X2 shape: {}, \\t Y shape:{}\".format(X1_.shape,X2_.shape,Y_.shape))"
   ]
  },
  {
   "cell_type": "markdown",
   "metadata": {},
   "source": [
    "# Train the model"
   ]
  },
  {
   "cell_type": "code",
   "execution_count": 20,
   "metadata": {},
   "outputs": [
    {
     "name": "stdout",
     "output_type": "stream",
     "text": [
      "Epoch:0 \t Cost:1.1502029140380545\n",
      "Epoch:10 \t Cost:1.132986154043409\n",
      "Epoch:20 \t Cost:1.1331071915568272\n",
      "Epoch:30 \t Cost:1.132895170556394\n",
      "Epoch:40 \t Cost:1.1344326206053292\n",
      "Epoch:50 \t Cost:1.1354483246855813\n",
      "Epoch:60 \t Cost:1.1361552032890174\n",
      "Epoch:70 \t Cost:1.1371614560412706\n",
      "Epoch:80 \t Cost:1.1381423241242545\n",
      "Epoch:90 \t Cost:1.1389136947921379\n",
      "Epoch:100 \t Cost:1.1394768937706699\n",
      "Epoch:110 \t Cost:1.1398846903496629\n",
      "Epoch:120 \t Cost:1.1401831303528436\n",
      "Epoch:130 \t Cost:1.1403974706602822\n",
      "Epoch:140 \t Cost:1.140550274474189\n",
      "Epoch:150 \t Cost:1.1406629999748121\n",
      "Epoch:160 \t Cost:1.1407469651066315\n",
      "Epoch:170 \t Cost:1.1408098714476207\n",
      "Epoch:180 \t Cost:1.1408577684052115\n",
      "Epoch:190 \t Cost:1.1408941167146496\n",
      "Epoch:200 \t Cost:1.140921899426157\n",
      "Epoch:210 \t Cost:1.1409430397143365\n",
      "Epoch:220 \t Cost:1.1409591261842376\n",
      "Epoch:230 \t Cost:1.140971464350561\n",
      "Epoch:240 \t Cost:1.1409809444193033\n",
      "Epoch:250 \t Cost:1.140988232608974\n",
      "Epoch:260 \t Cost:1.1409938646048987\n",
      "Epoch:270 \t Cost:1.1409982028118166\n",
      "Epoch:280 \t Cost:1.1410015491030445\n",
      "Epoch:290 \t Cost:1.1410041324204263\n",
      "Epoch:300 \t Cost:1.1410061264454832\n",
      "Epoch:310 \t Cost:1.141007665578138\n",
      "Epoch:320 \t Cost:1.1410088560501372\n",
      "Epoch:330 \t Cost:1.141009777342386\n",
      "Epoch:340 \t Cost:1.1410104897732016\n",
      "Epoch:350 \t Cost:1.1410110408464356\n",
      "Epoch:360 \t Cost:1.1410114672012401\n",
      "Epoch:370 \t Cost:1.1410117969164768\n",
      "Epoch:380 \t Cost:1.1410120521760312\n",
      "Epoch:390 \t Cost:1.141012249582128\n",
      "Epoch:400 \t Cost:1.141012402214254\n",
      "Epoch:410 \t Cost:1.1410125202882782\n",
      "Epoch:420 \t Cost:1.1410126116472559\n",
      "Epoch:430 \t Cost:1.141012682339599\n",
      "Epoch:440 \t Cost:1.1410127370386542\n",
      "Epoch:450 \t Cost:1.1410127793601892\n",
      "Epoch:460 \t Cost:1.1410128120994125\n",
      "Epoch:470 \t Cost:1.1410128374343387\n",
      "Epoch:480 \t Cost:1.1410128570403526\n",
      "Epoch:490 \t Cost:1.1410128722096984\n",
      "Epoch:500 \t Cost:1.1410128839465947\n",
      "Epoch:510 \t Cost:1.1410128930284007\n",
      "Epoch:520 \t Cost:1.141012900055741\n",
      "Epoch:530 \t Cost:1.1410129054933698\n",
      "Epoch:540 \t Cost:1.1410129097009063\n",
      "Epoch:550 \t Cost:1.141012912956615\n",
      "Epoch:560 \t Cost:1.1410129154758333\n",
      "Epoch:570 \t Cost:1.1410129174251513\n",
      "Epoch:580 \t Cost:1.1410129189334983\n",
      "Epoch:590 \t Cost:1.1410129201006276\n",
      "Epoch:600 \t Cost:1.141012921003731\n",
      "Epoch:610 \t Cost:1.141012921702534\n",
      "Epoch:620 \t Cost:1.1410129222432568\n",
      "Epoch:630 \t Cost:1.1410129226616565\n",
      "Epoch:640 \t Cost:1.1410129229854058\n",
      "Epoch:650 \t Cost:1.141012923235918\n",
      "Epoch:660 \t Cost:1.1410129234297592\n",
      "Epoch:670 \t Cost:1.1410129235797493\n",
      "Epoch:680 \t Cost:1.1410129236958093\n",
      "Epoch:690 \t Cost:1.1410129237856146\n",
      "Epoch:700 \t Cost:1.1410129238551037\n",
      "Epoch:710 \t Cost:1.141012923908873\n",
      "Epoch:720 \t Cost:1.1410129239504783\n",
      "Epoch:730 \t Cost:1.141012923982672\n",
      "Epoch:740 \t Cost:1.1410129240075824\n",
      "Epoch:750 \t Cost:1.1410129240268583\n",
      "Epoch:760 \t Cost:1.1410129240417743\n",
      "Epoch:770 \t Cost:1.1410129240533151\n",
      "Epoch:780 \t Cost:1.1410129240622453\n",
      "Epoch:790 \t Cost:1.1410129240691562\n",
      "Epoch:800 \t Cost:1.141012924074503\n",
      "Epoch:810 \t Cost:1.141012924078639\n",
      "Epoch:820 \t Cost:1.1410129240818407\n",
      "Epoch:830 \t Cost:1.1410129240843183\n",
      "Epoch:840 \t Cost:1.1410129240862354\n",
      "Epoch:850 \t Cost:1.1410129240877183\n",
      "Epoch:860 \t Cost:1.141012924088866\n",
      "Epoch:870 \t Cost:1.1410129240897535\n",
      "Epoch:880 \t Cost:1.1410129240904403\n",
      "Epoch:890 \t Cost:1.1410129240909719\n",
      "Epoch:900 \t Cost:1.1410129240913836\n",
      "Epoch:910 \t Cost:1.141012924091703\n",
      "Epoch:920 \t Cost:1.1410129240919484\n",
      "Epoch:930 \t Cost:1.1410129240921394\n",
      "Epoch:940 \t Cost:1.1410129240922864\n",
      "Epoch:950 \t Cost:1.1410129240924003\n",
      "Epoch:960 \t Cost:1.1410129240924884\n",
      "Epoch:970 \t Cost:1.1410129240925575\n",
      "Epoch:980 \t Cost:1.1410129240926097\n",
      "Epoch:990 \t Cost:1.14101292409265\n"
     ]
    },
    {
     "data": {
      "image/png": "[encoded data removed]",
      "text/plain": [
       "<Figure size 432x288 with 1 Axes>"
      ]
     },
     "metadata": {
      "needs_background": "light"
     },
     "output_type": "display_data"
    }
   ],
   "source": [
    "Siamese = DeepSiamese([X1.shape[0],20,20,1])\n",
    "Siamese.train(batch,epochs=1000,learning_rate = 0.1)"
   ]
  },
  {
   "cell_type": "markdown",
   "metadata": {},
   "source": [
    "# Predict training set labels"
   ]
  },
  {
   "cell_type": "code",
   "execution_count": 29,
   "metadata": {},
   "outputs": [
    {
     "name": "stdout",
     "output_type": "stream",
     "text": [
      "(1, 27000)\n"
     ]
    }
   ],
   "source": [
    "shuffled_input_pairs.shape\n",
    "X1 = shuffled_input_pairs[:784,:]\n",
    "X2 = shuffled_input_pairs[784:,:]\n",
    "print(shuffled_labels.shape)\n",
    "Siamese.forward_propagation(X1 = X1,X2 = X2)"
   ]
  },
  {
   "cell_type": "code",
   "execution_count": 30,
   "metadata": {},
   "outputs": [],
   "source": [
    "predicted_labels = Siamese.A2 > 0.5 "
   ]
  },
  {
   "cell_type": "code",
   "execution_count": 31,
   "metadata": {},
   "outputs": [
    {
     "data": {
      "text/plain": [
       "0.5152222222222222"
      ]
     },
     "execution_count": 31,
     "metadata": {},
     "output_type": "execute_result"
    }
   ],
   "source": [
    "np.mean(shuffled_labels == predicted_labels)\n",
    "# np.sum(predicted_labels)"
   ]
  },
  {
   "cell_type": "markdown",
   "metadata": {},
   "source": [
    "# Import the test set\n",
    "\n",
    "-  Import test set.\n",
    "-  Normalise\n",
    "-  Get the pairs."
   ]
  },
  {
   "cell_type": "code",
   "execution_count": 33,
   "metadata": {},
   "outputs": [],
   "source": [
    "x_test = mnist.test_images().reshape(10000,-1).T\n",
    "y_test = mnist.test_labels().reshape(-1,10000)"
   ]
  },
  {
   "cell_type": "code",
   "execution_count": 36,
   "metadata": {},
   "outputs": [
    {
     "data": {
      "image/png": "[encoded data removed]",
      "text/plain": [
       "<Figure size 432x288 with 1 Axes>"
      ]
     },
     "metadata": {
      "needs_background": "light"
     },
     "output_type": "display_data"
    },
    {
     "name": "stderr",
     "output_type": "stream",
     "text": [
      "/Users/mehmetbezcioglu/miniconda3/envs/env352/lib/python3.5/site-packages/ipykernel_launcher.py:110: RuntimeWarning: overflow encountered in exp\n"
     ]
    }
   ],
   "source": [
    "(input_pairs_test,labels_pairs_test) = test_pairs(x_test,y_test)\n",
    "plt.imshow(input_pairs_test[:784,0].reshape(28,28),cmap='gray')\n",
    "plt.show()\n",
    "\n",
    "Siamese.forward_propagation(X1 = input_pairs_test[:784,:],X2 = input_pairs_test[784:,:])"
   ]
  },
  {
   "cell_type": "markdown",
   "metadata": {},
   "source": []
  },
  {
   "cell_type": "code",
   "execution_count": 287,
   "metadata": {},
   "outputs": [],
   "source": []
  },
  {
   "cell_type": "code",
   "execution_count": null,
   "metadata": {},
   "outputs": [],
   "source": []
  }
 ],
 "metadata": {
  "kernelspec": {
   "display_name": "Python 3",
   "language": "python",
   "name": "python3"
  },
  "language_info": {
   "codemirror_mode": {
    "name": "ipython",
    "version": 3
   },
   "file_extension": ".py",
   "mimetype": "text/x-python",
   "name": "python",
   "nbconvert_exporter": "python",
   "pygments_lexer": "ipython3",
   "version": "3.5.2"
  }
 },
 "nbformat": 4,
 "nbformat_minor": 2
}
