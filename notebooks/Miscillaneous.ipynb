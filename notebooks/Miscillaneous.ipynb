{
 "cells": [
  {
   "cell_type": "code",
   "execution_count": 2,
   "metadata": {},
   "outputs": [],
   "source": [
    "import numpy as np\n",
    "import tensorflow as tf"
   ]
  },
  {
   "cell_type": "code",
   "execution_count": 4,
   "metadata": {},
   "outputs": [],
   "source": [
    "W1 = tf.Variable(np.array([[3,2]],dtype=float))\n",
    "loss = tf.reduce_mean(np.array([[1.0, 2.0]]))\n",
    "loss_v2 = tf.reduce_mean(np.array([[1.0, 2.0]]) + \n",
    "                        (1/2)*tf.nn.l2_loss(W1)\n",
    "                        )\n",
    "loss_v3 = tf.reduce_mean(np.array([[1.0, 2.0]])) +  (1/2)*tf.nn.l2_loss(W1)"
   ]
  },
  {
   "cell_type": "code",
   "execution_count": 7,
   "metadata": {},
   "outputs": [
    {
     "name": "stdout",
     "output_type": "stream",
     "text": [
      "1.5 4.75 4.75\n"
     ]
    }
   ],
   "source": [
    "with tf.Session() as sess:\n",
    "    sess.run(tf.global_variables_initializer())\n",
    "    l = sess.run(loss)\n",
    "    l2 = sess.run(loss_v2)\n",
    "    l3 = sess.run(loss_v3)\n",
    "print(l,l2,l3)"
   ]
  },
  {
   "cell_type": "code",
   "execution_count": 62,
   "metadata": {},
   "outputs": [
    {
     "ename": "AssertionError",
     "evalue": "1 is not equal",
     "output_type": "error",
     "traceback": [
      "\u001b[0;31m---------------------------------------------------------------------------\u001b[0m",
      "\u001b[0;31mAssertionError\u001b[0m                            Traceback (most recent call last)",
      "\u001b[0;32m<ipython-input-62-c3c8798bb118>\u001b[0m in \u001b[0;36m<module>\u001b[0;34m\u001b[0m\n\u001b[0;32m----> 1\u001b[0;31m \u001b[0;32massert\u001b[0m \u001b[0;32mNone\u001b[0m\u001b[0;34m!=\u001b[0m\u001b[0;32mNone\u001b[0m\u001b[0;34m,\u001b[0m \u001b[0;34m\"1 is not equal\"\u001b[0m\u001b[0;34m\u001b[0m\u001b[0m\n\u001b[0m",
      "\u001b[0;31mAssertionError\u001b[0m: 1 is not equal"
     ]
    }
   ],
   "source": [
    "assert None!=None, \"1 is not equal\""
   ]
  },
  {
   "cell_type": "code",
   "execution_count": 60,
   "metadata": {},
   "outputs": [
    {
     "data": {
      "text/plain": [
       "<tf.Tensor 'strided_slice_4:0' shape=() dtype=int32>"
      ]
     },
     "execution_count": 60,
     "metadata": {},
     "output_type": "execute_result"
    }
   ],
   "source": [
    "y = tf.placeholder(shape=[1,4],dtype=tf.float32)\n",
    "tf.shape(y)[1]"
   ]
  },
  {
   "cell_type": "code",
   "execution_count": 53,
   "metadata": {},
   "outputs": [
    {
     "name": "stdout",
     "output_type": "stream",
     "text": [
      "[[1. 4. 5.]]\n"
     ]
    }
   ],
   "source": [
    "with tf.Session() as sess:\n",
    "    y = sess.run(y , feed_dict={\n",
    "        y: np.array([[1,4,5]])\n",
    "    })\n",
    "print(y)"
   ]
  },
  {
   "cell_type": "code",
   "execution_count": 73,
   "metadata": {},
   "outputs": [],
   "source": [
    "class t:\n",
    "    x = 2\n",
    "    def __init__(self):\n",
    "        global x\n",
    "        print(x)"
   ]
  },
  {
   "cell_type": "code",
   "execution_count": 74,
   "metadata": {},
   "outputs": [
    {
     "ename": "NameError",
     "evalue": "name 'x' is not defined",
     "output_type": "error",
     "traceback": [
      "\u001b[0;31m---------------------------------------------------------------------------\u001b[0m",
      "\u001b[0;31mNameError\u001b[0m                                 Traceback (most recent call last)",
      "\u001b[0;32m<ipython-input-74-cbd8135a16e8>\u001b[0m in \u001b[0;36m<module>\u001b[0;34m\u001b[0m\n\u001b[0;32m----> 1\u001b[0;31m \u001b[0m_\u001b[0m \u001b[0;34m=\u001b[0m \u001b[0mt\u001b[0m\u001b[0;34m(\u001b[0m\u001b[0;34m)\u001b[0m\u001b[0;34m\u001b[0m\u001b[0m\n\u001b[0m",
      "\u001b[0;32m<ipython-input-73-2543022d5777>\u001b[0m in \u001b[0;36m__init__\u001b[0;34m(self)\u001b[0m\n\u001b[1;32m      3\u001b[0m     \u001b[0;32mdef\u001b[0m \u001b[0m__init__\u001b[0m\u001b[0;34m(\u001b[0m\u001b[0mself\u001b[0m\u001b[0;34m)\u001b[0m\u001b[0;34m:\u001b[0m\u001b[0;34m\u001b[0m\u001b[0m\n\u001b[1;32m      4\u001b[0m         \u001b[0;32mglobal\u001b[0m \u001b[0mx\u001b[0m\u001b[0;34m\u001b[0m\u001b[0m\n\u001b[0;32m----> 5\u001b[0;31m         \u001b[0mprint\u001b[0m\u001b[0;34m(\u001b[0m\u001b[0mx\u001b[0m\u001b[0;34m)\u001b[0m\u001b[0;34m\u001b[0m\u001b[0m\n\u001b[0m",
      "\u001b[0;31mNameError\u001b[0m: name 'x' is not defined"
     ]
    }
   ],
   "source": [
    "_ = t()"
   ]
  },
  {
   "cell_type": "code",
   "execution_count": 9,
   "metadata": {},
   "outputs": [],
   "source": [
    "class Test:\n",
    "    a = None\n",
    "    b = None\n",
    "\n",
    "    def __init__(self, a):\n",
    "        print(self.a)\n",
    "        self.a = a\n",
    "        self._x = 123\n",
    "        self.__y = 123\n",
    "        b = 'meow'\n",
    "    def t(self):\n",
    "        self.__y  = 4\n",
    "        return self.__y"
   ]
  },
  {
   "cell_type": "code",
   "execution_count": 10,
   "metadata": {},
   "outputs": [
    {
     "name": "stdout",
     "output_type": "stream",
     "text": [
      "None\n"
     ]
    }
   ],
   "source": [
    "t  = Test(3)"
   ]
  },
  {
   "cell_type": "code",
   "execution_count": 12,
   "metadata": {},
   "outputs": [
    {
     "data": {
      "text/plain": [
       "4"
      ]
     },
     "execution_count": 12,
     "metadata": {},
     "output_type": "execute_result"
    }
   ],
   "source": [
    "t.t()"
   ]
  },
  {
   "cell_type": "code",
   "execution_count": 16,
   "metadata": {},
   "outputs": [
    {
     "data": {
      "text/plain": [
       "[1, 2, 4, 4]"
      ]
     },
     "execution_count": 16,
     "metadata": {},
     "output_type": "execute_result"
    }
   ],
   "source": [
    "a = [ \n",
    "    [1,2],\n",
    "    [4,4]\n",
    "]\n",
    "[item for sublist in a for item in sublist]"
   ]
  },
  {
   "cell_type": "code",
   "execution_count": 24,
   "metadata": {},
   "outputs": [
    {
     "data": {
      "text/plain": [
       "['',\n",
       " '/Users/mehmetbezcioglu/mjpro150',\n",
       " '/Users/mehmetbezcioglu/Documents/SEMESTER1/DeepLearning/one_shot_learning/image_similarity/notebooks',\n",
       " '/Users/mehmetbezcioglu/miniconda3/envs/env352/lib/python35.zip',\n",
       " '/Users/mehmetbezcioglu/miniconda3/envs/env352/lib/python3.5',\n",
       " '/Users/mehmetbezcioglu/miniconda3/envs/env352/lib/python3.5/plat-darwin',\n",
       " '/Users/mehmetbezcioglu/miniconda3/envs/env352/lib/python3.5/lib-dynload',\n",
       " '/Users/mehmetbezcioglu/miniconda3/envs/env352/lib/python3.5/site-packages',\n",
       " '/Users/mehmetbezcioglu/miniconda3/envs/env352/lib/python3.5/site-packages/IPython/extensions',\n",
       " '/Users/mehmetbezcioglu/.ipython']"
      ]
     },
     "execution_count": 24,
     "metadata": {},
     "output_type": "execute_result"
    }
   ],
   "source": [
    "import sys\n",
    "sys.path"
   ]
  },
  {
   "cell_type": "code",
   "execution_count": 1,
   "metadata": {},
   "outputs": [],
   "source": [
    "import sys\n",
    "sys.path.append(\"/Users/mehmetbezcioglu/Documents/SEMESTER1/DeepLearning/one_shot_learning/image_similarity/datasets\")\n",
    "sys.path.append(\"/Users/mehmetbezcioglu/Documents/SEMESTER1/DeepLearning/one_shot_learning/image_similarity/networks\")\n",
    "import Convolutional_Siamese as nn"
   ]
  },
  {
   "cell_type": "code",
   "execution_count": 2,
   "metadata": {},
   "outputs": [],
   "source": [
    "import numpy as np\n",
    "import tensorflow as tf\n",
    "tf.reset_default_graph()\n",
    "cnn = nn.Siamese()\n",
    "cnn.forward_prop()\n",
    "cnn.compute_cost(mode=\"l2_off\")\n",
    "cnn.optimize(optimizer = \"Momentum\")\n",
    "# # optimizer = [tf.train.AdamOptimizer(learning_rate = cnn.learning_rates[i] ,beta1 = cnn.momentums[i]).apply_gradients(list(zip(cnn._gradients[2*i:2*i+1],cnn._var_list[i]))) for i in range(6)]\n",
    "# cnn._gradients = cnn._get_gradients()\n",
    "# learning_rates = [tf.placeholder(dtype=tf.float32, shape=[]) for _ in range(6)]\n",
    "# momentums = [tf.placeholder(dtype=tf.float32, shape=[]) for _ in range(6)]\n",
    "# optimizer = [tf.train.AdamOptimizer(learning_rate = learning_rates[i] ,beta1 = momentums[i]).apply_gradients(list(zip(cnn._gradients[2*i:2*i+2],cnn._var_list[i]))) for i in range(6)]\n",
    "# learning_rate = tf.placeholder(dtype=tf.float32, shape=[])\n",
    "# momentum = tf.placeholder(dtype=tf.float32, shape=[])\n",
    "# opt1 = tf.train.AdamOptimizer(learning_rate = 0.1 ,beta1 = 0.1).minimize(cnn.cost)\n",
    "with tf.Session() as sess:\n",
    "    sess.run(tf.global_variables_initializer())\n",
    "    _ = sess.run([cnn.optimizer], feed_dict = {\n",
    "         cnn.learning_rates[0]:1.,\n",
    "         cnn.learning_rates[1]:1.,\n",
    "         cnn.learning_rates[2]:1.,\n",
    "         cnn.learning_rates[3]:1.,\n",
    "         cnn.learning_rates[4]:1.,\n",
    "         cnn.learning_rates[5]:1.,\n",
    "         cnn.momentums[0]:1.,\n",
    "         cnn.momentums[1]:1.,\n",
    "         cnn.momentums[2]:1.,\n",
    "         cnn.momentums[3]:1.,\n",
    "         cnn.momentums[4]:1.,\n",
    "         cnn.momentums[5]:1.,\n",
    "         cnn.X:np.random.randn(5,105,105,1),\n",
    "         cnn.X2:np.random.randn(5,105,105,1),\n",
    "         cnn.Y:np.array([[1.,0.,1.,1.,0.]])\n",
    "#          learning_rate: 2.0,\n",
    "#          momentum: 1.0\n",
    "        \n",
    "        \n",
    "    })"
   ]
  },
  {
   "cell_type": "code",
   "execution_count": 4,
   "metadata": {},
   "outputs": [
    {
     "data": {
      "text/plain": [
       "[1, 2]"
      ]
     },
     "execution_count": 4,
     "metadata": {},
     "output_type": "execute_result"
    }
   ],
   "source": [
    "a = [1,2,3]\n",
    "a[:2]"
   ]
  },
  {
   "cell_type": "code",
   "execution_count": 11,
   "metadata": {},
   "outputs": [
    {
     "name": "stdout",
     "output_type": "stream",
     "text": [
      "0\n",
      "1\n",
      "2\n",
      "3\n",
      "4\n",
      "5\n"
     ]
    }
   ],
   "source": [
    "for i in range(6):\n",
    "    print(i)"
   ]
  },
  {
   "cell_type": "code",
   "execution_count": null,
   "metadata": {},
   "outputs": [],
   "source": [
    "var_list = [[tf.Variable(2.),tf.Variable(2.)] for _ in range(6)]\n",
    "learning_rates = [tf.placeholder(dtype=tf.float32, shape=[]) for _ in range(6)]\n",
    "momentums = [tf.placeholder(dtype=tf.float32, shape=[]) for _ in range(6)]\n",
    "gradients = [1.,1.,1.,1.,1.,1.,1.,1.,1.,1.,1.,1.]\n",
    "# optimizer = [tf.train.AdamOptimizer(learning_rate = learning_rates[i],beta1 = momentums[i]).apply_gradients(list(zip(gradients[2*i:2*i+1],var_list[i]))) for i in range(6)]\n",
    "y  = tf.constant(3)\n",
    "cost = y**2 + 3*y + 2\n",
    "optimizer = [tf.train.AdamOptimizer(learning_rate = learning_rates[i],beta1 = momentums[i]).minimize(cost) for i in range(6)]\n",
    "\n",
    "with tf.Session() as sess:\n",
    "    sess.run(tf.global_variables_initializer())\n",
    "    _  = sess.run(optimizer, feed_dict={\n",
    "         learning_rates[0]:1.,\n",
    "         learning_rates[1]:1.,\n",
    "         learning_rates[2]:1.,\n",
    "         learning_rates[3]:1.,\n",
    "         learning_rates[4]:1.,\n",
    "         learning_rates[5]:1.,\n",
    "         momentums[0]:1.,\n",
    "         momentums[1]:1.,\n",
    "         momentums[2]:1.,\n",
    "         momentums[3]:1.,\n",
    "         momentums[4]:1.,\n",
    "         momentums[5]:1.,\n",
    "         \n",
    "     })\n"
   ]
  },
  {
   "cell_type": "code",
   "execution_count": null,
   "metadata": {},
   "outputs": [],
   "source": []
  }
 ],
 "metadata": {
  "kernelspec": {
   "display_name": "Python 3",
   "language": "python",
   "name": "python3"
  },
  "language_info": {
   "codemirror_mode": {
    "name": "ipython",
    "version": 3
   },
   "file_extension": ".py",
   "mimetype": "text/x-python",
   "name": "python",
   "nbconvert_exporter": "python",
   "pygments_lexer": "ipython3",
   "version": "3.5.2"
  }
 },
 "nbformat": 4,
 "nbformat_minor": 2
}
