{
 "cells": [
  {
   "cell_type": "markdown",
   "metadata": {},
   "source": [
    "# Layer-wise learning rate in Tensorflow\n",
    "\n",
    "This notebook demonstrates how to use methods below to compute gradients manually.\n",
    "-  `tf.gradients`\n",
    "-  `tf.apply_gradients`\n"
   ]
  },
  {
   "cell_type": "code",
   "execution_count": 1,
   "metadata": {},
   "outputs": [],
   "source": [
    "import numpy as np\n",
    "import tensorflow as tf"
   ]
  },
  {
   "cell_type": "markdown",
   "metadata": {},
   "source": [
    "### Task\n",
    "Create variable, x, e.g. x = 2a + b+ c^2\n",
    "Differentiate `x` wrt b, c and compute the result."
   ]
  },
  {
   "cell_type": "markdown",
   "metadata": {},
   "source": [
    "loss = y + c\n",
    "y = var_1 + var_2\n",
    "\n",
    "differentiate loss wrt var_1 and var_2 \n",
    "no need for placeholders"
   ]
  },
  {
   "cell_type": "code",
   "execution_count": 10,
   "metadata": {},
   "outputs": [
    {
     "name": "stdout",
     "output_type": "stream",
     "text": [
      "[2.0, 8.0, 75.0]\n"
     ]
    }
   ],
   "source": [
    "a = tf.Variable(2.,name='a')\n",
    "b = tf.Variable(4.,name='b')\n",
    "c  = tf.Variable(5.,name='c')\n",
    "y = 2*a + (b ** 2) + c**3\n",
    "grads = tf.gradients(ys=y,xs=[a,b,c])\n",
    "# print(grads)\n",
    "with tf.Session() as sess:\n",
    "    sess.run(tf.global_variables_initializer())\n",
    "    g = sess.run(grads)\n",
    "print(g)"
   ]
  },
  {
   "cell_type": "code",
   "execution_count": 11,
   "metadata": {},
   "outputs": [
    {
     "name": "stdout",
     "output_type": "stream",
     "text": [
      "1.8 3.2 -10.0\n"
     ]
    }
   ],
   "source": [
    "grads_and_vars = [_ for _ in zip(grads[:2],[a,b])]\n",
    "optimizer = tf.train.GradientDescentOptimizer(0.1).apply_gradients(grads_and_vars)\n",
    "optimizer2 = tf.train.GradientDescentOptimizer(0.2).apply_gradients([(grads[-1],c)])\n",
    "opt = tf.group(optimizer,optimizer2)\n",
    "sess = tf.Session()\n",
    "sess.run(tf.global_variables_initializer())\n",
    "_, a,b,c = sess.run([opt,a,b,c])\n",
    "print(a,b,c)"
   ]
  },
  {
   "cell_type": "code",
   "execution_count": 9,
   "metadata": {},
   "outputs": [
    {
     "data": {
      "text/plain": [
       "[<tf.Tensor 'Placeholder_7:0' shape=() dtype=float32>,\n",
       " <tf.Tensor 'Placeholder_8:0' shape=() dtype=float32>,\n",
       " <tf.Tensor 'Placeholder_9:0' shape=() dtype=float32>,\n",
       " <tf.Tensor 'Placeholder_10:0' shape=() dtype=float32>,\n",
       " <tf.Tensor 'Placeholder_11:0' shape=() dtype=float32>,\n",
       " <tf.Tensor 'Placeholder_12:0' shape=() dtype=float32>]"
      ]
     },
     "execution_count": 9,
     "metadata": {},
     "output_type": "execute_result"
    }
   ],
   "source": [
    "x = [tf.placeholder(dtype= tf.float32, shape=[]) for _ in range(6)]\n",
    "x"
   ]
  },
  {
   "cell_type": "code",
   "execution_count": 14,
   "metadata": {},
   "outputs": [
    {
     "data": {
      "text/plain": [
       "70"
      ]
     },
     "execution_count": 14,
     "metadata": {},
     "output_type": "execute_result"
    }
   ],
   "source": [
    "int(\"13243_70.png\".split('_')[-1].split('.')[0])"
   ]
  },
  {
   "cell_type": "code",
   "execution_count": null,
   "metadata": {},
   "outputs": [],
   "source": []
  }
 ],
 "metadata": {
  "kernelspec": {
   "display_name": "Python 3",
   "language": "python",
   "name": "python3"
  },
  "language_info": {
   "codemirror_mode": {
    "name": "ipython",
    "version": 3
   },
   "file_extension": ".py",
   "mimetype": "text/x-python",
   "name": "python",
   "nbconvert_exporter": "python",
   "pygments_lexer": "ipython3",
   "version": "3.5.2"
  }
 },
 "nbformat": 4,
 "nbformat_minor": 2
}
