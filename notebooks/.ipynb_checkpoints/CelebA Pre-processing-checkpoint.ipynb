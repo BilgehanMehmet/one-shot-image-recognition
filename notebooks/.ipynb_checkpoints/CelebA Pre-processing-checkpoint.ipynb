{
 "cells": [
  {
   "cell_type": "code",
   "execution_count": 4,
   "metadata": {},
   "outputs": [
    {
     "ename": "ImportError",
     "evalue": "cannot import name 'MNIST'",
     "output_type": "error",
     "traceback": [
      "\u001b[0;31m---------------------------------------------------------------------------\u001b[0m",
      "\u001b[0;31mImportError\u001b[0m                               Traceback (most recent call last)",
      "\u001b[0;32m<ipython-input-4-0ff3c54c61f9>\u001b[0m in \u001b[0;36m<module>\u001b[0;34m\u001b[0m\n\u001b[0;32m----> 1\u001b[0;31m \u001b[0;32mfrom\u001b[0m \u001b[0mmnist\u001b[0m \u001b[0;32mimport\u001b[0m \u001b[0mMNIST\u001b[0m\u001b[0;34m\u001b[0m\u001b[0m\n\u001b[0m\u001b[1;32m      2\u001b[0m \u001b[0;32mfrom\u001b[0m \u001b[0mloader\u001b[0m \u001b[0;32mimport\u001b[0m \u001b[0mLoader\u001b[0m\u001b[0;34m\u001b[0m\u001b[0m\n\u001b[1;32m      3\u001b[0m \u001b[0;32mimport\u001b[0m \u001b[0mtensorflow\u001b[0m \u001b[0;32mas\u001b[0m \u001b[0mtf\u001b[0m\u001b[0;34m\u001b[0m\u001b[0m\n\u001b[1;32m      4\u001b[0m \u001b[0;32mimport\u001b[0m \u001b[0mnumpy\u001b[0m \u001b[0;32mas\u001b[0m \u001b[0mnp\u001b[0m\u001b[0;34m\u001b[0m\u001b[0m\n\u001b[1;32m      5\u001b[0m \u001b[0;32mimport\u001b[0m \u001b[0mcv2\u001b[0m\u001b[0;34m\u001b[0m\u001b[0m\n",
      "\u001b[0;31mImportError\u001b[0m: cannot import name 'MNIST'"
     ]
    }
   ],
   "source": [
    "from mnist import MNIST\n",
    "from loader import Loader\n",
    "import tensorflow as tf\n",
    "import numpy as np\n",
    "import cv2\n",
    "from utils import plot,get_val_acc\n",
    "import matplotlib.pyplot as plt\n",
    "import gzip\n",
    "import os\n",
    "import matplotlib.pyplot as plt\n",
    "\n",
    "def unzip(path,offset):\n",
    "    with gzip.open(path,'rb') as f:\n",
    "        data = np.frombuffer(f.read(),np.uint8,offset=offset)\n",
    "        data = data.reshape(10000,-1)\n",
    "    return data\n",
    "\n",
    "def sort_mnist(imgs,labels):\n",
    "    for i in range(labels.shape[1]):\n",
    "        min_idx = i\n",
    "        for j in range(i+1,labels.shape[1]):\n",
    "            if labels[0,min_idx] > labels[0,j]:\n",
    "                min_idx = j\n",
    "        labels[0,i],labels[0,min_idx] = labels[0,min_idx].copy(),labels[0,i].copy()\n",
    "        temp, imgs[min_idx,:] = imgs[min_idx,:].copy(), imgs[i,:].copy()\n",
    "        imgs[i,:] = temp\n",
    "    return imgs,labels\n",
    "\n",
    "\n",
    "def reset_write_flags(data):\n",
    "    data.setflags(write=1) if not data.flags.writeable else None\n",
    "\n",
    "\n",
    "\n",
    "def plot(X):\n",
    "    plt.imshow(X,cmap='gray')\n",
    "    plt.show()\n",
    "    \n",
    "\n",
    "    \n",
    "def generate_mnist_data(data,labels,length):\n",
    "    '''\n",
    "    for each char:\n",
    "        get the #occurences\n",
    "        generate the random int range for size of =length\n",
    "        write current char into buffer along axis=0\n",
    "    '''\n",
    "    buffer = []\n",
    "    prv_char_occ = 0\n",
    "    for char in range(10):\n",
    "        char_occ = np.shape(np.argwhere(labels==char))[0]\n",
    "        buffer.append(data[np.random.randint(low=prv_char_occ,high=char_occ + prv_char_occ,size=length)])\n",
    "        prv_char_occ += char_occ\n",
    "    return np.asarray(buffer)\n",
    "\n",
    "# data.X.reshape().shape\n",
    "def rescale(X,_from,_to):\n",
    "    X = X.reshape((-1,) + _from)\n",
    "    X.shape\n",
    "    X_rescaled = []\n",
    "    for idx in range(X.shape[0]):\n",
    "        X_rescaled.append(cv2.resize(X[idx],_to,interpolation=cv2.INTER_AREA).reshape(_to + (1,)))\n",
    "    return X_rescaled\n",
    "     \n",
    "    \n",
    "def normalise(X,shape,drawers=20):\n",
    "    X = X.reshape(-1,shape[0]*shape[1])\n",
    "    mu = np.mean(X,axis=0).reshape(1,shape[0]*shape[1])\n",
    "    std = np.std(X,axis=0).reshape(1,shape[0]*shape[1])\n",
    "    X = np.subtract(X,mu)\n",
    "    X /=std + 1e-10\n",
    "    X = X.reshape((-1,) + (drawers,) + shape + (1,))\n",
    "    # X = X / 255.\n",
    "    return X\n",
    "\n",
    "\n",
    "\n",
    "def generateOneShotTrials(X,size):\n",
    "    '''\n",
    "    Generates one shot trial for the data given where one one-shot trial is comparing one image against n-images.\n",
    "    Therefore, comparing 20 different images against 20 images is 20 one-shot trials of each trial being 20-way.\n",
    "\n",
    "    Arguments:\n",
    "    data -- shape = (n_chars, n_drawers, 105, 105, 1)\n",
    "\n",
    "    Returns:\n",
    "    trainImgs -- shape  (20,105,105,1)\n",
    "    testImgs -- shape (20,105,105,1)\n",
    "    labels -- shape(1,20)\n",
    "    '''\n",
    "    chars = np.random.randint(low= 0,high= X.shape[0],size=size)\n",
    "    drawers = np.random.randint(low=0 ,high=X[chars].shape[1],size=2) if X.shape[1] > 2 else np.random.permutation(2)\n",
    "    testImgs = X[chars,drawers[0]]\n",
    "    trainImgs = X[chars,drawers[1]]\n",
    "    labels = chars\n",
    "    return (testImgs,trainImgs,labels.reshape(1,size))\n",
    "\n"
   ]
  },
  {
   "cell_type": "code",
   "execution_count": 2,
   "metadata": {},
   "outputs": [
    {
     "name": "stdout",
     "output_type": "stream",
     "text": [
      "(10000, 28, 28)\n",
      "(1, 10000)\n"
     ]
    },
    {
     "data": {
      "image/png": "[encoded data removed]",
      "text/plain": [
       "<Figure size 432x288 with 1 Axes>"
      ]
     },
     "metadata": {
      "needs_background": "light"
     },
     "output_type": "display_data"
    },
    {
     "name": "stdout",
     "output_type": "stream",
     "text": [
      "char 0 occurences:\t980\n",
      "char 1 occurences:\t1135\n",
      "char 2 occurences:\t1032\n",
      "char 3 occurences:\t1010\n",
      "char 4 occurences:\t982\n",
      "char 5 occurences:\t892\n",
      "char 6 occurences:\t958\n",
      "char 7 occurences:\t1028\n",
      "char 8 occurences:\t974\n",
      "char 9 occurences:\t1009\n"
     ]
    },
    {
     "data": {
      "image/png": "[encoded data removed]",
      "text/plain": [
       "<Figure size 432x288 with 1 Axes>"
      ]
     },
     "metadata": {
      "needs_background": "light"
     },
     "output_type": "display_data"
    },
    {
     "data": {
      "image/png": "[encoded data removed]",
      "text/plain": [
       "<Figure size 432x288 with 1 Axes>"
      ]
     },
     "metadata": {
      "needs_background": "light"
     },
     "output_type": "display_data"
    },
    {
     "data": {
      "image/png": "[encoded data removed]",
      "text/plain": [
       "<Figure size 432x288 with 1 Axes>"
      ]
     },
     "metadata": {
      "needs_background": "light"
     },
     "output_type": "display_data"
    },
    {
     "data": {
      "image/png": "[encoded data removed]",
      "text/plain": [
       "<Figure size 432x288 with 1 Axes>"
      ]
     },
     "metadata": {
      "needs_background": "light"
     },
     "output_type": "display_data"
    },
    {
     "data": {
      "image/png": "[encoded data removed]",
      "text/plain": [
       "<Figure size 432x288 with 1 Axes>"
      ]
     },
     "metadata": {
      "needs_background": "light"
     },
     "output_type": "display_data"
    },
    {
     "data": {
      "image/png": "[encoded data removed]",
      "text/plain": [
       "<Figure size 432x288 with 1 Axes>"
      ]
     },
     "metadata": {
      "needs_background": "light"
     },
     "output_type": "display_data"
    },
    {
     "data": {
      "image/png": "[encoded data removed]",
      "text/plain": [
       "<Figure size 432x288 with 1 Axes>"
      ]
     },
     "metadata": {
      "needs_background": "light"
     },
     "output_type": "display_data"
    },
    {
     "data": {
      "image/png": "[encoded data removed]",
      "text/plain": [
       "<Figure size 432x288 with 1 Axes>"
      ]
     },
     "metadata": {
      "needs_background": "light"
     },
     "output_type": "display_data"
    },
    {
     "data": {
      "image/png": "[encoded data removed]",
      "text/plain": [
       "<Figure size 432x288 with 1 Axes>"
      ]
     },
     "metadata": {
      "needs_background": "light"
     },
     "output_type": "display_data"
    },
    {
     "data": {
      "image/png": "[encoded data removed]",
      "text/plain": [
       "<Figure size 432x288 with 1 Axes>"
      ]
     },
     "metadata": {
      "needs_background": "light"
     },
     "output_type": "display_data"
    },
    {
     "data": {
      "image/png": "[encoded data removed]",
      "text/plain": [
       "<Figure size 432x288 with 1 Axes>"
      ]
     },
     "metadata": {
      "needs_background": "light"
     },
     "output_type": "display_data"
    },
    {
     "data": {
      "image/png": "[encoded data removed]",
      "text/plain": [
       "<Figure size 432x288 with 1 Axes>"
      ]
     },
     "metadata": {
      "needs_background": "light"
     },
     "output_type": "display_data"
    },
    {
     "data": {
      "image/png": "[encoded data removed]",
      "text/plain": [
       "<Figure size 432x288 with 1 Axes>"
      ]
     },
     "metadata": {
      "needs_background": "light"
     },
     "output_type": "display_data"
    },
    {
     "data": {
      "image/png": "[encoded data removed]",
      "text/plain": [
       "<Figure size 432x288 with 1 Axes>"
      ]
     },
     "metadata": {
      "needs_background": "light"
     },
     "output_type": "display_data"
    },
    {
     "data": {
      "image/png": "[encoded data removed]",
      "text/plain": [
       "<Figure size 432x288 with 1 Axes>"
      ]
     },
     "metadata": {
      "needs_background": "light"
     },
     "output_type": "display_data"
    },
    {
     "data": {
      "image/png": "[encoded data removed]",
      "text/plain": [
       "<Figure size 432x288 with 1 Axes>"
      ]
     },
     "metadata": {
      "needs_background": "light"
     },
     "output_type": "display_data"
    },
    {
     "data": {
      "image/png": "[encoded data removed]",
      "text/plain": [
       "<Figure size 432x288 with 1 Axes>"
      ]
     },
     "metadata": {
      "needs_background": "light"
     },
     "output_type": "display_data"
    },
    {
     "data": {
      "image/png": "[encoded data removed]",
      "text/plain": [
       "<Figure size 432x288 with 1 Axes>"
      ]
     },
     "metadata": {
      "needs_background": "light"
     },
     "output_type": "display_data"
    },
    {
     "data": {
      "image/png": "[encoded data removed]",
      "text/plain": [
       "<Figure size 432x288 with 1 Axes>"
      ]
     },
     "metadata": {
      "needs_background": "light"
     },
     "output_type": "display_data"
    },
    {
     "data": {
      "image/png": "[encoded data removed]",
      "text/plain": [
       "<Figure size 432x288 with 1 Axes>"
      ]
     },
     "metadata": {
      "needs_background": "light"
     },
     "output_type": "display_data"
    },
    {
     "data": {
      "image/png": "[encoded data removed]",
      "text/plain": [
       "<Figure size 432x288 with 1 Axes>"
      ]
     },
     "metadata": {
      "needs_background": "light"
     },
     "output_type": "display_data"
    }
   ],
   "source": [
    "tf.reset_default_graph()\n",
    "nn = MNIST(shape=(35,35))\n",
    "nn.forward_prop()\n",
    "nn.compute_cost(mode=\"l2_on\")\n",
    "nn.optimize(\"Momentum\")\n",
    "nn.accuracy()\n",
    "\n",
    "\n",
    "   \n",
    "imgs = unzip(os.path.join('/floyd/home','t10k-images-idx3-ubyte.gz'),offset = 16).reshape(-1,28,28)\n",
    "labels = unzip(os.path.join('/floyd/home','t10k-labels-idx1-ubyte.gz'), offset = 8).T\n",
    "\n",
    "print(imgs.shape)\n",
    "print(labels.shape)\n",
    "\n",
    "plt.imshow(imgs[0].reshape(28,28),cmap='gray')\n",
    "plt.show()\n",
    "\n",
    "type(labels)\n",
    "\n",
    "reset_write_flags(labels)\n",
    "reset_write_flags(imgs)\n",
    "imgs.flags\n",
    "imgs, labels = sort_mnist(imgs,labels)\n",
    "\n",
    "for i in range(10):\n",
    "    print(\"char {} occurences:\\t{}\".format(i,np.shape(np.argwhere(labels==i))[0]))\n",
    "    \n",
    "\n",
    "mnist_one_shot = generate_mnist_data(imgs,labels,length = 20).reshape(-1,20,28,28,1)\n",
    "\n",
    "for i in range(20):\n",
    "    plot(mnist_one_shot[2,i].reshape(28,28))\n",
    "    \n",
    "    \n",
    "mnist_rescaled = np.asarray(rescale(mnist_one_shot,_from=(28,28),_to=(35,35)),dtype=np.float32).reshape(10,-1,35,35,1)\n",
    "normalised_mnist = normalise(mnist_rescaled,shape=(35,35),drawers=20)\n",
    "plt.imshow(normalised_mnist[1,1].reshape(35,35),cmap='gray')\n",
    "plt.show()\n",
    "print(normalised_mnist.shaoe)"
   ]
  },
  {
   "cell_type": "code",
   "execution_count": 3,
   "metadata": {},
   "outputs": [
    {
     "data": {
      "text/plain": [
       "array([[0, 0, 0, ..., 9, 9, 9]], dtype=uint8)"
      ]
     },
     "execution_count": 3,
     "metadata": {},
     "output_type": "execute_result"
    }
   ],
   "source": [
    "labels"
   ]
  },
  {
   "cell_type": "code",
   "execution_count": 13,
   "metadata": {},
   "outputs": [
    {
     "name": "stdout",
     "output_type": "stream",
     "text": [
      "INFO:tensorflow:Restoring parameters from /floyd/home/conv_siamese_model_50.ckpt\n",
      "One-shot accuracy:0.68\n"
     ]
    }
   ],
   "source": [
    "saver = tf.train.Saver()\n",
    "\n",
    "n_trials_per_iter = 5\n",
    "n_trials = n_trials_per_iter * 40\n",
    "with tf.Session() as sess:\n",
    "    saver.restore(sess,\"/floyd/home/conv_siamese_model_50.ckpt\")\n",
    "#     print(\"conv_siamese_model_70.ckpt is restored.\")\n",
    "    val_acc = 0\n",
    "    one_shot_acc = 0\n",
    "    for _ in range(n_trials // n_trials_per_iter): \n",
    "        one_shot_test_imgs, one_shot_train_imgs, one_shot_labels = generateOneShotTrials(mnist_rescaled,size=n_trials_per_iter)          \n",
    "        one_shot_acc += get_val_acc(one_shot_test_imgs,one_shot_train_imgs,one_shot_labels,sess,nn,shape=(35,35))\n",
    "    one_shot_acc /= n_trials\n",
    "print(\"One-shot accuracy:{}\".format(one_shot_acc))"
   ]
  },
  {
   "cell_type": "markdown",
   "metadata": {},
   "source": [
    "# CelebA Data"
   ]
  },
  {
   "cell_type": "code",
   "execution_count": 24,
   "metadata": {},
   "outputs": [],
   "source": [
    "import numpy as np\n",
    "import os\n",
    "import cv2"
   ]
  },
  {
   "cell_type": "code",
   "execution_count": null,
   "metadata": {},
   "outputs": [
    {
     "name": "stderr",
     "output_type": "stream",
     "text": [
      "ERROR:root:Internal Python error in the inspect module.\n",
      "Below is the traceback from this internal error.\n",
      "\n"
     ]
    },
    {
     "name": "stdout",
     "output_type": "stream",
     "text": [
      "Traceback (most recent call last):\n",
      "  File \"/Users/mehmetbezcioglu/miniconda3/envs/env352/lib/python3.5/site-packages/IPython/core/interactiveshell.py\", line 3265, in run_code\n",
      "    exec(code_obj, self.user_global_ns, self.user_ns)\n",
      "  File \"<ipython-input-25-7ed3f06d247d>\", line 16, in <module>\n",
      "    images.append(cv2.imread(os.path.join(root,file),cv2.IMREAD_COLOR))\n",
      "KeyboardInterrupt\n",
      "\n",
      "During handling of the above exception, another exception occurred:\n",
      "\n",
      "Traceback (most recent call last):\n",
      "  File \"/Users/mehmetbezcioglu/miniconda3/envs/env352/lib/python3.5/site-packages/IPython/core/interactiveshell.py\", line 3265, in run_code\n",
      "    exec(code_obj, self.user_global_ns, self.user_ns)\n",
      "KeyboardInterrupt\n",
      "\n",
      "During handling of the above exception, another exception occurred:\n",
      "\n",
      "Traceback (most recent call last):\n",
      "  File \"/Users/mehmetbezcioglu/miniconda3/envs/env352/lib/python3.5/site-packages/IPython/core/interactiveshell.py\", line 2016, in showtraceback\n",
      "    stb = value._render_traceback_()\n",
      "AttributeError: 'KeyboardInterrupt' object has no attribute '_render_traceback_'\n",
      "\n",
      "During handling of the above exception, another exception occurred:\n",
      "\n",
      "Traceback (most recent call last):\n",
      "  File \"/Users/mehmetbezcioglu/miniconda3/envs/env352/lib/python3.5/site-packages/IPython/core/ultratb.py\", line 1095, in get_records\n",
      "    return _fixed_getinnerframes(etb, number_of_lines_of_context, tb_offset)\n",
      "  File \"/Users/mehmetbezcioglu/miniconda3/envs/env352/lib/python3.5/site-packages/IPython/core/ultratb.py\", line 313, in wrapped\n",
      "    return f(*args, **kwargs)\n",
      "  File \"/Users/mehmetbezcioglu/miniconda3/envs/env352/lib/python3.5/site-packages/IPython/core/ultratb.py\", line 347, in _fixed_getinnerframes\n",
      "    records = fix_frame_records_filenames(inspect.getinnerframes(etb, context))\n",
      "  File \"/Users/mehmetbezcioglu/miniconda3/envs/env352/lib/python3.5/inspect.py\", line 1453, in getinnerframes\n",
      "    frameinfo = (tb.tb_frame,) + getframeinfo(tb, context)\n",
      "  File \"/Users/mehmetbezcioglu/miniconda3/envs/env352/lib/python3.5/inspect.py\", line 1410, in getframeinfo\n",
      "    filename = getsourcefile(frame) or getfile(frame)\n",
      "  File \"/Users/mehmetbezcioglu/miniconda3/envs/env352/lib/python3.5/inspect.py\", line 672, in getsourcefile\n",
      "    if getattr(getmodule(object, filename), '__loader__', None) is not None:\n",
      "  File \"/Users/mehmetbezcioglu/miniconda3/envs/env352/lib/python3.5/inspect.py\", line 718, in getmodule\n",
      "    os.path.realpath(f)] = module.__name__\n",
      "KeyboardInterrupt\n"
     ]
    },
    {
     "ename": "KeyboardInterrupt",
     "evalue": "",
     "output_type": "error",
     "traceback": [
      "\u001b[0;31m---------------------------------------------------------------------------\u001b[0m",
      "\nDuring handling of the above exception, another exception occurred:\n",
      "\u001b[0;31mKeyboardInterrupt\u001b[0m                         Traceback (most recent call last)",
      "\u001b[0;31mKeyboardInterrupt\u001b[0m: "
     ]
    }
   ],
   "source": [
    "file_name = \"/Users/mehmetbezcioglu/Documents/SEMESTER1/DeepLearning/one_shot_learning/image_similarity/datasets/celeba-dataset/identity_CelebA.txt\"\n",
    "labels = []\n",
    "file = open(file_name)\n",
    "for line in file:\n",
    "    try:\n",
    "        labels.append(int(line.split(' ')[-1]))\n",
    "    except ValueError:\n",
    "        print(\"ValueError instance.\")\n",
    "        labels.append('ValueError Occurred')\n",
    "file.close()\n",
    "\n",
    "images = []\n",
    "for root,_,files in os.walk('/Users/mehmetbezcioglu/Documents/SEMESTER1/DeepLearning/one_shot_learning/image_similarity/datasets/celeba-dataset/img_align_celeba'):\n",
    "    for file in files:\n",
    "        if '.jpg' in file:\n",
    "            images.append(cv2.imread(os.path.join(root,file),cv2.IMREAD_COLOR))\n"
   ]
  },
  {
   "cell_type": "code",
   "execution_count": null,
   "metadata": {},
   "outputs": [],
   "source": [
    "labels = np.asarray(labels).reshape(1,-1)\n",
    "images = np.asarray(images).reshape(len(images),-1)\n",
    "labels.shape"
   ]
  },
  {
   "cell_type": "code",
   "execution_count": 18,
   "metadata": {},
   "outputs": [
    {
     "data": {
      "text/plain": [
       "10177"
      ]
     },
     "execution_count": 18,
     "metadata": {},
     "output_type": "execute_result"
    }
   ],
   "source": [
    "np.argwhere(labels==2880).shape[0]\n",
    "np.max(labels)"
   ]
  },
  {
   "cell_type": "code",
   "execution_count": 19,
   "metadata": {},
   "outputs": [],
   "source": [
    "def sort_celebA(imgs,labels):\n",
    "    for i in range(labels.shape[1]):\n",
    "        min_idx = i\n",
    "        for j in range(i+1,labels.shape[1]):\n",
    "            if labels[0,min_idx] > labels[0,j]:\n",
    "                min_idx = j\n",
    "        labels[0,i],labels[0,min_idx] = labels[0,min_idx].copy(),labels[0,i].copy()\n",
    "        temp, imgs[min_idx,:] = imgs[min_idx,:].copy(), imgs[i,:].copy()\n",
    "        imgs[i,:] = temp\n",
    "    return imgs,labels\n",
    "\n",
    "def generate_celebA_data(data,labels,length):\n",
    "    '''\n",
    "    for each char:\n",
    "        get the #occurences\n",
    "        generate the random int range for size of =length\n",
    "        write current char into buffer along axis=0\n",
    "    '''\n",
    "    buffer = []\n",
    "    prv_char_occ = 0\n",
    "    for char in range(np.max(labels)):\n",
    "        char_occ = np.shape(np.argwhere(labels==char))[0]\n",
    "        buffer.append(data[np.random.randint(low=prv_char_occ,high=char_occ + prv_char_occ,size=length)])\n",
    "        prv_char_occ += char_occ\n",
    "    return np.asarray(buffer)\n"
   ]
  },
  {
   "cell_type": "code",
   "execution_count": null,
   "metadata": {},
   "outputs": [],
   "source": []
  }
 ],
 "metadata": {
  "kernelspec": {
   "display_name": "Python 3",
   "language": "python",
   "name": "python3"
  },
  "language_info": {
   "codemirror_mode": {
    "name": "ipython",
    "version": 3
   },
   "file_extension": ".py",
   "mimetype": "text/x-python",
   "name": "python",
   "nbconvert_exporter": "python",
   "pygments_lexer": "ipython3",
   "version": "3.5.2"
  }
 },
 "nbformat": 4,
 "nbformat_minor": 2
}
